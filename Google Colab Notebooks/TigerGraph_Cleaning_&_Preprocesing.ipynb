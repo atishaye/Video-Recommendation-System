{
  "nbformat": 4,
  "nbformat_minor": 0,
  "metadata": {
    "colab": {
      "name": "TigerGraph Cleaning & Preprocesing",
      "provenance": [],
      "collapsed_sections": [
        "cl-8opGkdUp7",
        "XT6g-D-xbmup",
        "XDK3ivq4iA6d"
      ],
      "toc_visible": true
    },
    "kernelspec": {
      "name": "python3",
      "display_name": "Python 3"
    },
    "language_info": {
      "name": "python"
    }
  },
  "cells": [
    {
      "cell_type": "markdown",
      "source": [
        "# 1. Utilties"
      ],
      "metadata": {
        "id": "cl-8opGkdUp7"
      }
    },
    {
      "cell_type": "markdown",
      "source": [
        "## 1.1 All files are available at this link\n",
        "### https://drive.google.com/drive/folders/1k1nDWr2p4p63X2LegnFjBwqRhmjBl-Uh?usp=sharing"
      ],
      "metadata": {
        "id": "68LR1G_2d7rn"
      }
    },
    {
      "cell_type": "markdown",
      "source": [
        "## 1.2 System Specs"
      ],
      "metadata": {
        "id": "NzWLznpOe3aH"
      }
    },
    {
      "cell_type": "code",
      "source": [
        "# Making sure how much of the available RAM is the notebook using when run on Google Colab\n",
        "import sys\n",
        "if 'google.colab' in sys.modules:\n",
        "  from psutil import virtual_memory\n",
        "  ram_gb = virtual_memory().total / 1e9\n",
        "  print('Your runtime has {:.1f} gigabytes of available RAM\\n'.format(ram_gb))\n",
        "\n",
        "  if ram_gb < 20:\n",
        "    print('Not using a high-RAM runtime')\n",
        "  else:\n",
        "    print('You are using a high-RAM runtime!')"
      ],
      "metadata": {
        "colab": {
          "base_uri": "https://localhost:8080/"
        },
        "id": "Pq6X0WBdcMs6",
        "outputId": "3845eac7-da7e-45f5-d549-544f0b554bc7"
      },
      "execution_count": null,
      "outputs": [
        {
          "output_type": "stream",
          "name": "stdout",
          "text": [
            "Your runtime has 13.6 gigabytes of available RAM\n",
            "\n",
            "Not using a high-RAM runtime\n"
          ]
        }
      ]
    },
    {
      "cell_type": "markdown",
      "source": [
        "## 1.3 Imports and Downloads"
      ],
      "metadata": {
        "id": "rw5xqBwfe6_u"
      }
    },
    {
      "cell_type": "code",
      "source": [
        "!pip install pandas spacy nltk autocorrect\n",
        "\n",
        "import re\n",
        "import csv\n",
        "import numpy as np\n",
        "import pandas as pd \n",
        "import spacy\n",
        "\n",
        "import nltk\n",
        "from nltk.corpus import stopwords\n",
        "from nltk.tokenize import word_tokenize \n",
        "from nltk.stem import PorterStemmer,WordNetLemmatizer\n",
        "from wordcloud import WordCloud\n",
        "import unicodedata\n",
        "\n",
        "from gensim.parsing.preprocessing import STOPWORDS as SW\n",
        "from wordcloud import WordCloud, STOPWORDS\n",
        "stopwords = set(STOPWORDS)\n",
        "from bs4 import BeautifulSoup\n",
        "import string \n",
        "from os import listdir\n",
        "from autocorrect import Speller \n",
        "\n",
        "nltk.download('punkt')\n",
        "nltk.download('stopwords')\n",
        "nltk.download('wordnet')\n",
        "nltk.download('averaged_perceptron_tagger')\n",
        "nltk.download('maxent_ne_chunker')"
      ],
      "metadata": {
        "id": "TM-AlN0mjyYM",
        "colab": {
          "base_uri": "https://localhost:8080/"
        },
        "outputId": "b809af39-4a37-430c-b03b-358b8e4e8039"
      },
      "execution_count": null,
      "outputs": [
        {
          "output_type": "stream",
          "name": "stdout",
          "text": [
            "Requirement already satisfied: pandas in /usr/local/lib/python3.7/dist-packages (1.3.5)\n",
            "Requirement already satisfied: spacy in /usr/local/lib/python3.7/dist-packages (2.2.4)\n",
            "Requirement already satisfied: nltk in /usr/local/lib/python3.7/dist-packages (3.2.5)\n",
            "Collecting autocorrect\n",
            "  Downloading autocorrect-2.6.1.tar.gz (622 kB)\n",
            "\u001b[K     |████████████████████████████████| 622 kB 11.9 MB/s \n",
            "\u001b[?25hRequirement already satisfied: python-dateutil>=2.7.3 in /usr/local/lib/python3.7/dist-packages (from pandas) (2.8.2)\n",
            "Requirement already satisfied: numpy>=1.17.3 in /usr/local/lib/python3.7/dist-packages (from pandas) (1.21.5)\n",
            "Requirement already satisfied: pytz>=2017.3 in /usr/local/lib/python3.7/dist-packages (from pandas) (2018.9)\n",
            "Requirement already satisfied: six>=1.5 in /usr/local/lib/python3.7/dist-packages (from python-dateutil>=2.7.3->pandas) (1.15.0)\n",
            "Requirement already satisfied: cymem<2.1.0,>=2.0.2 in /usr/local/lib/python3.7/dist-packages (from spacy) (2.0.6)\n",
            "Requirement already satisfied: preshed<3.1.0,>=3.0.2 in /usr/local/lib/python3.7/dist-packages (from spacy) (3.0.6)\n",
            "Requirement already satisfied: setuptools in /usr/local/lib/python3.7/dist-packages (from spacy) (57.4.0)\n",
            "Requirement already satisfied: thinc==7.4.0 in /usr/local/lib/python3.7/dist-packages (from spacy) (7.4.0)\n",
            "Requirement already satisfied: murmurhash<1.1.0,>=0.28.0 in /usr/local/lib/python3.7/dist-packages (from spacy) (1.0.6)\n",
            "Requirement already satisfied: srsly<1.1.0,>=1.0.2 in /usr/local/lib/python3.7/dist-packages (from spacy) (1.0.5)\n",
            "Requirement already satisfied: blis<0.5.0,>=0.4.0 in /usr/local/lib/python3.7/dist-packages (from spacy) (0.4.1)\n",
            "Requirement already satisfied: tqdm<5.0.0,>=4.38.0 in /usr/local/lib/python3.7/dist-packages (from spacy) (4.63.0)\n",
            "Requirement already satisfied: plac<1.2.0,>=0.9.6 in /usr/local/lib/python3.7/dist-packages (from spacy) (1.1.3)\n",
            "Requirement already satisfied: requests<3.0.0,>=2.13.0 in /usr/local/lib/python3.7/dist-packages (from spacy) (2.23.0)\n",
            "Requirement already satisfied: catalogue<1.1.0,>=0.0.7 in /usr/local/lib/python3.7/dist-packages (from spacy) (1.0.0)\n",
            "Requirement already satisfied: wasabi<1.1.0,>=0.4.0 in /usr/local/lib/python3.7/dist-packages (from spacy) (0.9.0)\n",
            "Requirement already satisfied: importlib-metadata>=0.20 in /usr/local/lib/python3.7/dist-packages (from catalogue<1.1.0,>=0.0.7->spacy) (4.11.2)\n",
            "Requirement already satisfied: zipp>=0.5 in /usr/local/lib/python3.7/dist-packages (from importlib-metadata>=0.20->catalogue<1.1.0,>=0.0.7->spacy) (3.7.0)\n",
            "Requirement already satisfied: typing-extensions>=3.6.4 in /usr/local/lib/python3.7/dist-packages (from importlib-metadata>=0.20->catalogue<1.1.0,>=0.0.7->spacy) (3.10.0.2)\n",
            "Requirement already satisfied: certifi>=2017.4.17 in /usr/local/lib/python3.7/dist-packages (from requests<3.0.0,>=2.13.0->spacy) (2021.10.8)\n",
            "Requirement already satisfied: urllib3!=1.25.0,!=1.25.1,<1.26,>=1.21.1 in /usr/local/lib/python3.7/dist-packages (from requests<3.0.0,>=2.13.0->spacy) (1.24.3)\n",
            "Requirement already satisfied: idna<3,>=2.5 in /usr/local/lib/python3.7/dist-packages (from requests<3.0.0,>=2.13.0->spacy) (2.10)\n",
            "Requirement already satisfied: chardet<4,>=3.0.2 in /usr/local/lib/python3.7/dist-packages (from requests<3.0.0,>=2.13.0->spacy) (3.0.4)\n",
            "Building wheels for collected packages: autocorrect\n",
            "  Building wheel for autocorrect (setup.py) ... \u001b[?25l\u001b[?25hdone\n",
            "  Created wheel for autocorrect: filename=autocorrect-2.6.1-py3-none-any.whl size=622382 sha256=5d462b59469770d4a1fc5f0157f2eb460120591bdf959a9ad782f4129b0cd79c\n",
            "  Stored in directory: /root/.cache/pip/wheels/54/d4/37/8244101ad50b0f7d9bffd93ce58ed7991ee1753b290923934b\n",
            "Successfully built autocorrect\n",
            "Installing collected packages: autocorrect\n",
            "Successfully installed autocorrect-2.6.1\n",
            "[nltk_data] Downloading package punkt to /root/nltk_data...\n",
            "[nltk_data]   Unzipping tokenizers/punkt.zip.\n",
            "[nltk_data] Downloading package stopwords to /root/nltk_data...\n",
            "[nltk_data]   Unzipping corpora/stopwords.zip.\n",
            "[nltk_data] Downloading package wordnet to /root/nltk_data...\n",
            "[nltk_data]   Unzipping corpora/wordnet.zip.\n",
            "[nltk_data] Downloading package averaged_perceptron_tagger to\n",
            "[nltk_data]     /root/nltk_data...\n",
            "[nltk_data]   Unzipping taggers/averaged_perceptron_tagger.zip.\n",
            "[nltk_data] Downloading package maxent_ne_chunker to\n",
            "[nltk_data]     /root/nltk_data...\n",
            "[nltk_data]   Unzipping chunkers/maxent_ne_chunker.zip.\n"
          ]
        },
        {
          "output_type": "execute_result",
          "data": {
            "text/plain": [
              "True"
            ]
          },
          "metadata": {},
          "execution_count": 2
        }
      ]
    },
    {
      "cell_type": "markdown",
      "source": [
        "#Load and Prepare Dataset"
      ],
      "metadata": {
        "id": "XT6g-D-xbmup"
      }
    },
    {
      "cell_type": "markdown",
      "source": [
        "## 2.1 Reading & Extracting Transcript"
      ],
      "metadata": {
        "id": "YiiJtPU8f-xH"
      }
    },
    {
      "cell_type": "code",
      "source": [
        "dataset= pd.read_csv('Transcripts.csv')"
      ],
      "metadata": {
        "id": "8Nz4nJSxbqiU"
      },
      "execution_count": null,
      "outputs": []
    },
    {
      "cell_type": "code",
      "source": [
        "dataset.head(7)"
      ],
      "metadata": {
        "colab": {
          "base_uri": "https://localhost:8080/",
          "height": 269
        },
        "id": "uL_efgy_b2MQ",
        "outputId": "7b36b1a9-dce3-408c-f45a-9dfffd74ad5d"
      },
      "execution_count": null,
      "outputs": [
        {
          "output_type": "execute_result",
          "data": {
            "text/html": [
              "\n",
              "  <div id=\"df-32c7e969-bac7-4ef6-a027-bbfff1346b9d\">\n",
              "    <div class=\"colab-df-container\">\n",
              "      <div>\n",
              "<style scoped>\n",
              "    .dataframe tbody tr th:only-of-type {\n",
              "        vertical-align: middle;\n",
              "    }\n",
              "\n",
              "    .dataframe tbody tr th {\n",
              "        vertical-align: top;\n",
              "    }\n",
              "\n",
              "    .dataframe thead th {\n",
              "        text-align: right;\n",
              "    }\n",
              "</style>\n",
              "<table border=\"1\" class=\"dataframe\">\n",
              "  <thead>\n",
              "    <tr style=\"text-align: right;\">\n",
              "      <th></th>\n",
              "      <th>title</th>\n",
              "      <th>transcript</th>\n",
              "    </tr>\n",
              "  </thead>\n",
              "  <tbody>\n",
              "    <tr>\n",
              "      <th>0</th>\n",
              "      <td>astronomy</td>\n",
              "      <td>astronomy literally meaning the science that s...</td>\n",
              "    </tr>\n",
              "    <tr>\n",
              "      <th>1</th>\n",
              "      <td>white dwarf</td>\n",
              "      <td>a white dwarf also called a degenerate dwarf i...</td>\n",
              "    </tr>\n",
              "    <tr>\n",
              "      <th>2</th>\n",
              "      <td>chimp</td>\n",
              "      <td>chimpanzees are great apes found across centra...</td>\n",
              "    </tr>\n",
              "    <tr>\n",
              "      <th>3</th>\n",
              "      <td>crypto</td>\n",
              "      <td>what are the top four crypto exchanges india w...</td>\n",
              "    </tr>\n",
              "    <tr>\n",
              "      <th>4</th>\n",
              "      <td>crypto_tax</td>\n",
              "      <td>india recently introduced crypto tax in the bu...</td>\n",
              "    </tr>\n",
              "    <tr>\n",
              "      <th>5</th>\n",
              "      <td>crypto_means</td>\n",
              "      <td>crypto is just one big ponzi and can change my...</td>\n",
              "    </tr>\n",
              "    <tr>\n",
              "      <th>6</th>\n",
              "      <td>digital_token</td>\n",
              "      <td>token from your next the word pawnshop in lieu...</td>\n",
              "    </tr>\n",
              "  </tbody>\n",
              "</table>\n",
              "</div>\n",
              "      <button class=\"colab-df-convert\" onclick=\"convertToInteractive('df-32c7e969-bac7-4ef6-a027-bbfff1346b9d')\"\n",
              "              title=\"Convert this dataframe to an interactive table.\"\n",
              "              style=\"display:none;\">\n",
              "        \n",
              "  <svg xmlns=\"http://www.w3.org/2000/svg\" height=\"24px\"viewBox=\"0 0 24 24\"\n",
              "       width=\"24px\">\n",
              "    <path d=\"M0 0h24v24H0V0z\" fill=\"none\"/>\n",
              "    <path d=\"M18.56 5.44l.94 2.06.94-2.06 2.06-.94-2.06-.94-.94-2.06-.94 2.06-2.06.94zm-11 1L8.5 8.5l.94-2.06 2.06-.94-2.06-.94L8.5 2.5l-.94 2.06-2.06.94zm10 10l.94 2.06.94-2.06 2.06-.94-2.06-.94-.94-2.06-.94 2.06-2.06.94z\"/><path d=\"M17.41 7.96l-1.37-1.37c-.4-.4-.92-.59-1.43-.59-.52 0-1.04.2-1.43.59L10.3 9.45l-7.72 7.72c-.78.78-.78 2.05 0 2.83L4 21.41c.39.39.9.59 1.41.59.51 0 1.02-.2 1.41-.59l7.78-7.78 2.81-2.81c.8-.78.8-2.07 0-2.86zM5.41 20L4 18.59l7.72-7.72 1.47 1.35L5.41 20z\"/>\n",
              "  </svg>\n",
              "      </button>\n",
              "      \n",
              "  <style>\n",
              "    .colab-df-container {\n",
              "      display:flex;\n",
              "      flex-wrap:wrap;\n",
              "      gap: 12px;\n",
              "    }\n",
              "\n",
              "    .colab-df-convert {\n",
              "      background-color: #E8F0FE;\n",
              "      border: none;\n",
              "      border-radius: 50%;\n",
              "      cursor: pointer;\n",
              "      display: none;\n",
              "      fill: #1967D2;\n",
              "      height: 32px;\n",
              "      padding: 0 0 0 0;\n",
              "      width: 32px;\n",
              "    }\n",
              "\n",
              "    .colab-df-convert:hover {\n",
              "      background-color: #E2EBFA;\n",
              "      box-shadow: 0px 1px 2px rgba(60, 64, 67, 0.3), 0px 1px 3px 1px rgba(60, 64, 67, 0.15);\n",
              "      fill: #174EA6;\n",
              "    }\n",
              "\n",
              "    [theme=dark] .colab-df-convert {\n",
              "      background-color: #3B4455;\n",
              "      fill: #D2E3FC;\n",
              "    }\n",
              "\n",
              "    [theme=dark] .colab-df-convert:hover {\n",
              "      background-color: #434B5C;\n",
              "      box-shadow: 0px 1px 3px 1px rgba(0, 0, 0, 0.15);\n",
              "      filter: drop-shadow(0px 1px 2px rgba(0, 0, 0, 0.3));\n",
              "      fill: #FFFFFF;\n",
              "    }\n",
              "  </style>\n",
              "\n",
              "      <script>\n",
              "        const buttonEl =\n",
              "          document.querySelector('#df-32c7e969-bac7-4ef6-a027-bbfff1346b9d button.colab-df-convert');\n",
              "        buttonEl.style.display =\n",
              "          google.colab.kernel.accessAllowed ? 'block' : 'none';\n",
              "\n",
              "        async function convertToInteractive(key) {\n",
              "          const element = document.querySelector('#df-32c7e969-bac7-4ef6-a027-bbfff1346b9d');\n",
              "          const dataTable =\n",
              "            await google.colab.kernel.invokeFunction('convertToInteractive',\n",
              "                                                     [key], {});\n",
              "          if (!dataTable) return;\n",
              "\n",
              "          const docLinkHtml = 'Like what you see? Visit the ' +\n",
              "            '<a target=\"_blank\" href=https://colab.research.google.com/notebooks/data_table.ipynb>data table notebook</a>'\n",
              "            + ' to learn more about interactive tables.';\n",
              "          element.innerHTML = '';\n",
              "          dataTable['output_type'] = 'display_data';\n",
              "          await google.colab.output.renderOutput(dataTable, element);\n",
              "          const docLink = document.createElement('div');\n",
              "          docLink.innerHTML = docLinkHtml;\n",
              "          element.appendChild(docLink);\n",
              "        }\n",
              "      </script>\n",
              "    </div>\n",
              "  </div>\n",
              "  "
            ],
            "text/plain": [
              "           title                                         transcript\n",
              "0      astronomy  astronomy literally meaning the science that s...\n",
              "1    white dwarf  a white dwarf also called a degenerate dwarf i...\n",
              "2          chimp  chimpanzees are great apes found across centra...\n",
              "3         crypto  what are the top four crypto exchanges india w...\n",
              "4     crypto_tax  india recently introduced crypto tax in the bu...\n",
              "5   crypto_means  crypto is just one big ponzi and can change my...\n",
              "6  digital_token  token from your next the word pawnshop in lieu..."
            ]
          },
          "metadata": {},
          "execution_count": 4
        }
      ]
    },
    {
      "cell_type": "code",
      "source": [
        "dataset.shape"
      ],
      "metadata": {
        "colab": {
          "base_uri": "https://localhost:8080/"
        },
        "id": "IkOJnfOWds0c",
        "outputId": "29bd835a-c389-41f8-c6da-b7d9fc846a61"
      },
      "execution_count": null,
      "outputs": [
        {
          "output_type": "execute_result",
          "data": {
            "text/plain": [
              "(25, 2)"
            ]
          },
          "metadata": {},
          "execution_count": 5
        }
      ]
    },
    {
      "cell_type": "code",
      "source": [
        "dataset.info"
      ],
      "metadata": {
        "id": "BSbc1FICBmvh",
        "colab": {
          "base_uri": "https://localhost:8080/"
        },
        "outputId": "21b5b4d9-2d29-4a1e-a0b5-a9ce107df640"
      },
      "execution_count": null,
      "outputs": [
        {
          "output_type": "execute_result",
          "data": {
            "text/plain": [
              "<bound method DataFrame.info of                 title                                         transcript\n",
              "0           astronomy  astronomy literally meaning the science that s...\n",
              "1         white dwarf  a white dwarf also called a degenerate dwarf i...\n",
              "2               chimp  chimpanzees are great apes found across centra...\n",
              "3              crypto  what are the top four crypto exchanges india w...\n",
              "4          crypto_tax  india recently introduced crypto tax in the bu...\n",
              "5        crypto_means  crypto is just one big ponzi and can change my...\n",
              "6       digital_token  token from your next the word pawnshop in lieu...\n",
              "7      cryptocurrency  a run up in cryptocurrency prices last decembe...\n",
              "8                dodo  the dodo is an extinct flightless bird that wa...\n",
              "9             dolphin  dolphins are small toothed cetaceans easily re...\n",
              "10           elephant  elephants are the largest land mammals on eart...\n",
              "11  fd_mutual_finance  bank fixed deposits and government small savin...\n",
              "12            finance  griego lists you are a green financial profess...\n",
              "13     jeffrey_archer  jeffrey howard archer baron archer of weston s...\n",
              "14            mammoth  the mammoth is a member of an extinct group of...\n",
              "15           murakami  haruki murakami born january twelfth nineteen ...\n",
              "16       mutual_funds  my name is metro for safe microphones are mark...\n",
              "17       paulo_coelho  paulo coelho born august twenty fourth ninetee...\n",
              "18            penguin  penguins are a group of aquatic flightless bir...\n",
              "19        animal_farm  animal farm is a satirical allegorical novella...\n",
              "20        shakespeare  william shakespeare was an english playwright ...\n",
              "21       snow_bunting  snow bunting is a medium-sized full bodied son...\n",
              "22         super_nova  a supernova is the biggest explosion that huma...\n",
              "23       vaccine_news  over nineteen on the ground vaccine pfizer and...\n",
              "24              whale  whales are a widely distributed and diverse gr...>"
            ]
          },
          "metadata": {},
          "execution_count": 6
        }
      ]
    },
    {
      "cell_type": "code",
      "source": [
        "dataset.dtypes"
      ],
      "metadata": {
        "id": "sTREn1VHgsJT",
        "colab": {
          "base_uri": "https://localhost:8080/"
        },
        "outputId": "ff48a5ba-67d6-4e00-cc7c-aaf2b6284e75"
      },
      "execution_count": null,
      "outputs": [
        {
          "output_type": "execute_result",
          "data": {
            "text/plain": [
              "title         object\n",
              "transcript    object\n",
              "dtype: object"
            ]
          },
          "metadata": {},
          "execution_count": 7
        }
      ]
    },
    {
      "cell_type": "code",
      "source": [
        "df = pd.DataFrame(columns=['transcript'])\n",
        "df['transcript'] = dataset['transcript'].astype(str)\n",
        "df[:5]"
      ],
      "metadata": {
        "id": "RJBA_GH1djJy",
        "colab": {
          "base_uri": "https://localhost:8080/",
          "height": 206
        },
        "outputId": "af77514e-4a75-4f44-8a7e-0ee8377798fd"
      },
      "execution_count": null,
      "outputs": [
        {
          "output_type": "execute_result",
          "data": {
            "text/html": [
              "\n",
              "  <div id=\"df-15ffa69b-9900-4035-936a-579e765d5c9e\">\n",
              "    <div class=\"colab-df-container\">\n",
              "      <div>\n",
              "<style scoped>\n",
              "    .dataframe tbody tr th:only-of-type {\n",
              "        vertical-align: middle;\n",
              "    }\n",
              "\n",
              "    .dataframe tbody tr th {\n",
              "        vertical-align: top;\n",
              "    }\n",
              "\n",
              "    .dataframe thead th {\n",
              "        text-align: right;\n",
              "    }\n",
              "</style>\n",
              "<table border=\"1\" class=\"dataframe\">\n",
              "  <thead>\n",
              "    <tr style=\"text-align: right;\">\n",
              "      <th></th>\n",
              "      <th>transcript</th>\n",
              "    </tr>\n",
              "  </thead>\n",
              "  <tbody>\n",
              "    <tr>\n",
              "      <th>0</th>\n",
              "      <td>astronomy literally meaning the science that s...</td>\n",
              "    </tr>\n",
              "    <tr>\n",
              "      <th>1</th>\n",
              "      <td>a white dwarf also called a degenerate dwarf i...</td>\n",
              "    </tr>\n",
              "    <tr>\n",
              "      <th>2</th>\n",
              "      <td>chimpanzees are great apes found across centra...</td>\n",
              "    </tr>\n",
              "    <tr>\n",
              "      <th>3</th>\n",
              "      <td>what are the top four crypto exchanges india w...</td>\n",
              "    </tr>\n",
              "    <tr>\n",
              "      <th>4</th>\n",
              "      <td>india recently introduced crypto tax in the bu...</td>\n",
              "    </tr>\n",
              "  </tbody>\n",
              "</table>\n",
              "</div>\n",
              "      <button class=\"colab-df-convert\" onclick=\"convertToInteractive('df-15ffa69b-9900-4035-936a-579e765d5c9e')\"\n",
              "              title=\"Convert this dataframe to an interactive table.\"\n",
              "              style=\"display:none;\">\n",
              "        \n",
              "  <svg xmlns=\"http://www.w3.org/2000/svg\" height=\"24px\"viewBox=\"0 0 24 24\"\n",
              "       width=\"24px\">\n",
              "    <path d=\"M0 0h24v24H0V0z\" fill=\"none\"/>\n",
              "    <path d=\"M18.56 5.44l.94 2.06.94-2.06 2.06-.94-2.06-.94-.94-2.06-.94 2.06-2.06.94zm-11 1L8.5 8.5l.94-2.06 2.06-.94-2.06-.94L8.5 2.5l-.94 2.06-2.06.94zm10 10l.94 2.06.94-2.06 2.06-.94-2.06-.94-.94-2.06-.94 2.06-2.06.94z\"/><path d=\"M17.41 7.96l-1.37-1.37c-.4-.4-.92-.59-1.43-.59-.52 0-1.04.2-1.43.59L10.3 9.45l-7.72 7.72c-.78.78-.78 2.05 0 2.83L4 21.41c.39.39.9.59 1.41.59.51 0 1.02-.2 1.41-.59l7.78-7.78 2.81-2.81c.8-.78.8-2.07 0-2.86zM5.41 20L4 18.59l7.72-7.72 1.47 1.35L5.41 20z\"/>\n",
              "  </svg>\n",
              "      </button>\n",
              "      \n",
              "  <style>\n",
              "    .colab-df-container {\n",
              "      display:flex;\n",
              "      flex-wrap:wrap;\n",
              "      gap: 12px;\n",
              "    }\n",
              "\n",
              "    .colab-df-convert {\n",
              "      background-color: #E8F0FE;\n",
              "      border: none;\n",
              "      border-radius: 50%;\n",
              "      cursor: pointer;\n",
              "      display: none;\n",
              "      fill: #1967D2;\n",
              "      height: 32px;\n",
              "      padding: 0 0 0 0;\n",
              "      width: 32px;\n",
              "    }\n",
              "\n",
              "    .colab-df-convert:hover {\n",
              "      background-color: #E2EBFA;\n",
              "      box-shadow: 0px 1px 2px rgba(60, 64, 67, 0.3), 0px 1px 3px 1px rgba(60, 64, 67, 0.15);\n",
              "      fill: #174EA6;\n",
              "    }\n",
              "\n",
              "    [theme=dark] .colab-df-convert {\n",
              "      background-color: #3B4455;\n",
              "      fill: #D2E3FC;\n",
              "    }\n",
              "\n",
              "    [theme=dark] .colab-df-convert:hover {\n",
              "      background-color: #434B5C;\n",
              "      box-shadow: 0px 1px 3px 1px rgba(0, 0, 0, 0.15);\n",
              "      filter: drop-shadow(0px 1px 2px rgba(0, 0, 0, 0.3));\n",
              "      fill: #FFFFFF;\n",
              "    }\n",
              "  </style>\n",
              "\n",
              "      <script>\n",
              "        const buttonEl =\n",
              "          document.querySelector('#df-15ffa69b-9900-4035-936a-579e765d5c9e button.colab-df-convert');\n",
              "        buttonEl.style.display =\n",
              "          google.colab.kernel.accessAllowed ? 'block' : 'none';\n",
              "\n",
              "        async function convertToInteractive(key) {\n",
              "          const element = document.querySelector('#df-15ffa69b-9900-4035-936a-579e765d5c9e');\n",
              "          const dataTable =\n",
              "            await google.colab.kernel.invokeFunction('convertToInteractive',\n",
              "                                                     [key], {});\n",
              "          if (!dataTable) return;\n",
              "\n",
              "          const docLinkHtml = 'Like what you see? Visit the ' +\n",
              "            '<a target=\"_blank\" href=https://colab.research.google.com/notebooks/data_table.ipynb>data table notebook</a>'\n",
              "            + ' to learn more about interactive tables.';\n",
              "          element.innerHTML = '';\n",
              "          dataTable['output_type'] = 'display_data';\n",
              "          await google.colab.output.renderOutput(dataTable, element);\n",
              "          const docLink = document.createElement('div');\n",
              "          docLink.innerHTML = docLinkHtml;\n",
              "          element.appendChild(docLink);\n",
              "        }\n",
              "      </script>\n",
              "    </div>\n",
              "  </div>\n",
              "  "
            ],
            "text/plain": [
              "                                          transcript\n",
              "0  astronomy literally meaning the science that s...\n",
              "1  a white dwarf also called a degenerate dwarf i...\n",
              "2  chimpanzees are great apes found across centra...\n",
              "3  what are the top four crypto exchanges india w...\n",
              "4  india recently introduced crypto tax in the bu..."
            ]
          },
          "metadata": {},
          "execution_count": 9
        }
      ]
    },
    {
      "cell_type": "code",
      "source": [
        "all_transcripts = dataset.transcript\n",
        "all_transcripts"
      ],
      "metadata": {
        "id": "RlBmTdovdNm1",
        "colab": {
          "base_uri": "https://localhost:8080/"
        },
        "outputId": "415d6ae6-36e1-4ece-830b-c56f67e5a1de"
      },
      "execution_count": null,
      "outputs": [
        {
          "output_type": "execute_result",
          "data": {
            "text/plain": [
              "0     astronomy literally meaning the science that s...\n",
              "1     a white dwarf also called a degenerate dwarf i...\n",
              "2     chimpanzees are great apes found across centra...\n",
              "3     what are the top four crypto exchanges india w...\n",
              "4     india recently introduced crypto tax in the bu...\n",
              "5     crypto is just one big ponzi and can change my...\n",
              "6     token from your next the word pawnshop in lieu...\n",
              "7     a run up in cryptocurrency prices last decembe...\n",
              "8     the dodo is an extinct flightless bird that wa...\n",
              "9     dolphins are small toothed cetaceans easily re...\n",
              "10    elephants are the largest land mammals on eart...\n",
              "11    bank fixed deposits and government small savin...\n",
              "12    griego lists you are a green financial profess...\n",
              "13    jeffrey howard archer baron archer of weston s...\n",
              "14    the mammoth is a member of an extinct group of...\n",
              "15    haruki murakami born january twelfth nineteen ...\n",
              "16    my name is metro for safe microphones are mark...\n",
              "17    paulo coelho born august twenty fourth ninetee...\n",
              "18    penguins are a group of aquatic flightless bir...\n",
              "19    animal farm is a satirical allegorical novella...\n",
              "20    william shakespeare was an english playwright ...\n",
              "21    snow bunting is a medium-sized full bodied son...\n",
              "22    a supernova is the biggest explosion that huma...\n",
              "23    over nineteen on the ground vaccine pfizer and...\n",
              "24    whales are a widely distributed and diverse gr...\n",
              "Name: transcript, dtype: object"
            ]
          },
          "metadata": {},
          "execution_count": 11
        }
      ]
    },
    {
      "cell_type": "code",
      "source": [
        "all_transcripts[0][:1100]\n"
      ],
      "metadata": {
        "id": "I4WTH0-ufliX",
        "colab": {
          "base_uri": "https://localhost:8080/",
          "height": 140
        },
        "outputId": "36a77f86-f5cd-420f-a04d-55c903b7d2d2"
      },
      "execution_count": null,
      "outputs": [
        {
          "output_type": "execute_result",
          "data": {
            "application/vnd.google.colaboratory.intrinsic+json": {
              "type": "string"
            },
            "text/plain": [
              "\"astronomy literally meaning the science that studies the laws of the stars is a natural science that studies celestial objects and phenomena it uses mathematics physics and chemistry in order to explain their origin and evolution objects of interest include planets moons stars nebulae galaxies and comments relevant phenomena include supernova explosions gamma ray bursts quays ours blazers pulsars and cosmic microwave background radiation more generally astronomy studies everything that originates beyond earth's atmosphere cosmology as a branch of astronomy that studies the universe as a whole during the renaissance nicolaus copernicus proposed a heliocentric model of the solar system his work was defended by galileo galilei and expanded upon by johannes kepler kepler was the first to devise a system that correctly described the details of the motion of the plan minutes surround the sun however kepler did not succeed in formulating a theory behind the laws he wrote down one of the oldest fields in astronomy and in all of science is the measurement of the positions of celestial objects\""
            ]
          },
          "metadata": {},
          "execution_count": 12
        }
      ]
    },
    {
      "cell_type": "markdown",
      "source": [
        "#Preprocessing"
      ],
      "metadata": {
        "id": "XDK3ivq4iA6d"
      }
    },
    {
      "cell_type": "code",
      "source": [
        "text=df['transcript'].values.tolist()\n",
        "print(len(text))\n",
        "text"
      ],
      "metadata": {
        "id": "t0GSPK8Xjgtz",
        "colab": {
          "base_uri": "https://localhost:8080/"
        },
        "outputId": "53810ce8-7a1d-4dab-9209-6b1b804728b2"
      },
      "execution_count": null,
      "outputs": [
        {
          "output_type": "stream",
          "name": "stdout",
          "text": [
            "25\n"
          ]
        },
        {
          "output_type": "execute_result",
          "data": {
            "text/plain": [
              "[\"astronomy literally meaning the science that studies the laws of the stars is a natural science that studies celestial objects and phenomena it uses mathematics physics and chemistry in order to explain their origin and evolution objects of interest include planets moons stars nebulae galaxies and comments relevant phenomena include supernova explosions gamma ray bursts quays ours blazers pulsars and cosmic microwave background radiation more generally astronomy studies everything that originates beyond earth's atmosphere cosmology as a branch of astronomy that studies the universe as a whole during the renaissance nicolaus copernicus proposed a heliocentric model of the solar system his work was defended by galileo galilei and expanded upon by johannes kepler kepler was the first to devise a system that correctly described the details of the motion of the plan minutes surround the sun however kepler did not succeed in formulating a theory behind the laws he wrote down one of the oldest fields in astronomy and in all of science is the measurement of the positions of celestial objects historically accurate knowledge of the positions of the sun moon planets and stars has been essential in celestial navigation the use of celestial objects to guide navigation and in the making of calendars theorists and astronomy endeavored to create theoretical models and from the results predict observational consequences of those models the observation of a phenomenon predicted by model allows astronomers to see select between several alternate or conflicting models as the one best able to describe the phenomenon what is the origin of the stellar mass spectrum that is why do astronomers observe the same distribution of stellar masses the initial mass function apparently regardless of the initial conditions a deeper understanding of the formation of stars and planets is needed amateur astronomers continue to make scientific contributions to the field of astronomy and it is one of the few scientific disciplines where amateurs can still make significant contributions\",\n",
              " \"a white dwarf also called a degenerate dwarf is a stellar core remnant composed mostly of electron degenerate matter a white dwarf is very dense it's mass is comparable to that of the sun while it's volume is comparable to that of earth a white dwarfs faint luminosity comes from the emission of residual third mold energy no fusion takes place in a white dwarf the nearest known white dwarf is sirius be at eight point six light years the smaller component of the serious binary star there are currently thought to be eight white dwarfs among the hundred star systems nearest the sun the unusual faintness of white dwarves was first recognized in nineteen ten the name white dwarf was coined by william law eitan and nineteen twenty two white dwarfs are thought to be the final evolutionary state of stars whose mass is not high enough to become a neutron star or a black hole this includes over ninety seven percent of the other stars and the milky way usually white dwarfs are composed of carbon and oxygen seal white dwarf if the mass of the progenitor is between eight and ten point five solar masses and kama the core temperature will be sufficient to fuse carbon but not neon in which case and knox edge and neon magnesium white dwarf may form stars are very low mass will be unable to fuse helium hence a helium white dwarf the material in a white dwarf no longer undergoes fusion reactions so the star has no source of energy as a result it cannot support itself by the heat generated by fusion against gravitational collapse apps but is supported only by electron degeneracy pressure causing it to be extremely dance the physics of degeneracy yields a maximum mass for a non-rotating white dwarf the chondrus sacre limit approximately one point four four times them beyond which it cannot be supported by electron degeneracy pressure a white dwarf is very hot when it forms but because it has no source of energy it will gradually cool as it radiates it's energy away this means that it's radiation which initially has a high color temperature will last and and reddened with time over a very long time a white dwarf will cool and it's material will begin to crystallize as starting with the core the star's low temperature means it will no longer amid significant heat or light and it will become a cold black dwarf \",\n",
              " \"chimpanzees are great apes found across central and west africa along with bonobos they are our closest living relatives sharing ninety eight point seven percent of our genetic blueprint humans and chimps are also thought to share a common ancestor who lived some seven to thirteen million years ago our behavior chimpanzees are highly social they live in communities of several dozen animals led by an alpha male and his coalition of male allies research has shown that male and female chimps have individual personalities with females being more trusting and timid groomed ing is an important part of their social life helping chimpanzees bond as they remove ticks and dirt from one another's bodies although they normally walk on all fours knuckle walking chimpanzees can stand and walk upright chimpanzees have long arms hands and fingers which help them climb trees and swing from branch to branch dual use this intelligent animal as one of the few species we know to use tools chimpanzees shape and use sticks to retrieve insects from their nests or dig grubs out of logs they use stones to smash open tasty nuts and employ leaves as sponges to soak up drinking water and chimpanzees can even be taught to use some basic human sign language habitat and diet chimpanzees have the widest range of any great ape though many populations live in tropical rainforests they can also be found in woodlands and grasslands span thing from central to western africa they usually sleep in trees typically the sturdy uganda an ironwood tree which offers the most firm and stable place to sleep and build themselves nests of leaves chimps also do most of their eating and trees though they generally prefer fruits and plants they they have a varied diet that also includes insects eggs nuts and hundreds of other things they relish neat and have been known to kill and eat monkeys small antelope and even tortoises which they slam against trees to break open their shells reproduction females chimpanzee these can give birth at any time of year typically to a single infant that clings to it's mother's fur and later rides on her back until the time of weaning between ages three and five females reach reproductive age at thirteen while males are not considered adults until they are fifteen \",\n",
              " \"what are the top four crypto exchanges india where to buy two poker and cheap what is a crypto exchange apart from gold crypto is getting major popularity among the new generation in terms of it's returns and offers cryptocurrency engineer and investor first need to create an online storage open from the crypto like bitcoin to work third party along with training a crypto exchange in the exchange the investor will have to create an exchange account via an exchange service the county needs to be linked to the investors bank account bank crypto via an exchange as one of the safest and easiest processes however reading all security measures carefully is very important to invest the portfolio here are some top represents the exchanges listed below that you can select from and you know going you know going is very popular but changing the country because it is one of the oldest cryptocurrency exchanges it was first and current in the bitcoin space in india they started in dunkirk on outcome later shifted operations to bang lulu it was established in two thousand and thirteen in her name and kept the worse not very common in western option camera investors with higher risk appetite could only step up for it the exchange has around one point four seven million registers investors why are you not going you can fix a particular date and time to sell a certain amount of crypto you know coin has over the counter trade to enable users to trade in bulk the exchanges also launched a mobile app to be more user friendly a current yet it can be considered as one of the top crypto exchanges in india and dump the vex registered users about four million who can access more than two hundred cryptocurrencies like bitcoin ethereum ripple light coin many other altcoin is illegal lily it used to be a starter which was launched in two thousand and eighteen and most casually more than mister started to show interesting conditions because the trading fee here is very low compared to other exchanges additionally the investors will get deposit and withdrawals mrs for free of cost it is a helpful option for investors in india for those who trade directly between indian rupees and any crypto the exchange got in reward of alert list of unicorns in india two thousand twenty one by track exam the pay is a very simple and user friendly crypto exchange along with it's security feature resemble outgoing transactions with a single click zebpay also gives offers to new investors that have won the registers he or she will get an trapeze hundred cashback on first year of his five hundred or more their offers generally attract new investors more to come into the field according to the pay two thirds of indians who bought the first bitcoin which is one of the most popular cryptos on jp the exchanges of betting experience since two thousand and fourteen and they have facilitated above ten billion dollars worth of transactions in their time visitors was edicts is certainly an unusual platform as they upgrade to the cryptocurrency named the blue alex the exchange informs there will be a maximum of one billion blocks coins ever created an investor can buy a wrx against inr and then it can be exchanged for other available cryptocurrencies was huge can be availed across all platforms on web android and ios won't play windows and mac apps significantly security is very important for their profit globally here discouraged process will be completed within a few hours of signing up safely while ensuring the right coverage protocol was just can do peer-to-peer transactions through his edicts the zero fees deposit x p two d service will help then restrict openwork money reply instantly where was your ex act as an escrow for safekeeping of transaction \",\n",
              " \"india recently introduced crypto tax in the budget two thousand and twenty two co-products brings clarity but not everyone is happy some experts believe that thirty percent slab is only going to increase the tax burden for cryptocurrency investors who will have to shell out a third of their returns towards taxes cryptogram see marketplace have called the government's proposed taxation for digital assets a strong move towards recognizing cryptocurrency as an emerging asset class however not all players are happy with the move with some noting that thirty percent slab was too high finance minister nirmala sitharaman on tuesday introduced taxation of virtual digital assets which include cryptocurrencies or non fungible tokens and have these as well the government is also introducing a central bank digital currency more popularly known as city cbd sees powered by blockchain technology in two thousand and twenty two and twenty three the biggest development today was a clarity on crypto taxation this will add the much needed recognition to the crypto system of india we also to this development removes any ambiguity for banks and they can provide financial services to crypto industry overall it's a good news for us and we will need to go to the detail version of the budget to i understand the finer details mr shetty founder and ceo of undo and dn cryptocurrency exchange visitor said welcoming the taxation move sumit gupta co-founder and ceo of quindi she excelled in the statement that this brings much needed confidence to the industry added the taxation of virtual digital assets or crypto is a step in the right direction it is encouraging to see that the government has taken a positive step towards regulating digital assets this will change a lot of misconceptions around crypto assets and pave the way forward to classifying them as a separate asset class melvin thomas co-founder of sac coyne also noted in a statement investors will have to pay thirty percent tax on the returns the made from trading or investing in cryptocurrencies or other digital assets such as and of thes any losses from transfer of virtual digital asset cannot be set off against any other income according to the announcement the government has also proposed to provide for tds on payment made in relation to transfer of virtual digital asset at the rate of one percent of such concentration above a monetary threshold further any gift or virtual asset is also propose pose to be taxed in the hands of recipient this is the first step towards legitimate legitimizing digital asset market and allowing indian talent to compete with global counterparts higher taxation can be counterproductive in long run but this is only a temporary measure to contain unorganised trade and transfer of cryptocurrencies said i should heed ceo and co-founder of easy fi network but the other experts believe that thirty percents lab is only going to increase the tax burden for cryptocurrency investors will have to shell out a third of their returns towards taxes the smooth would force people to move to traditional modes of investments such as stock mutual funds because they are not subject to as high as thirty percent dex shera chandra crypto told experts also pointed out that tedious rates that can make investment even to care for crypto traders there are multiple things here income tax at thirty percent as india is still acceptable but one person tds makes a tricky for intraday traders in india which will not see you or you know coin cryptocurrency exchange tool indian express dot com and yeah entered the trading refers to buying and selling of cryptocurrency on the same day gilbert l cofounder and chairman of guardian link and beyond live dog club which is an nft platform also expressed disappointment humanities will also be gone by this virtual assets are lumped into one moment in place component of these all on the same budget initially in the space it will get a major roadblock for the investor community but like all good ecosystems this to show it was well we understand regulation to control other elements of crypto required and if these are nestled in it's classes and such taxation will have to eventually adjust to go the developing ecosystem worldwide and have these are still classified as non taxable assets and it is imperative that the adjustment and understanding that crypto token is different than digital and ft is taken into consideration for future amendments cc said \",\n",
              " \"crypto is just one big ponzi and can change my mind when in doubt sell out i wish i was joking about this brand of a joke if you had ample warning you ignore their crypto is not real nothing is backing and has no physical product know of the icing insurance no company like a microsoft or google and hardly any trading regulations at all literary the only value given to cryptocurrency is the price that people are willing to pay for it this means your only hope is a buyer is that someone will buy your bags at a higher price explained to me that how that isn't a ponzi scheme again the only cryptocurrency worth holding onto at this point is dodge coin and i'm even starting to get skeptical of thought let's talk about how big this useless ponzi scheme is going to crash and burn ninety nine of ninety nine percent of you reading this got into crypto about nine years too now clearly all of that just now was a joke sorry not say that said the recent fifty one mainstream media articles and videos that call bitcoin that weren't joking at this point i only want to see guys get it we know you understand i don't understand crypto at all so it must be a pyramid scheme i also hear that two plus two is equal to five bitcoin is not going anywhere neither is ethidium anyway bear market to bring up serious questions here's an interesting one why was cryptocurrency created within the two thousand and eight financial crisis one credit on greta said that the answer to that question lies in who is perpetuating the crypto markets right now the cryptocurrency wales these are the investors among us ordinarily have the most money and have the most control and crypto do not forget politics for a couple of big plays to throw in the towel and your entire portfolio will be worth less than pocket length \",\n",
              " \"token from your next the word pawnshop in lieu of a small change which the next time you visit them imagine that you can digitally and there's a cryptocurrency the big difference here there is no owner issuer and it would institute the accepted global cryptocurrency is a digital or virtual going to go by the epigraphy which makes it next to impossible counterfeit they have their own ministers and they are designed to use a medium of exchange for buying goods and services cryptocurrencies are decentralized meaning that no authority regulates them they are built on a blockchain network technology which ensures transparency and helps track every transaction such currencies theoretically are immune to government interference or any kind of manipulation because cryptocurrency do not have any underlying econo comic base vr information tools plus the digital structure facilitates cerebral portability across geographical borders divisibility and transparency however they are often criticized for the possibility of misuse and illegal activities exchanger volatility and one credibility often infrastructure underlying them how do cryptocurrencies work for progressive work using a technology called blockchain the tokens that can be used as a form of payment in exchange for online goods and services the carry upgraded mine stored value of their own just like any other fiat currency like us dollar or the indian rupee pregnancies are digitally mine were very sophisticated computers solve complex computational mathematics mathematics problem the mining is pain staking costly and only sporadically rewarding \",\n",
              " \"a run up in cryptocurrency prices last december also magnified the divergences in gardens between them according to a new research report by bitwise asset management the difference in returns between the top and bottom performing coins dragged by bit vice for an index rose to seventy four point nine percent in december the average price difference between the top and bottom performing coins over the entire year was three hundred percent but wage report and page on the case for diversification within crypto investing dragged the price of top ten most readable cryptocurrencies over a year starting from march twenty seventeen during that period three coins repulsed could grow benzie xrp it's counterpart stellar's xlm and chinese coin neal provided the maximum return to investors together they were responsible for the next bangladesh and was chosen nine out of twelve months dragged by broadway's it release such resurrection should be cleared by signal graders but the inherent volatility of cryptocurrency meat market makes it impossible to rely on such signals for examples except peas are done off street and eighty percent in may twenty seventeen quickly slid to negative thirty six point one percent by july the cryptocurrency space during that time period fell from one fell from forty cents but pob to a new level of fifteen cents by august bitcoin's returns didn't live up to the hype and despite his pain despite its penchant for generating headlines due to express volatility bitcoin topped the list of maximum returns only once in july even then it provided measly returns at as compared to other points of forty fifteen by two percent as the most mature assert you would expect bitcoin to be on the lower end of returns said matt hogan vice president of research and development at bitwise according to him the reasons behind your poland new success or hide your syncretic because they they were due to a combination of news development it's with clever marketing and partnerships of the coins still the report states that there is a massive variability in returns for the top ten cryptocurrencies and no consistency in relation to top coins in one month at a leading mean the cop range in the month that follows the report whose main thrust is an argument for diversification in cryptocurrency investment states according to the advisers martaban there are two reasons for why dispersion of returns among cripples the first one is the inherent volatility of cryptocurrencies as compared to stocks or bonds the second reason according to him as the market understanding of the present so surpasses that of average investors the difference between a centrally controlled two percent like ripple and a truly distribute crypto asset like bitcoin is immense hogan said the market realizes and returns as reflected in recent times there have also been reports of bitcoins correlation with other cryptocurrencies specifically bloomberg reported that bitcoin's price correlation went up with cryptocurrency market crashed and declined when researched but where advisers report reached a different conclusion viewed holistically a light of analysis the coalition that are strongly support the idea that the returns of individual coins are heterogeneous the report states \",\n",
              " \"the dodo is an extinct flightless bird that was endemic to the island of more vicious which is east of madagascar in the indian ocean the closest living relative of the dodo is the nicobar pigeon sub fossil remains show the dodo was about one meter dull and may have weighed ten point six to seventeen point five kilogram alms in the wild the dodo's appearance in life is evidenced only by drawings paintings and written accounts from the seventeenth century since these portraits vary considerably and since only some of the illustrations are known to have been drawn from live specimens the dodo's exact appearance in life for me maine's unresolved and little is known about it's behavior it has been depicted with brownish grey plumage yellow feet a tuft of tail feathers a grey naked head and a black yellow and green beak it used gizzard stones to help digest it's food which is thought to have included fruits and it's main habitat is believed to have been the woods in the dryer coastal areas of mauritius one account states it's clutch consisted of a single egg it is presumed that the dodo became flightless because of the ready availability of abundant food sources and a relative absence of predators on more riches the extinction of of the dodo within less than a century of it's discovery called attention to the previously unrecognized problem of human involvement in the disappearance of entire species in addition to fallen fruits the dodo probably subsisted on nuts seeds bulbs and roots it has also been suggested that the dough odo might have eaten crabs and shellfish like their relatives the crowned pigeons \",\n",
              " \"dolphins are small toothed cetaceans easily recognizable by their curved mouths which give them a permanent smile there are thirty six dolphin species found in every ocean most dolphins are marine and live in the ocean or brackish waters along coastlines there are a few species however lie the south asian river dolphin and the amazon river dolphin or boto that live in freshwater streams and rivers the largest dolphin the orca can grow to be over thirty feet long the smallest the maui dolphin is just five feet long dolphins feed chiefly on fish and squid which they track using echo location a built-in sonar that bounces sound waves off prey and reveals information like it's location size and shape an echolocating bottle nose dolphin can make up to a thousand clicking noises per second living in pods that can number a dozen or more our dolphins are intensely social mammals that communicate with squeaks whistles and clicks whether dolphins have language as humans do is a topic that scientists have debated for decades as mammals they have warm blood and nurse their young dolphins have more than one mate and generous lee produce a single offspring that will stay with the mother for up to six years depending on the species dolphins are graceful sleek swimmers that can reach speeds of more than eighteen miles an hour they are also playful and often frolic in a boat's wake leaping out of the water possibly for fun to communicate eight or even shed pesky parasites for centuries people have hunted dolphins for their meat and blubber today their main threat comes from being caught accidentally in commercial fishing nets dolphins must rise regularly to the surface to breathe becoming entangled in nets prevents this leading to drowning ing for main dolphins warming ocean temperatures because of climate change have caused some of their primary food sources to move into deeper cooler water furthermore marine heat waves also caused by climate change appear to have a negative effect on dolphins reproductive rates and ability to survive in addition to hunting and entanglement in fishing gear freshwater dolphins face the additional threat of dams fragmenting and degrading habitat \",\n",
              " 'elephants are the largest land mammals on earth and have distinctly massive bodies large ears and long drunks they use their trunks to pick up objects trumpet warnings greet other relevance or suck up water for drinking or bathing among other uses both male and female african elephants grow tusks and each individual can either be left or right tusked and the one they use more is usually smaller because of wear and tear elephant tusks serve many purposes these extended teeth can be used to protect the elephant strung lift and move objects gather food and strip bark from trees they can also be used for defense during times of drought elephants even use their tusks to dig holes to find water underground to genetically different african species exist the savanna elephant and the forest elephant with a number of characteristics that differentiate them both the african savannah elephant is the largest elephant species while the asian forest elephant and the african forest elephant are of a comparable smaller size asian elephants differ in several ways from their african relatives with more than ten distinct physical differences between them for example asian elephants ears are or smaller compared to the large fan shaped tears of the african species only some male asian elephants have tusks while both male and female african elephants grow tusks led by a matriarch elephants are organized into complex social structures of females and calves while may lovitz tend to live in isolation or in small bachelor groups a single calf is born to a female once every four to five years and after a gestation period of twenty two months the longest of any mammal cats are cared for by the entire herd of related females female cats may stay with their maternal herd for the rest of their lives while males leave they heard as they reached puberty forest elephants social groups differ slightly and may be comprised of only an adult female and her offspring however they may congregate in larger groups in forest clearings where resources are more abundant elephants need ext offensive land areas to survive and meet their ecological needs which includes food water and space on average an elephant can feed up to eighteen hours and consume hundreds of pounds of plant matter in a single day as a result as they lose habitat they often come into conflict with people in competition for resources ',\n",
              " \"bank fixed deposits and government small savings schemes have been the traditional investment choice of average indian household as present bank of india quarterly estimates of household financial assets and liabilities rupees four thousand seven hundred fifty three b ilion was invested in bank of teas and for year two thousand and eighteen latest year for which data is available from rbi on the other hand despite its growing popularity share of major funds in house on fixed income assets is still relatively quite small as per amfi day a february two thousand and twenty retail and hni in net investment in debt mutual funds in the last one year ending sept two thousand and twenty was obese two hundred sixty billion sap in mutual fund how does sap in debt mutual funds work by investing a fixed amato every month for any other ender will from yours regular savings you can invest over a long period of time and benefit from the power of compounding power of compounding it's not only work for equity it also works for fixed income over long investment in yours by investing a fixed amount at regular intervals monthly or any other you will be investing at various price point and average out your purchase cost this is known as will be cost averaging since fixed income funds are market linked schemes the prices are also subject to volatility two sap you can take advantage of fertility even a fixed income phone especially in longer duration for which are more sensitive to interest rates fixed income can outperform even in the long term extreme market conditions often challenge popularly held views one view is that equity ow performs always in the long term this is larger liquor because starting today shows that equity has been best performing asset class in the long term however promotional singing about what constitutes long term is now being challenged the chart below shows the annual leah terrorized average does have some equity and fixed income categories over the last three five and ten years you can see that insurance market conditions fixed income phones can out from equity even over fairly long ten years and investor education initiative by mirae asset mutual funds the ratios above editors of the case degrees and do not in any way depict the performance of any individual scheme of any fund major funds investment are subject to market risks read all scheme military documents carefully \",\n",
              " \"griego lists you are a green financial professional compatibility with finance is often a responsibility left to accounting departments and other employees tend to pay corporate finance and accounting issues no mind ignoring finance however will put you behind the competition when it comes to being well versed in all the complex aspects of working in a business no maria profession or position within your organization if you have no idea what a beer market or what cpm stands for it is time to lose your fear of finance and begin embrace if money matters head on start your journey to financial fluency by learning some basic financial terms and concepts network is an easy one to start with you may have heard one time in your day today from financial experts discussing a company's network two magazines discussing a certain celebrities value in dollars in a business context network simply means the difference between your total assets and total amount you owe to your creditors and other financial stakeholders a positive net worth indicates good financial health whilst a negative net worth means your company is operating at a loss without going too much into nifty greedy of corporate finance funds you want inflation means the sustained increase in the prices of goods and services over a certain period in relation to the value of your national currency one inflation indicator working professionals should look out for is if their income is rising proportionally with the initial rate of inflation for the mood if your organization operates on a global scale inflation can have an impact on your price point when selling oxide your companies or country's borders liquidity determined decades how accessible your assets are what monetary value your assets regenerative their work are sold today corporates usually need to have a balanced liquidity since creditors can demand the money at any time and the speed that your business can generate cash at me how a significant impact on on its financial well being \",\n",
              " \"jeffrey howard archer baron archer of weston super mare born april fifteenth nineteen forty is an english novelist life peer and former politician before becoming an author archie was a member of parliament nineteen sixty nine to nineteen seventy four but did not seek reelection after a finance oil scandal that left him almost bankrupt he revived his fortunes as a bestselling novelist his books have sold more than three hundred twenty million copies worldwide archer wrote his first book not a penny more not a penny less in the autumn of nineteen seventy four as a means of avoiding bankruptcy the bug was picked up by the literary agent debra on and published first in the us then eventually and britain in the autumn of nineteen seventy six a radio adaptation was aired on bbc radio four and the early nineteen eighties under bbc television adaptation of the book was broadcast and nineteen ninety cain and abel nineteen seventy nine proved to be his best selling work reaching number one on the new york times bestsellers list like most of his early work it was edited by richard cole on the olympic fencing gold medalist it was made into a television miniseries by cbs in nineteen eighty five five starring peter strauss and sam neill the following year granada tv screen baton part adaptation of another archer bestseller first among equals which told the story of four men and their quest to become prime minister and the us edition of the novel the character of andrew fraser was eliminated re reducing the number of protagonists to three as well as novels and short stories archer has also written three stage plays the first beyond reasonable doubt opened in nineteen eighty seven and ran at the queens theatre in london's west end for over a year twenty eight archers next play exclusive was not well received by critics and closed after a few weeks his final play the accused opened at the theatre royal windsor on september twenty six two thousand before transferring to the theatre royal haymarket in the west hand in december and nineteen eighty eight after kathleen burnett accused archer of play arising a story she'd written and including it in his short story collection a twist in the tale archer denied he had plagiarized the story claiming he'd simply been inspired by the idea the sword the long and the tall an illustrated collection of archer's short stories was published in november two thousand twenty with watercolor illustrations by artist paul cox\",\n",
              " \"the mammoth is a member of an extinct group of elephants mammoths were hairy elephants of the genus mammoth mammatus they lived in europe until four thousand five hundred years ago and were adapted to cold climate they were killed off by hunters and climate change there were a series of ice ages which allowed the math myths to spread across the land the various species of mammoth were commonly equipped with long curved tusks and in northern species a covering of long hair the oldest representative of mammoth us the south african mammoth amazon planet fronds appeared around five million years ago during the the early pliocene in what is now southern and eastern africa descendant species of these mammoths moved north and continued to propagate into numerous subsequent species eventually covering most of eurasia before extending into the americas at least six hundred thousand years ago the last species to emerge the woolly mammoth emperor image nes developed about four hundred thousand years ago in east asia mammoths were hunted by early humans who used spears and cut them up with hand axes their frozen flesh has been analyzed for it's dna sequence like their modern relatives mammoths were quite large the largest known species reached heights in the region of four meters thirteen point one feet at the shoulder and weights of up to eight tons eight point eight short tons while exceptionally large males may have exceeded twelve tons thirteen point two short tons however most ce species of mammoth were only about as large as a modern asian elephant which are about two point five meters to three meters high at the shoulder and rarely exceeding five tons both sexes bore tusks based on studies of their close relatives the modern elephants mammoths probably had a gestation period of twenty two months resulting in a single calf being born their social structure was probably the same as that of african and asian elephants with females living in herds headed by a matriarch whilst bowles lived solitary lives or formed loose groups since many remains of each species of man mammoth are known from several localities it is possible to reconstruct the evolutionary history of the genus through more of a logical studies mammoth species can be identified from the number of enamel ridges on their molars the primitive species had few ridges and the amount increased gradually as new species evolved and replaced the former ones at the same time the crowns of the teeth became longer and the skulls become higher from top to bottom and shorter from the back to the front over time to accommodate this the woolly mammoth emperor image nes was the last species of the genus most populations of the woolly mammoth a than north america and eurasia as well as all the columbian mammoths and colombia in north america died out around the time of the last glacial retreat as part of a mass extinction of megafauna in northern eurasia and the americas\",\n",
              " \"haruki murakami born january twelfth nineteen forty nine is a japanese writer his novels essays and short stories have been bestsellers in japan as well as internationally with his work translated into fifty languages and selling millions of copies outside japan he has received numerous awards for his work including the guns who prize for new writers the world fantasy award the frank o'connor international short story award the franz kafka prize and the jerusalem prize many of his novels have themes and titles that evoke classical music such as the three books making up the wind up bird chronicle all of thieving magpie after racine is opera bird as prophet after a piano piece by robert schumann usually known in english as the prophet bird and the bird catcher a character in mozart's opera the magic flute some of his novels take their titles from songs dance dance dance after the dell's nine nineteen fifty seven besides song although it is often thought it was titled after the beach boys nineteen sixty four tune norwegian wood after the beatles song and south of the border west of the sun after the song south of the border and two thousand and six murakami became the sixth recipient of the fronds com cut prize in april two thousand and fifteen murakami was named one of the time one hundred most influential people in november two thousand and sixteen he was awarded the danish hans christian andersen literature award an award previously won by british author jk rowling and two thousand and eighteen will see the university and tokyo agreed to house the archives of how to come iraq army including his manuscripts source documents and music collection the collection is intended to be opened to scholars and is set to open in october two thousand twenty one\",\n",
              " \"my name is metro for safe microphones are markedly instrument which invest in equity or cootie related securities that are money related market instruments the net asset value anyway of mutual fund scheme depends on the market price of underlying securities and it's pulled for you based on the securities can go up or down depending on the market movement hence you see the disclaimer mutual funds are subject to market risk and friendly picture our deceive investors who have invested only in traditional fixed income investments like bank fixed deposits post over small saving schemes etc often have two versions when they invest first in mutual funds how much return will they get is it safe to inverse in metro phones it is very important for the investors to understand the following mature for to not give a short returns even if a mutual fund scheme is paying regular dividends dividend paid by major funds are not assured the asset management company aims he can che change the dividend belgrade or can even stop being detained for a period of time as deemed fit by mt based on market conditions there is no guarantee of capital production major phones he should be prepared to take some risk when investing in mutual funds but if you understand the risk and make informed investment decisions based on your risk appetite and financial objectives mutual funds can provide investment solutions for a wide spectrum of risk appetite and investment neat in this article we will try to understand the risk and mutual funds investing and discuss as much of unsafe risk and agree funds these are three kinds of risk and equity mutual funds they are as follows market risk is also known as systematic years this is a risk which affect the entire stock market it can be caused by events which may affect the entire economy investment cycles common policies rba actions global events example overnight in bundaberg global financial crisis nine eleven terrorist attack in new york etc mortgages can cause volatility in a mutual fund investment some categories of mutual funds mid cap fund small cap funds are affected more by market volatility as compared to other categories that is large gap you should invest according to your risk appetite without thinking how safe is mutual funds asymmetric risk this is the risk which impacts only a particular stock or sector major funds aim to diversify unsystematic risk but there may be still be some unsystematic risk in actively managed funds because fund managers may be overweight underweight on some stock sector thus in order to beat the market benchmark index that is great advice for investors if you want to avoid unsystematic risks then you may invest in idiots an index fund which jack market indexes data subject to market risk however investors should understand unsystematic risk is not necessary really matters because it can help fund managers gives superior returns over a sufficiently long investment horizon great advice for investors you should invest according to your risk appetite and investment needs without worrying about is it safe to invest in mutual funds now or not liquidity risk this can arise due to inability of the fund manager to sell the underlying securities of scheme when the need arises that is redemption pressures if there are not sufficient buyers due to prevailing market conditions example very high volatility beer market etc a foreign manager may be unable to sell securities in extreme market conditions the mc may stop redemption and certain mutual fund schemes liquidity risk and equity funds back some market segment example small cap funds compared to more liquid segment example large gaps\",\n",
              " \"paulo coelho born august twenty fourth nineteen forty seven rio de janeiro brazil brazilian novelist known for employing rich symbolism and his depictions of the often spiritually motivated journeys taken by his characters his novel the alchemist has sold more than one hundred fifty million copies worldwide and is the all time best selling book by a brazilian writer and nineteen eighty two coelho published his first book pal archives which failed to make a substantial impact and nineteen eighty six he contributed to the practical manual of vampirism although he later tried to take it off the shelves since he considered it a bad quality after making the pilgrimage to santiago de compostela in nineteen eighty six coelho wrote the pilgrimage published in nineteen eighty seven while trying to overcome his procrastination about launching his writing career coelho decided if i see a white feather today that is a sign that god is giving me that i have to write a new book seeing one in the window of a shop he began writing that day fourteen the following year coelho wrote the alchemists and published it through a small brazilian publishing house that made an initial print run of nine hundred copies and decided not to reprint at dod he subsequently found a bigger publishing the house and with the publication of his next bog breeder the outcomes took off harper collins decided to publish the book in nineteen ninety four later it became an international bestseller in a two thousand and nine interview with the syrian forward magazine coelho stated that the sufi tradition had been unemployed once on him particularly when writing the alchemist and later there's a here since the publication of the alchemist coelho has generally written at least one novel every two years four of them the pilgrimage hubby the valkyries and aleph are autobiographical while the majority of the rest are broadly fictional\",\n",
              " 'penguins are a group of aquatic flightless birds they live almost exclusively in the southern hemisphere highly adapted for life in the water penguins have counter shaded dark and white plumage and flippers for swimming most penguins feed on krill fish squid and other forms of sea life which they catch why while swimming underwater they spend roughly half of their lives on land and the other half in the sea although almost all penguin species are native to the southern hemisphere they are not found only in areas with cold climates such as antarctica in fact only a few species of penguin live that far south south several species are found in the temperate zone and one species the galapagos penguin lives near the equator the largest living species is the emperor penguin on average adults are about one point one meters three feet seven in tall and weigh thirty five kilogram mes seventy seven pounds the smallest penguin species is the little blue penguin also known as the fairy penguin which stands around thirty three centimeters tall and weighs one kilogram in general today larger penguins inhabit colder regions and smaller penguins inhabit regions with temperate or tropical climates some prehistoric penguin species were enormous as tall or heavy as an adult human there was a great diversity of species in subantarctic regions and at least one giant species in a region around two thousand kilometers south of the equator in a climate decidedly warmer than today though they are birds penguins have flippers instead of wings they cannot fly and on land a waddle walking upright though when snow conditions are right they will slide on their bellies in the water they are expert swimmers and divers and some species can reach speeds of up to fifteen miles per hour the penguins distinctive colouring black body with white belly helps camouflage the bird in the water as it searches for meals of small shrimp fish crabs and squid the evolutionary history of penguins is well researched and represents a showcase of evolutionary bio geography although penguin and bones of any one species very much in size and few good specimens are known the alpha taxonomy of many prehistoric forms still leaves much to be desired some seminal articles about penguin pre history have been published since two thousand the evolution of the living genera can be considered resolved by now',\n",
              " \"animal farm is a satirical allegorical novella by george orwell first published in england on august seventeenth nineteen forty five the book tells the story of a group of farm animals who rebel against their human farmer hoping to create a society where the animals can be equal free and happy all ultimately the rebellion is betrayed and the farm ends up in a state as bad as it was before under the dictatorship of a pig named napoleon or well wrote the book between november nineteen forty three and february nineteen forty four when the united kingdom was in it's war time alliance with the soviet union against nazi germany and the british intelligentsia held stolen in high esteem a phenomenon or well hated the manuscript was initially rejected by a number of british and american publishers including one of orwell's own victor gollancz which delayed it's publication it became a great commercial success when it did up here partly because international relations were transformed as the war time alliance gave way to the cold war in the preface of a nineteen forty seven ukrainian edition of animal farm he explained how escaping the communist purges in spain taught him how easily totalitarian propaganda can control the opinion of enlightened people and democratic country he's this motivated door while to expose and strongly condemn what he saw as the stalinist corruption of the original socialist ideals homage to catalonia sold poorly after seeing arthur koestler best selling darkness at noon about the moscow trials are well decided that fiction was the best way to describe totality arianism immediately prior to writing the book or well had quit the bbc he was also upset about a book left for propagandists the ministry of information had put out the booklet included instructions on how to quell ideological fears of the soviet union such as directions to claim that the red terror was a pig mint of nazi imagination in the preface or well describe the source of the idea of setting the book on a farm i saw a little boy perhaps ten years old driving a huge cart horse along a narrow path whipping it whenever it tried to turn it struck me that if only such animals became aware of their strength we should have no power over them and that men exploit animals in much the same way as the rich exploit the proletariat\",\n",
              " \"william shakespeare was an english playwright poet and actor he is widely regarded as the greatest writer and the english language and the world's greatest dramatist he is often called england's national poet and the bard of a van or simply the bard his extant works including collaborations consist of some thirty nine plays a's one hundred and fifty four sonnets three long narrative poems and a few other verses some of uncertain authorship his plays have been translated into every major living language and are performed more often than those of any other playwright his works continue to be studied and reinterpreted published and sixteen no nine the sonnets were the last of shakespeare's non dramatic works to be printed scholars are not certain when each of the one hundred fifty four sonnets was composed but evidence suggests that shakespeare wrote sonnets throughout his career for a private readership shakespeare's works has made a lasting impression on later theatre and literature or in particular he expanded the dramatic potential of characterization plot language and genre until romeo and juliet for example romance had not been viewed as a worthy topic for tragedy soliloquies had been used mainly to convey information about characters or events but shakespeare used them to explore characters minds two hundred and eleven his work heavily influenced later poetry the romantic poets attempted to revive shakespearean verse drama though with little success shakespeare influenced novelists such as thomas hardy william faulkner and charles dickens the american novelist herman melville's soliloquies owe much to shakespeare is captain ahab and moby dick as a classic tragic hero inspired by king lear shakespeare has also inspired many painters including the romantics and the pre-raphaelites the swiss romantic artist henry fusilli a friend of william blake even translated macbeth into german\",\n",
              " 'snow bunting is a medium-sized full bodied songbird with a small conical bill snow buntings have several plumages but they always show white and her wings with black wingtips and a black and white tail breeding males are sharp white with a black back breeding females are whitish over all with a brown streak a back and a dusky head non-breeding males are white below with rusty patches on the crown ear and shoulder and dark streaks down the back non breeding females have a rusty wash on the face and darker rusty patches on the breast breeding males and females have a dark pill that turns yellowish orange during the non-breeding season walks along barren places with a hunched over posture easily blending in with the ground until the group takes flight in a burst of black and white forms large flocks often with horned larks and longspurs during the non-breeding season breeds on rocky tundra winters in opa weedy and grassy fields and along shores of lakes and oceans often concentrates on shorelines where debris piles up along the edge from wave or a wind action this pass orion is a ground dwelling species that walks runs and could potentially jump if needed for it is fairly large and long way pinned for a bunting it measures fifteen centimeters with a wingspan of thirty two to thirty eight centimeters thirteen to fifteen in and waits thirty to forty grams the snow bunting is the most northerly recorded pass a in the world they sometimes have been called snowflakes and flocks of snow buntings may seem like snowflakes as they swirl through the air and then settle on winter fields south of the arctic these are strictly winter birds arriving in late fall generally departing at the first signs of spring in summer they retired to bear on northern tundra with some breeding on the northernmost highlands of canada and the mountains of greenland in some high arctic communities snow buntings nest in birdhouses put out for them',\n",
              " \"a supernova is the biggest explosion that humans have ever seen each blast is the extremely bright super powerful explosion of a star one type of supernova is caused by the last hurrah of a dying massive star this happens when a star at least five times the mass of our sun goes out with a fantastic bang ng massive stars burn huge amounts of nuclear fuel at their cores or centers this produces tons of energy so the summer gets very hot heat generates pressure and pressure created by a star's nuclear burning also keeps that star from collapsing a star is imbalance between two opposite ver forces the star's gravity tries to squeeze the star into the smallest tightest ball possible but the nuclear fuel burning in the star's core creates strong outward pressure this outward push resists the inward squeeze of gravity usually a very dense core is left behind along with an expanding cloud od of hot gas called a nebula a supernova the star more than about ten times the size of our sun mail eve behind the densest objects in the universe black holes a second type of supernova can happen in systems where two stars orbit one another and at least one of those stars as an earth-sized white dwarf a white dwarf is what's left after a star the size of our sun has run out of fuel nasa's scientists use a number of different types of telescopes to search for and then study supernovas one example is a new start nuclear spectroscopic telescope array mission which uses x-ray vision to investigate the universe worse new star is helping scientists observed supernovas and young nebulas to learn more about what happens leading up to during and after the spectacular blasts\",\n",
              " \"over nineteen on the ground vaccine pfizer and bayern had been clinical trial for omicron specific vaccine pfizer and byron that began clever transfer ramadan specific vaccine in a press release pfizer announced the initiation of clinical study to evaluate safety tolerability and emotional generosity of an underground based vaccine candidate in healthy adults eighteen to fifty five years of age according to the information they need to study we'll have three different examinations evaluating evaluate fourteen twenty participants the study is part of a science based approach developed already in base vaccine that achieves a similar level of protection against emigrant as it did with earlier wiggins but with longer duration of protection said professor pagosa hint ceo and co-founder of by antec three cohorts of examination covered number one participants already vaccinated with pfizer overnighting vaccine will receive a hundred roaches on the underground base with c code number two participants with the two vaccines and the fazer bookstore will receive one both of the american-based vaccine covered number three non vaccinated participants will receive two doses of the american-based based vaccine as a part of ongoing efforts to address on the ground and determine the potential need for the beijing based vaccines read apart by anti-drug we initiated a study evaluating and on the ground-based over nineteen vaccine in adults eighteen to fifty five the omicron variant is the most contagious covered nineteen fees and pfizer wants to address a fast moving pandemic with a specific vaccine studies reveal that vaccines offer good protection against hospitalization severe illness and death scientific evidence reveals that a booster shot stand-ins those predictions and improves the chances of or worse eating greatest symptoms while current research and real world and our shoes that boucher continue to provide a high level of protection against severe disease and hospitalization with omicron a recognize the need to be prepared in the event this production means overtime and financially help address omega on a new radiance in the future this was said by a senior vice president and head of vaccine research and development at pfizer catherine pfizer and biotech were quantified to produce four billion doses of the coordinator vaccine in two thousand and twenty two in case the comic runway scene develops this year both companies won't change or reduce the capacity of production \",\n",
              " \"whales are a widely distributed and diverse group of fully aquatic placental marine mammals whales are the largest animals on earth and they live in every ocean the massive mammals range from the six hundred pound dwarf sperm whale to the colossal blue whale which can weigh more than two hundred tons as much as thirty three elephants and stretch up to one hundred feet long almost as long as a professional basketball court whales are warm blooded creatures that nurse their young there are two types of whales toothed and baleen toothed whales as the name suggests have teeth which are used to hunt and eat squid fish and seals toothed whales include sperm whales as well as dolphins porpoises and orcas among others the narwhals horn is actually one long tooth protruding through it's lip baleen whales are larger than toothed whales for the most part they include blue whales humpbacks right whales bowhead whales and others they feed by straining tiny shrimp like creatures called krill through the fringed plates of long fingernail like material called baleen attached to their upper jaws whales particularly humpbacks produce otherworldly vocalizations that can be heard for miles underwater the songs complex combinations of moans howls and cries that can continue for hours are produced when whales push air around in their heads then amplify the sounds through a blob of fat that perches on the top jaw it's thought that whales communicate through the calls which researchers believe can be heard for thousands of miles though the stark population declines from hunting have largely stopped several whale species are threatened or endangered including the blue whale right whale and fin whale by a combination of fishing net entanglements and being struck by ships\"]"
            ]
          },
          "metadata": {},
          "execution_count": 13
        }
      ]
    },
    {
      "cell_type": "markdown",
      "source": [
        "## 3.1 Lowercasing and Removing Punctuation, Numbers, Special Characters"
      ],
      "metadata": {
        "id": "cwJ0xb-wLjYU"
      }
    },
    {
      "cell_type": "code",
      "source": [
        "#Removing punctuation, numbers special characters and converting to lowercase\n",
        "\n",
        "stopword=nltk.corpus.stopwords.words('english')\n",
        "stopword.remove('not')\n",
        "for index,text_ in enumerate(text):\n",
        "    text_=re.sub(r'http/S+','',text_) #Removing urls from text \n",
        "    text_=re.sub(r'[^A-Za-z#]',' ',text_) #Removing Punctuations, Numbers, and Special Characters\n",
        "    text_=\" \".join(i.lower() for i in text_.split() if i.lower() not in stopword) #Removing stopword\n",
        "    text[index]=text_\n",
        "text"
      ],
      "metadata": {
        "id": "yGLEH0JPiD4v",
        "colab": {
          "base_uri": "https://localhost:8080/"
        },
        "outputId": "dc4e6133-3e60-4a37-d6f3-7c60630f979b"
      },
      "execution_count": null,
      "outputs": [
        {
          "output_type": "execute_result",
          "data": {
            "text/plain": [
              "['astronomy literally meaning science studies laws stars natural science studies celestial objects phenomena uses mathematics physics chemistry order explain origin evolution objects interest include planets moons stars nebulae galaxies comments relevant phenomena include supernova explosions gamma ray bursts quays blazers pulsars cosmic microwave background radiation generally astronomy studies everything originates beyond earth atmosphere cosmology branch astronomy studies universe whole renaissance nicolaus copernicus proposed heliocentric model solar system work defended galileo galilei expanded upon johannes kepler kepler first devise system correctly described details motion plan minutes surround sun however kepler not succeed formulating theory behind laws wrote one oldest fields astronomy science measurement positions celestial objects historically accurate knowledge positions sun moon planets stars essential celestial navigation use celestial objects guide navigation making calendars theorists astronomy endeavored create theoretical models results predict observational consequences models observation phenomenon predicted model allows astronomers see select several alternate conflicting models one best able describe phenomenon origin stellar mass spectrum astronomers observe distribution stellar masses initial mass function apparently regardless initial conditions deeper understanding formation stars planets needed amateur astronomers continue make scientific contributions field astronomy one scientific disciplines amateurs still make significant contributions',\n",
              " 'white dwarf also called degenerate dwarf stellar core remnant composed mostly electron degenerate matter white dwarf dense mass comparable sun volume comparable earth white dwarfs faint luminosity comes emission residual third mold energy fusion takes place white dwarf nearest known white dwarf sirius eight point six light years smaller component serious binary star currently thought eight white dwarfs among hundred star systems nearest sun unusual faintness white dwarves first recognized nineteen ten name white dwarf coined william law eitan nineteen twenty two white dwarfs thought final evolutionary state stars whose mass not high enough become neutron star black hole includes ninety seven percent stars milky way usually white dwarfs composed carbon oxygen seal white dwarf mass progenitor eight ten point five solar masses kama core temperature sufficient fuse carbon not neon case knox edge neon magnesium white dwarf may form stars low mass unable fuse helium hence helium white dwarf material white dwarf longer undergoes fusion reactions star source energy result cannot support heat generated fusion gravitational collapse apps supported electron degeneracy pressure causing extremely dance physics degeneracy yields maximum mass non rotating white dwarf chondrus sacre limit approximately one point four four times beyond cannot supported electron degeneracy pressure white dwarf hot forms source energy gradually cool radiates energy away means radiation initially high color temperature last reddened time long time white dwarf cool material begin crystallize starting core star low temperature means longer amid significant heat light become cold black dwarf',\n",
              " 'chimpanzees great apes found across central west africa along bonobos closest living relatives sharing ninety eight point seven percent genetic blueprint humans chimps also thought share common ancestor lived seven thirteen million years ago behavior chimpanzees highly social live communities several dozen animals led alpha male coalition male allies research shown male female chimps individual personalities females trusting timid groomed ing important part social life helping chimpanzees bond remove ticks dirt one another bodies although normally walk fours knuckle walking chimpanzees stand walk upright chimpanzees long arms hands fingers help climb trees swing branch branch dual use intelligent animal one species know use tools chimpanzees shape use sticks retrieve insects nests dig grubs logs use stones smash open tasty nuts employ leaves sponges soak drinking water chimpanzees even taught use basic human sign language habitat diet chimpanzees widest range great ape though many populations live tropical rainforests also found woodlands grasslands span thing central western africa usually sleep trees typically sturdy uganda ironwood tree offers firm stable place sleep build nests leaves chimps also eating trees though generally prefer fruits plants varied diet also includes insects eggs nuts hundreds things relish neat known kill eat monkeys small antelope even tortoises slam trees break open shells reproduction females chimpanzee give birth time year typically single infant clings mother fur later rides back time weaning ages three five females reach reproductive age thirteen males not considered adults fifteen',\n",
              " 'top four crypto exchanges india buy two poker cheap crypto exchange apart gold crypto getting major popularity among new generation terms returns offers cryptocurrency engineer investor first need create online storage open crypto like bitcoin work third party along training crypto exchange exchange investor create exchange account via exchange service county needs linked investors bank account bank crypto via exchange one safest easiest processes however reading security measures carefully important invest portfolio top represents exchanges listed select know going know going popular changing country one oldest cryptocurrency exchanges first current bitcoin space india started dunkirk outcome later shifted operations bang lulu established two thousand thirteen name kept worse not common western option camera investors higher risk appetite could step exchange around one point four seven million registers investors not going fix particular date time sell certain amount crypto know coin counter trade enable users trade bulk exchanges also launched mobile app user friendly current yet considered one top crypto exchanges india dump vex registered users four million access two hundred cryptocurrencies like bitcoin ethereum ripple light coin many altcoin illegal lily used starter launched two thousand eighteen casually mister started show interesting conditions trading fee low compared exchanges additionally investors get deposit withdrawals mrs free cost helpful option investors india trade directly indian rupees crypto exchange got reward alert list unicorns india two thousand twenty one track exam pay simple user friendly crypto exchange along security feature resemble outgoing transactions single click zebpay also gives offers new investors registers get trapeze hundred cashback first year five hundred offers generally attract new investors come field according pay two thirds indians bought first bitcoin one popular cryptos jp exchanges betting experience since two thousand fourteen facilitated ten billion dollars worth transactions time visitors edicts certainly unusual platform upgrade cryptocurrency named blue alex exchange informs maximum one billion blocks coins ever created investor buy wrx inr exchanged available cryptocurrencies huge availed across platforms web android ios play windows mac apps significantly security important profit globally discouraged process completed within hours signing safely ensuring right coverage protocol peer peer transactions edicts zero fees deposit x p two service help restrict openwork money reply instantly ex act escrow safekeeping transaction',\n",
              " 'india recently introduced crypto tax budget two thousand twenty two co products brings clarity not everyone happy experts believe thirty percent slab going increase tax burden cryptocurrency investors shell third returns towards taxes cryptogram see marketplace called government proposed taxation digital assets strong move towards recognizing cryptocurrency emerging asset class however not players happy move noting thirty percent slab high finance minister nirmala sitharaman tuesday introduced taxation virtual digital assets include cryptocurrencies non fungible tokens well government also introducing central bank digital currency popularly known city cbd sees powered blockchain technology two thousand twenty two twenty three biggest development today clarity crypto taxation add much needed recognition crypto system india also development removes ambiguity banks provide financial services crypto industry overall good news us need go detail version budget understand finer details mr shetty founder ceo undo dn cryptocurrency exchange visitor said welcoming taxation move sumit gupta co founder ceo quindi excelled statement brings much needed confidence industry added taxation virtual digital assets crypto step right direction encouraging see government taken positive step towards regulating digital assets change lot misconceptions around crypto assets pave way forward classifying separate asset class melvin thomas co founder sac coyne also noted statement investors pay thirty percent tax returns made trading investing cryptocurrencies digital assets thes losses transfer virtual digital asset cannot set income according announcement government also proposed provide tds payment made relation transfer virtual digital asset rate one percent concentration monetary threshold gift virtual asset also propose pose taxed hands recipient first step towards legitimate legitimizing digital asset market allowing indian talent compete global counterparts higher taxation counterproductive long run temporary measure contain unorganised trade transfer cryptocurrencies said heed ceo co founder easy fi network experts believe thirty percents lab going increase tax burden cryptocurrency investors shell third returns towards taxes smooth would force people move traditional modes investments stock mutual funds not subject high thirty percent dex shera chandra crypto told experts also pointed tedious rates make investment even care crypto traders multiple things income tax thirty percent india still acceptable one person tds makes tricky intraday traders india not see know coin cryptocurrency exchange tool indian express dot com yeah entered trading refers buying selling cryptocurrency day gilbert l cofounder chairman guardian link beyond live dog club nft platform also expressed disappointment humanities also gone virtual assets lumped one moment place component budget initially space get major roadblock investor community like good ecosystems show well understand regulation control elements crypto required nestled classes taxation eventually adjust go developing ecosystem worldwide still classified non taxable assets imperative adjustment understanding crypto token different digital ft taken consideration future amendments cc said',\n",
              " 'crypto one big ponzi change mind doubt sell wish joking brand joke ample warning ignore crypto not real nothing backing physical product know icing insurance company like microsoft google hardly trading regulations literary value given cryptocurrency price people willing pay means hope buyer someone buy bags higher price explained ponzi scheme cryptocurrency worth holding onto point dodge coin even starting get skeptical thought let talk big useless ponzi scheme going crash burn ninety nine ninety nine percent reading got crypto nine years clearly joke sorry not say said recent fifty one mainstream media articles videos call bitcoin joking point want see guys get know understand understand crypto must pyramid scheme also hear two plus two equal five bitcoin not going anywhere neither ethidium anyway bear market bring serious questions interesting one cryptocurrency created within two thousand eight financial crisis one credit greta said answer question lies perpetuating crypto markets right cryptocurrency wales investors among us ordinarily money control crypto not forget politics couple big plays throw towel entire portfolio worth less pocket length',\n",
              " 'token next word pawnshop lieu small change next time visit imagine digitally cryptocurrency big difference owner issuer would institute accepted global cryptocurrency digital virtual going go epigraphy makes next impossible counterfeit ministers designed use medium exchange buying goods services cryptocurrencies decentralized meaning authority regulates built blockchain network technology ensures transparency helps track every transaction currencies theoretically immune government interference kind manipulation cryptocurrency not underlying econo comic base vr information tools plus digital structure facilitates cerebral portability across geographical borders divisibility transparency however often criticized possibility misuse illegal activities exchanger volatility one credibility often infrastructure underlying cryptocurrencies work progressive work using technology called blockchain tokens used form payment exchange online goods services carry upgraded mine stored value like fiat currency like us dollar indian rupee pregnancies digitally mine sophisticated computers solve complex computational mathematics mathematics problem mining pain staking costly sporadically rewarding',\n",
              " 'run cryptocurrency prices last december also magnified divergences gardens according new research report bitwise asset management difference returns top bottom performing coins dragged bit vice index rose seventy four point nine percent december average price difference top bottom performing coins entire year three hundred percent wage report page case diversification within crypto investing dragged price top ten readable cryptocurrencies year starting march twenty seventeen period three coins repulsed could grow benzie xrp counterpart stellar xlm chinese coin neal provided maximum return investors together responsible next bangladesh chosen nine twelve months dragged broadway release resurrection cleared signal graders inherent volatility cryptocurrency meat market makes impossible rely signals examples except peas done street eighty percent may twenty seventeen quickly slid negative thirty six point one percent july cryptocurrency space time period fell one fell forty cents pob new level fifteen cents august bitcoin returns live hype despite pain despite penchant generating headlines due express volatility bitcoin topped list maximum returns july even provided measly returns compared points forty fifteen two percent mature assert would expect bitcoin lower end returns said matt hogan vice president research development bitwise according reasons behind poland new success hide syncretic due combination news development clever marketing partnerships coins still report states massive variability returns top ten cryptocurrencies consistency relation top coins one month leading mean cop range month follows report whose main thrust argument diversification cryptocurrency investment states according advisers martaban two reasons dispersion returns among cripples first one inherent volatility cryptocurrencies compared stocks bonds second reason according market understanding present surpasses average investors difference centrally controlled two percent like ripple truly distribute crypto asset like bitcoin immense hogan said market realizes returns reflected recent times also reports bitcoins correlation cryptocurrencies specifically bloomberg reported bitcoin price correlation went cryptocurrency market crashed declined researched advisers report reached different conclusion viewed holistically light analysis coalition strongly support idea returns individual coins heterogeneous report states',\n",
              " 'dodo extinct flightless bird endemic island vicious east madagascar indian ocean closest living relative dodo nicobar pigeon sub fossil remains show dodo one meter dull may weighed ten point six seventeen point five kilogram alms wild dodo appearance life evidenced drawings paintings written accounts seventeenth century since portraits vary considerably since illustrations known drawn live specimens dodo exact appearance life maine unresolved little known behavior depicted brownish grey plumage yellow feet tuft tail feathers grey naked head black yellow green beak used gizzard stones help digest food thought included fruits main habitat believed woods dryer coastal areas mauritius one account states clutch consisted single egg presumed dodo became flightless ready availability abundant food sources relative absence predators riches extinction dodo within less century discovery called attention previously unrecognized problem human involvement disappearance entire species addition fallen fruits dodo probably subsisted nuts seeds bulbs roots also suggested dough odo might eaten crabs shellfish like relatives crowned pigeons',\n",
              " 'dolphins small toothed cetaceans easily recognizable curved mouths give permanent smile thirty six dolphin species found every ocean dolphins marine live ocean brackish waters along coastlines species however lie south asian river dolphin amazon river dolphin boto live freshwater streams rivers largest dolphin orca grow thirty feet long smallest maui dolphin five feet long dolphins feed chiefly fish squid track using echo location built sonar bounces sound waves prey reveals information like location size shape echolocating bottle nose dolphin make thousand clicking noises per second living pods number dozen dolphins intensely social mammals communicate squeaks whistles clicks whether dolphins language humans topic scientists debated decades mammals warm blood nurse young dolphins one mate generous lee produce single offspring stay mother six years depending species dolphins graceful sleek swimmers reach speeds eighteen miles hour also playful often frolic boat wake leaping water possibly fun communicate eight even shed pesky parasites centuries people hunted dolphins meat blubber today main threat comes caught accidentally commercial fishing nets dolphins must rise regularly surface breathe becoming entangled nets prevents leading drowning ing main dolphins warming ocean temperatures climate change caused primary food sources move deeper cooler water furthermore marine heat waves also caused climate change appear negative effect dolphins reproductive rates ability survive addition hunting entanglement fishing gear freshwater dolphins face additional threat dams fragmenting degrading habitat',\n",
              " 'elephants largest land mammals earth distinctly massive bodies large ears long drunks use trunks pick objects trumpet warnings greet relevance suck water drinking bathing among uses male female african elephants grow tusks individual either left right tusked one use usually smaller wear tear elephant tusks serve many purposes extended teeth used protect elephant strung lift move objects gather food strip bark trees also used defense times drought elephants even use tusks dig holes find water underground genetically different african species exist savanna elephant forest elephant number characteristics differentiate african savannah elephant largest elephant species asian forest elephant african forest elephant comparable smaller size asian elephants differ several ways african relatives ten distinct physical differences example asian elephants ears smaller compared large fan shaped tears african species male asian elephants tusks male female african elephants grow tusks led matriarch elephants organized complex social structures females calves may lovitz tend live isolation small bachelor groups single calf born female every four five years gestation period twenty two months longest mammal cats cared entire herd related females female cats may stay maternal herd rest lives males leave heard reached puberty forest elephants social groups differ slightly may comprised adult female offspring however may congregate larger groups forest clearings resources abundant elephants need ext offensive land areas survive meet ecological needs includes food water space average elephant feed eighteen hours consume hundreds pounds plant matter single day result lose habitat often come conflict people competition resources',\n",
              " 'bank fixed deposits government small savings schemes traditional investment choice average indian household present bank india quarterly estimates household financial assets liabilities rupees four thousand seven hundred fifty three b ilion invested bank teas year two thousand eighteen latest year data available rbi hand despite growing popularity share major funds house fixed income assets still relatively quite small per amfi day february two thousand twenty retail hni net investment debt mutual funds last one year ending sept two thousand twenty obese two hundred sixty billion sap mutual fund sap debt mutual funds work investing fixed amato every month ender regular savings invest long period time benefit power compounding power compounding not work equity also works fixed income long investment investing fixed amount regular intervals monthly investing various price point average purchase cost known cost averaging since fixed income funds market linked schemes prices also subject volatility two sap take advantage fertility even fixed income phone especially longer duration sensitive interest rates fixed income outperform even long term extreme market conditions often challenge popularly held views one view equity ow performs always long term larger liquor starting today shows equity best performing asset class long term however promotional singing constitutes long term challenged chart shows annual leah terrorized average equity fixed income categories last three five ten years see insurance market conditions fixed income phones equity even fairly long ten years investor education initiative mirae asset mutual funds ratios editors case degrees not way depict performance individual scheme fund major funds investment subject market risks read scheme military documents carefully',\n",
              " 'griego lists green financial professional compatibility finance often responsibility left accounting departments employees tend pay corporate finance accounting issues mind ignoring finance however put behind competition comes well versed complex aspects working business maria profession position within organization idea beer market cpm stands time lose fear finance begin embrace money matters head start journey financial fluency learning basic financial terms concepts network easy one start may heard one time day today financial experts discussing company network two magazines discussing certain celebrities value dollars business context network simply means difference total assets total amount owe creditors financial stakeholders positive net worth indicates good financial health whilst negative net worth means company operating loss without going much nifty greedy corporate finance funds want inflation means sustained increase prices goods services certain period relation value national currency one inflation indicator working professionals look income rising proportionally initial rate inflation mood organization operates global scale inflation impact price point selling oxide companies country borders liquidity determined decades accessible assets monetary value assets regenerative work sold today corporates usually need balanced liquidity since creditors demand money time speed business generate cash significant impact financial well',\n",
              " 'jeffrey howard archer baron archer weston super mare born april fifteenth nineteen forty english novelist life peer former politician becoming author archie member parliament nineteen sixty nine nineteen seventy four not seek reelection finance oil scandal left almost bankrupt revived fortunes bestselling novelist books sold three hundred twenty million copies worldwide archer wrote first book not penny not penny less autumn nineteen seventy four means avoiding bankruptcy bug picked literary agent debra published first us eventually britain autumn nineteen seventy six radio adaptation aired bbc radio four early nineteen eighties bbc television adaptation book broadcast nineteen ninety cain abel nineteen seventy nine proved best selling work reaching number one new york times bestsellers list like early work edited richard cole olympic fencing gold medalist made television miniseries cbs nineteen eighty five five starring peter strauss sam neill following year granada tv screen baton part adaptation another archer bestseller first among equals told story four men quest become prime minister us edition novel character andrew fraser eliminated reducing number protagonists three well novels short stories archer also written three stage plays first beyond reasonable doubt opened nineteen eighty seven ran queens theatre london west end year twenty eight archers next play exclusive not well received critics closed weeks final play accused opened theatre royal windsor september twenty six two thousand transferring theatre royal haymarket west hand december nineteen eighty eight kathleen burnett accused archer play arising story written including short story collection twist tale archer denied plagiarized story claiming simply inspired idea sword long tall illustrated collection archer short stories published november two thousand twenty watercolor illustrations artist paul cox',\n",
              " 'mammoth member extinct group elephants mammoths hairy elephants genus mammoth mammatus lived europe four thousand five hundred years ago adapted cold climate killed hunters climate change series ice ages allowed math myths spread across land various species mammoth commonly equipped long curved tusks northern species covering long hair oldest representative mammoth us south african mammoth amazon planet fronds appeared around five million years ago early pliocene southern eastern africa descendant species mammoths moved north continued propagate numerous subsequent species eventually covering eurasia extending americas least six hundred thousand years ago last species emerge woolly mammoth emperor image nes developed four hundred thousand years ago east asia mammoths hunted early humans used spears cut hand axes frozen flesh analyzed dna sequence like modern relatives mammoths quite large largest known species reached heights region four meters thirteen point one feet shoulder weights eight tons eight point eight short tons exceptionally large males may exceeded twelve tons thirteen point two short tons however ce species mammoth large modern asian elephant two point five meters three meters high shoulder rarely exceeding five tons sexes bore tusks based studies close relatives modern elephants mammoths probably gestation period twenty two months resulting single calf born social structure probably african asian elephants females living herds headed matriarch whilst bowles lived solitary lives formed loose groups since many remains species man mammoth known several localities possible reconstruct evolutionary history genus logical studies mammoth species identified number enamel ridges molars primitive species ridges amount increased gradually new species evolved replaced former ones time crowns teeth became longer skulls become higher top bottom shorter back front time accommodate woolly mammoth emperor image nes last species genus populations woolly mammoth north america eurasia well columbian mammoths colombia north america died around time last glacial retreat part mass extinction megafauna northern eurasia americas',\n",
              " 'haruki murakami born january twelfth nineteen forty nine japanese writer novels essays short stories bestsellers japan well internationally work translated fifty languages selling millions copies outside japan received numerous awards work including guns prize new writers world fantasy award frank connor international short story award franz kafka prize jerusalem prize many novels themes titles evoke classical music three books making wind bird chronicle thieving magpie racine opera bird prophet piano piece robert schumann usually known english prophet bird bird catcher character mozart opera magic flute novels take titles songs dance dance dance dell nine nineteen fifty seven besides song although often thought titled beach boys nineteen sixty four tune norwegian wood beatles song south border west sun song south border two thousand six murakami became sixth recipient fronds com cut prize april two thousand fifteen murakami named one time one hundred influential people november two thousand sixteen awarded danish hans christian andersen literature award award previously british author jk rowling two thousand eighteen see university tokyo agreed house archives come iraq army including manuscripts source documents music collection collection intended opened scholars set open october two thousand twenty one',\n",
              " 'name metro safe microphones markedly instrument invest equity cootie related securities money related market instruments net asset value anyway mutual fund scheme depends market price underlying securities pulled based securities go depending market movement hence see disclaimer mutual funds subject market risk friendly picture deceive investors invested traditional fixed income investments like bank fixed deposits post small saving schemes etc often two versions invest first mutual funds much return get safe inverse metro phones important investors understand following mature not give short returns even mutual fund scheme paying regular dividends dividend paid major funds not assured asset management company aims che change dividend belgrade even stop detained period time deemed fit mt based market conditions guarantee capital production major phones prepared take risk investing mutual funds understand risk make informed investment decisions based risk appetite financial objectives mutual funds provide investment solutions wide spectrum risk appetite investment neat article try understand risk mutual funds investing discuss much unsafe risk agree funds three kinds risk equity mutual funds follows market risk also known systematic years risk affect entire stock market caused events may affect entire economy investment cycles common policies rba actions global events example overnight bundaberg global financial crisis nine eleven terrorist attack new york etc mortgages cause volatility mutual fund investment categories mutual funds mid cap fund small cap funds affected market volatility compared categories large gap invest according risk appetite without thinking safe mutual funds asymmetric risk risk impacts particular stock sector major funds aim diversify unsystematic risk may still unsystematic risk actively managed funds fund managers may overweight underweight stock sector thus order beat market benchmark index great advice investors want avoid unsystematic risks may invest idiots index fund jack market indexes data subject market risk however investors understand unsystematic risk not necessary really matters help fund managers gives superior returns sufficiently long investment horizon great advice investors invest according risk appetite investment needs without worrying safe invest mutual funds not liquidity risk arise due inability fund manager sell underlying securities scheme need arises redemption pressures not sufficient buyers due prevailing market conditions example high volatility beer market etc foreign manager may unable sell securities extreme market conditions mc may stop redemption certain mutual fund schemes liquidity risk equity funds back market segment example small cap funds compared liquid segment example large gaps',\n",
              " 'paulo coelho born august twenty fourth nineteen forty seven rio de janeiro brazil brazilian novelist known employing rich symbolism depictions often spiritually motivated journeys taken characters novel alchemist sold one hundred fifty million copies worldwide time best selling book brazilian writer nineteen eighty two coelho published first book pal archives failed make substantial impact nineteen eighty six contributed practical manual vampirism although later tried take shelves since considered bad quality making pilgrimage santiago de compostela nineteen eighty six coelho wrote pilgrimage published nineteen eighty seven trying overcome procrastination launching writing career coelho decided see white feather today sign god giving write new book seeing one window shop began writing day fourteen following year coelho wrote alchemists published small brazilian publishing house made initial print run nine hundred copies decided not reprint dod subsequently found bigger publishing house publication next bog breeder outcomes took harper collins decided publish book nineteen ninety four later became international bestseller two thousand nine interview syrian forward magazine coelho stated sufi tradition unemployed particularly writing alchemist later since publication alchemist coelho generally written least one novel every two years four pilgrimage hubby valkyries aleph autobiographical majority rest broadly fictional',\n",
              " 'penguins group aquatic flightless birds live almost exclusively southern hemisphere highly adapted life water penguins counter shaded dark white plumage flippers swimming penguins feed krill fish squid forms sea life catch swimming underwater spend roughly half lives land half sea although almost penguin species native southern hemisphere not found areas cold climates antarctica fact species penguin live far south south several species found temperate zone one species galapagos penguin lives near equator largest living species emperor penguin average adults one point one meters three feet seven tall weigh thirty five kilogram mes seventy seven pounds smallest penguin species little blue penguin also known fairy penguin stands around thirty three centimeters tall weighs one kilogram general today larger penguins inhabit colder regions smaller penguins inhabit regions temperate tropical climates prehistoric penguin species enormous tall heavy adult human great diversity species subantarctic regions least one giant species region around two thousand kilometers south equator climate decidedly warmer today though birds penguins flippers instead wings cannot fly land waddle walking upright though snow conditions right slide bellies water expert swimmers divers species reach speeds fifteen miles per hour penguins distinctive colouring black body white belly helps camouflage bird water searches meals small shrimp fish crabs squid evolutionary history penguins well researched represents showcase evolutionary bio geography although penguin bones one species much size good specimens known alpha taxonomy many prehistoric forms still leaves much desired seminal articles penguin pre history published since two thousand evolution living genera considered resolved',\n",
              " 'animal farm satirical allegorical novella george orwell first published england august seventeenth nineteen forty five book tells story group farm animals rebel human farmer hoping create society animals equal free happy ultimately rebellion betrayed farm ends state bad dictatorship pig named napoleon well wrote book november nineteen forty three february nineteen forty four united kingdom war time alliance soviet union nazi germany british intelligentsia held stolen high esteem phenomenon well hated manuscript initially rejected number british american publishers including one orwell victor gollancz delayed publication became great commercial success partly international relations transformed war time alliance gave way cold war preface nineteen forty seven ukrainian edition animal farm explained escaping communist purges spain taught easily totalitarian propaganda control opinion enlightened people democratic country motivated door expose strongly condemn saw stalinist corruption original socialist ideals homage catalonia sold poorly seeing arthur koestler best selling darkness noon moscow trials well decided fiction best way describe totality arianism immediately prior writing book well quit bbc also upset book left propagandists ministry information put booklet included instructions quell ideological fears soviet union directions claim red terror pig mint nazi imagination preface well describe source idea setting book farm saw little boy perhaps ten years old driving huge cart horse along narrow path whipping whenever tried turn struck animals became aware strength power men exploit animals much way rich exploit proletariat',\n",
              " 'william shakespeare english playwright poet actor widely regarded greatest writer english language world greatest dramatist often called england national poet bard van simply bard extant works including collaborations consist thirty nine plays one hundred fifty four sonnets three long narrative poems verses uncertain authorship plays translated every major living language performed often playwright works continue studied reinterpreted published sixteen nine sonnets last shakespeare non dramatic works printed scholars not certain one hundred fifty four sonnets composed evidence suggests shakespeare wrote sonnets throughout career private readership shakespeare works made lasting impression later theatre literature particular expanded dramatic potential characterization plot language genre romeo juliet example romance not viewed worthy topic tragedy soliloquies used mainly convey information characters events shakespeare used explore characters minds two hundred eleven work heavily influenced later poetry romantic poets attempted revive shakespearean verse drama though little success shakespeare influenced novelists thomas hardy william faulkner charles dickens american novelist herman melville soliloquies owe much shakespeare captain ahab moby dick classic tragic hero inspired king lear shakespeare also inspired many painters including romantics pre raphaelites swiss romantic artist henry fusilli friend william blake even translated macbeth german',\n",
              " 'snow bunting medium sized full bodied songbird small conical bill snow buntings several plumages always show white wings black wingtips black white tail breeding males sharp white black back breeding females whitish brown streak back dusky head non breeding males white rusty patches crown ear shoulder dark streaks back non breeding females rusty wash face darker rusty patches breast breeding males females dark pill turns yellowish orange non breeding season walks along barren places hunched posture easily blending ground group takes flight burst black white forms large flocks often horned larks longspurs non breeding season breeds rocky tundra winters opa weedy grassy fields along shores lakes oceans often concentrates shorelines debris piles along edge wave wind action pass orion ground dwelling species walks runs could potentially jump needed fairly large long way pinned bunting measures fifteen centimeters wingspan thirty two thirty eight centimeters thirteen fifteen waits thirty forty grams snow bunting northerly recorded pass world sometimes called snowflakes flocks snow buntings may seem like snowflakes swirl air settle winter fields south arctic strictly winter birds arriving late fall generally departing first signs spring summer retired bear northern tundra breeding northernmost highlands canada mountains greenland high arctic communities snow buntings nest birdhouses put',\n",
              " 'supernova biggest explosion humans ever seen blast extremely bright super powerful explosion star one type supernova caused last hurrah dying massive star happens star least five times mass sun goes fantastic bang ng massive stars burn huge amounts nuclear fuel cores centers produces tons energy summer gets hot heat generates pressure pressure created star nuclear burning also keeps star collapsing star imbalance two opposite ver forces star gravity tries squeeze star smallest tightest ball possible nuclear fuel burning star core creates strong outward pressure outward push resists inward squeeze gravity usually dense core left behind along expanding cloud od hot gas called nebula supernova star ten times size sun mail eve behind densest objects universe black holes second type supernova happen systems two stars orbit one another least one stars earth sized white dwarf white dwarf left star size sun run fuel nasa scientists use number different types telescopes search study supernovas one example new start nuclear spectroscopic telescope array mission uses x ray vision investigate universe worse new star helping scientists observed supernovas young nebulas learn happens leading spectacular blasts',\n",
              " 'nineteen ground vaccine pfizer bayern clinical trial omicron specific vaccine pfizer byron began clever transfer ramadan specific vaccine press release pfizer announced initiation clinical study evaluate safety tolerability emotional generosity underground based vaccine candidate healthy adults eighteen fifty five years age according information need study three different examinations evaluating evaluate fourteen twenty participants study part science based approach developed already base vaccine achieves similar level protection emigrant earlier wiggins longer duration protection said professor pagosa hint ceo co founder antec three cohorts examination covered number one participants already vaccinated pfizer overnighting vaccine receive hundred roaches underground base c code number two participants two vaccines fazer bookstore receive one american based vaccine covered number three non vaccinated participants receive two doses american based based vaccine part ongoing efforts address ground determine potential need beijing based vaccines read apart anti drug initiated study evaluating ground based nineteen vaccine adults eighteen fifty five omicron variant contagious covered nineteen fees pfizer wants address fast moving pandemic specific vaccine studies reveal vaccines offer good protection hospitalization severe illness death scientific evidence reveals booster shot stand ins predictions improves chances worse eating greatest symptoms current research real world shoes boucher continue provide high level protection severe disease hospitalization omicron recognize need prepared event production means overtime financially help address omega new radiance future said senior vice president head vaccine research development pfizer catherine pfizer biotech quantified produce four billion doses coordinator vaccine two thousand twenty two case comic runway scene develops year companies change reduce capacity production',\n",
              " 'whales widely distributed diverse group fully aquatic placental marine mammals whales largest animals earth live every ocean massive mammals range six hundred pound dwarf sperm whale colossal blue whale weigh two hundred tons much thirty three elephants stretch one hundred feet long almost long professional basketball court whales warm blooded creatures nurse young two types whales toothed baleen toothed whales name suggests teeth used hunt eat squid fish seals toothed whales include sperm whales well dolphins porpoises orcas among others narwhals horn actually one long tooth protruding lip baleen whales larger toothed whales part include blue whales humpbacks right whales bowhead whales others feed straining tiny shrimp like creatures called krill fringed plates long fingernail like material called baleen attached upper jaws whales particularly humpbacks produce otherworldly vocalizations heard miles underwater songs complex combinations moans howls cries continue hours produced whales push air around heads amplify sounds blob fat perches top jaw thought whales communicate calls researchers believe heard thousands miles though stark population declines hunting largely stopped several whale species threatened endangered including blue whale right whale fin whale combination fishing net entanglements struck ships']"
            ]
          },
          "metadata": {},
          "execution_count": 14
        }
      ]
    },
    {
      "cell_type": "markdown",
      "source": [
        "## 3.2 Multiple Word removal"
      ],
      "metadata": {
        "id": "EWkTHew0KESG"
      }
    },
    {
      "cell_type": "code",
      "source": [
        "def multiple_word_remove_func(text, words_2_remove_list):\n",
        "    words_to_remove_list = words_2_remove_list\n",
        "    words = word_tokenize(text)\n",
        "    text = ' '.join([word for word in words if word not in words_to_remove_list])\n",
        "    return text\n",
        "\n",
        "for index,text_ in enumerate(text):\n",
        "    text_=multiple_word_remove_func(text_,['a','an','the','they','is','xxx'])\n",
        "    text[index]=text_\n",
        "text"
      ],
      "metadata": {
        "id": "1RDYJOn0itEs",
        "colab": {
          "base_uri": "https://localhost:8080/"
        },
        "outputId": "73b02607-de76-4f74-a52a-fb6688f49536"
      },
      "execution_count": null,
      "outputs": [
        {
          "output_type": "execute_result",
          "data": {
            "text/plain": [
              "['astronomy literally meaning science studies laws stars natural science studies celestial objects phenomena uses mathematics physics chemistry order explain origin evolution objects interest include planets moons stars nebulae galaxies comments relevant phenomena include supernova explosions gamma ray bursts quays blazers pulsars cosmic microwave background radiation generally astronomy studies everything originates beyond earth atmosphere cosmology branch astronomy studies universe whole renaissance nicolaus copernicus proposed heliocentric model solar system work defended galileo galilei expanded upon johannes kepler kepler first devise system correctly described details motion plan minutes surround sun however kepler not succeed formulating theory behind laws wrote one oldest fields astronomy science measurement positions celestial objects historically accurate knowledge positions sun moon planets stars essential celestial navigation use celestial objects guide navigation making calendars theorists astronomy endeavored create theoretical models results predict observational consequences models observation phenomenon predicted model allows astronomers see select several alternate conflicting models one best able describe phenomenon origin stellar mass spectrum astronomers observe distribution stellar masses initial mass function apparently regardless initial conditions deeper understanding formation stars planets needed amateur astronomers continue make scientific contributions field astronomy one scientific disciplines amateurs still make significant contributions',\n",
              " 'white dwarf also called degenerate dwarf stellar core remnant composed mostly electron degenerate matter white dwarf dense mass comparable sun volume comparable earth white dwarfs faint luminosity comes emission residual third mold energy fusion takes place white dwarf nearest known white dwarf sirius eight point six light years smaller component serious binary star currently thought eight white dwarfs among hundred star systems nearest sun unusual faintness white dwarves first recognized nineteen ten name white dwarf coined william law eitan nineteen twenty two white dwarfs thought final evolutionary state stars whose mass not high enough become neutron star black hole includes ninety seven percent stars milky way usually white dwarfs composed carbon oxygen seal white dwarf mass progenitor eight ten point five solar masses kama core temperature sufficient fuse carbon not neon case knox edge neon magnesium white dwarf may form stars low mass unable fuse helium hence helium white dwarf material white dwarf longer undergoes fusion reactions star source energy result can not support heat generated fusion gravitational collapse apps supported electron degeneracy pressure causing extremely dance physics degeneracy yields maximum mass non rotating white dwarf chondrus sacre limit approximately one point four four times beyond can not supported electron degeneracy pressure white dwarf hot forms source energy gradually cool radiates energy away means radiation initially high color temperature last reddened time long time white dwarf cool material begin crystallize starting core star low temperature means longer amid significant heat light become cold black dwarf',\n",
              " 'chimpanzees great apes found across central west africa along bonobos closest living relatives sharing ninety eight point seven percent genetic blueprint humans chimps also thought share common ancestor lived seven thirteen million years ago behavior chimpanzees highly social live communities several dozen animals led alpha male coalition male allies research shown male female chimps individual personalities females trusting timid groomed ing important part social life helping chimpanzees bond remove ticks dirt one another bodies although normally walk fours knuckle walking chimpanzees stand walk upright chimpanzees long arms hands fingers help climb trees swing branch branch dual use intelligent animal one species know use tools chimpanzees shape use sticks retrieve insects nests dig grubs logs use stones smash open tasty nuts employ leaves sponges soak drinking water chimpanzees even taught use basic human sign language habitat diet chimpanzees widest range great ape though many populations live tropical rainforests also found woodlands grasslands span thing central western africa usually sleep trees typically sturdy uganda ironwood tree offers firm stable place sleep build nests leaves chimps also eating trees though generally prefer fruits plants varied diet also includes insects eggs nuts hundreds things relish neat known kill eat monkeys small antelope even tortoises slam trees break open shells reproduction females chimpanzee give birth time year typically single infant clings mother fur later rides back time weaning ages three five females reach reproductive age thirteen males not considered adults fifteen',\n",
              " 'top four crypto exchanges india buy two poker cheap crypto exchange apart gold crypto getting major popularity among new generation terms returns offers cryptocurrency engineer investor first need create online storage open crypto like bitcoin work third party along training crypto exchange exchange investor create exchange account via exchange service county needs linked investors bank account bank crypto via exchange one safest easiest processes however reading security measures carefully important invest portfolio top represents exchanges listed select know going know going popular changing country one oldest cryptocurrency exchanges first current bitcoin space india started dunkirk outcome later shifted operations bang lulu established two thousand thirteen name kept worse not common western option camera investors higher risk appetite could step exchange around one point four seven million registers investors not going fix particular date time sell certain amount crypto know coin counter trade enable users trade bulk exchanges also launched mobile app user friendly current yet considered one top crypto exchanges india dump vex registered users four million access two hundred cryptocurrencies like bitcoin ethereum ripple light coin many altcoin illegal lily used starter launched two thousand eighteen casually mister started show interesting conditions trading fee low compared exchanges additionally investors get deposit withdrawals mrs free cost helpful option investors india trade directly indian rupees crypto exchange got reward alert list unicorns india two thousand twenty one track exam pay simple user friendly crypto exchange along security feature resemble outgoing transactions single click zebpay also gives offers new investors registers get trapeze hundred cashback first year five hundred offers generally attract new investors come field according pay two thirds indians bought first bitcoin one popular cryptos jp exchanges betting experience since two thousand fourteen facilitated ten billion dollars worth transactions time visitors edicts certainly unusual platform upgrade cryptocurrency named blue alex exchange informs maximum one billion blocks coins ever created investor buy wrx inr exchanged available cryptocurrencies huge availed across platforms web android ios play windows mac apps significantly security important profit globally discouraged process completed within hours signing safely ensuring right coverage protocol peer peer transactions edicts zero fees deposit x p two service help restrict openwork money reply instantly ex act escrow safekeeping transaction',\n",
              " 'india recently introduced crypto tax budget two thousand twenty two co products brings clarity not everyone happy experts believe thirty percent slab going increase tax burden cryptocurrency investors shell third returns towards taxes cryptogram see marketplace called government proposed taxation digital assets strong move towards recognizing cryptocurrency emerging asset class however not players happy move noting thirty percent slab high finance minister nirmala sitharaman tuesday introduced taxation virtual digital assets include cryptocurrencies non fungible tokens well government also introducing central bank digital currency popularly known city cbd sees powered blockchain technology two thousand twenty two twenty three biggest development today clarity crypto taxation add much needed recognition crypto system india also development removes ambiguity banks provide financial services crypto industry overall good news us need go detail version budget understand finer details mr shetty founder ceo undo dn cryptocurrency exchange visitor said welcoming taxation move sumit gupta co founder ceo quindi excelled statement brings much needed confidence industry added taxation virtual digital assets crypto step right direction encouraging see government taken positive step towards regulating digital assets change lot misconceptions around crypto assets pave way forward classifying separate asset class melvin thomas co founder sac coyne also noted statement investors pay thirty percent tax returns made trading investing cryptocurrencies digital assets thes losses transfer virtual digital asset can not set income according announcement government also proposed provide tds payment made relation transfer virtual digital asset rate one percent concentration monetary threshold gift virtual asset also propose pose taxed hands recipient first step towards legitimate legitimizing digital asset market allowing indian talent compete global counterparts higher taxation counterproductive long run temporary measure contain unorganised trade transfer cryptocurrencies said heed ceo co founder easy fi network experts believe thirty percents lab going increase tax burden cryptocurrency investors shell third returns towards taxes smooth would force people move traditional modes investments stock mutual funds not subject high thirty percent dex shera chandra crypto told experts also pointed tedious rates make investment even care crypto traders multiple things income tax thirty percent india still acceptable one person tds makes tricky intraday traders india not see know coin cryptocurrency exchange tool indian express dot com yeah entered trading refers buying selling cryptocurrency day gilbert l cofounder chairman guardian link beyond live dog club nft platform also expressed disappointment humanities also gone virtual assets lumped one moment place component budget initially space get major roadblock investor community like good ecosystems show well understand regulation control elements crypto required nestled classes taxation eventually adjust go developing ecosystem worldwide still classified non taxable assets imperative adjustment understanding crypto token different digital ft taken consideration future amendments cc said',\n",
              " 'crypto one big ponzi change mind doubt sell wish joking brand joke ample warning ignore crypto not real nothing backing physical product know icing insurance company like microsoft google hardly trading regulations literary value given cryptocurrency price people willing pay means hope buyer someone buy bags higher price explained ponzi scheme cryptocurrency worth holding onto point dodge coin even starting get skeptical thought let talk big useless ponzi scheme going crash burn ninety nine ninety nine percent reading got crypto nine years clearly joke sorry not say said recent fifty one mainstream media articles videos call bitcoin joking point want see guys get know understand understand crypto must pyramid scheme also hear two plus two equal five bitcoin not going anywhere neither ethidium anyway bear market bring serious questions interesting one cryptocurrency created within two thousand eight financial crisis one credit greta said answer question lies perpetuating crypto markets right cryptocurrency wales investors among us ordinarily money control crypto not forget politics couple big plays throw towel entire portfolio worth less pocket length',\n",
              " 'token next word pawnshop lieu small change next time visit imagine digitally cryptocurrency big difference owner issuer would institute accepted global cryptocurrency digital virtual going go epigraphy makes next impossible counterfeit ministers designed use medium exchange buying goods services cryptocurrencies decentralized meaning authority regulates built blockchain network technology ensures transparency helps track every transaction currencies theoretically immune government interference kind manipulation cryptocurrency not underlying econo comic base vr information tools plus digital structure facilitates cerebral portability across geographical borders divisibility transparency however often criticized possibility misuse illegal activities exchanger volatility one credibility often infrastructure underlying cryptocurrencies work progressive work using technology called blockchain tokens used form payment exchange online goods services carry upgraded mine stored value like fiat currency like us dollar indian rupee pregnancies digitally mine sophisticated computers solve complex computational mathematics mathematics problem mining pain staking costly sporadically rewarding',\n",
              " 'run cryptocurrency prices last december also magnified divergences gardens according new research report bitwise asset management difference returns top bottom performing coins dragged bit vice index rose seventy four point nine percent december average price difference top bottom performing coins entire year three hundred percent wage report page case diversification within crypto investing dragged price top ten readable cryptocurrencies year starting march twenty seventeen period three coins repulsed could grow benzie xrp counterpart stellar xlm chinese coin neal provided maximum return investors together responsible next bangladesh chosen nine twelve months dragged broadway release resurrection cleared signal graders inherent volatility cryptocurrency meat market makes impossible rely signals examples except peas done street eighty percent may twenty seventeen quickly slid negative thirty six point one percent july cryptocurrency space time period fell one fell forty cents pob new level fifteen cents august bitcoin returns live hype despite pain despite penchant generating headlines due express volatility bitcoin topped list maximum returns july even provided measly returns compared points forty fifteen two percent mature assert would expect bitcoin lower end returns said matt hogan vice president research development bitwise according reasons behind poland new success hide syncretic due combination news development clever marketing partnerships coins still report states massive variability returns top ten cryptocurrencies consistency relation top coins one month leading mean cop range month follows report whose main thrust argument diversification cryptocurrency investment states according advisers martaban two reasons dispersion returns among cripples first one inherent volatility cryptocurrencies compared stocks bonds second reason according market understanding present surpasses average investors difference centrally controlled two percent like ripple truly distribute crypto asset like bitcoin immense hogan said market realizes returns reflected recent times also reports bitcoins correlation cryptocurrencies specifically bloomberg reported bitcoin price correlation went cryptocurrency market crashed declined researched advisers report reached different conclusion viewed holistically light analysis coalition strongly support idea returns individual coins heterogeneous report states',\n",
              " 'dodo extinct flightless bird endemic island vicious east madagascar indian ocean closest living relative dodo nicobar pigeon sub fossil remains show dodo one meter dull may weighed ten point six seventeen point five kilogram alms wild dodo appearance life evidenced drawings paintings written accounts seventeenth century since portraits vary considerably since illustrations known drawn live specimens dodo exact appearance life maine unresolved little known behavior depicted brownish grey plumage yellow feet tuft tail feathers grey naked head black yellow green beak used gizzard stones help digest food thought included fruits main habitat believed woods dryer coastal areas mauritius one account states clutch consisted single egg presumed dodo became flightless ready availability abundant food sources relative absence predators riches extinction dodo within less century discovery called attention previously unrecognized problem human involvement disappearance entire species addition fallen fruits dodo probably subsisted nuts seeds bulbs roots also suggested dough odo might eaten crabs shellfish like relatives crowned pigeons',\n",
              " 'dolphins small toothed cetaceans easily recognizable curved mouths give permanent smile thirty six dolphin species found every ocean dolphins marine live ocean brackish waters along coastlines species however lie south asian river dolphin amazon river dolphin boto live freshwater streams rivers largest dolphin orca grow thirty feet long smallest maui dolphin five feet long dolphins feed chiefly fish squid track using echo location built sonar bounces sound waves prey reveals information like location size shape echolocating bottle nose dolphin make thousand clicking noises per second living pods number dozen dolphins intensely social mammals communicate squeaks whistles clicks whether dolphins language humans topic scientists debated decades mammals warm blood nurse young dolphins one mate generous lee produce single offspring stay mother six years depending species dolphins graceful sleek swimmers reach speeds eighteen miles hour also playful often frolic boat wake leaping water possibly fun communicate eight even shed pesky parasites centuries people hunted dolphins meat blubber today main threat comes caught accidentally commercial fishing nets dolphins must rise regularly surface breathe becoming entangled nets prevents leading drowning ing main dolphins warming ocean temperatures climate change caused primary food sources move deeper cooler water furthermore marine heat waves also caused climate change appear negative effect dolphins reproductive rates ability survive addition hunting entanglement fishing gear freshwater dolphins face additional threat dams fragmenting degrading habitat',\n",
              " 'elephants largest land mammals earth distinctly massive bodies large ears long drunks use trunks pick objects trumpet warnings greet relevance suck water drinking bathing among uses male female african elephants grow tusks individual either left right tusked one use usually smaller wear tear elephant tusks serve many purposes extended teeth used protect elephant strung lift move objects gather food strip bark trees also used defense times drought elephants even use tusks dig holes find water underground genetically different african species exist savanna elephant forest elephant number characteristics differentiate african savannah elephant largest elephant species asian forest elephant african forest elephant comparable smaller size asian elephants differ several ways african relatives ten distinct physical differences example asian elephants ears smaller compared large fan shaped tears african species male asian elephants tusks male female african elephants grow tusks led matriarch elephants organized complex social structures females calves may lovitz tend live isolation small bachelor groups single calf born female every four five years gestation period twenty two months longest mammal cats cared entire herd related females female cats may stay maternal herd rest lives males leave heard reached puberty forest elephants social groups differ slightly may comprised adult female offspring however may congregate larger groups forest clearings resources abundant elephants need ext offensive land areas survive meet ecological needs includes food water space average elephant feed eighteen hours consume hundreds pounds plant matter single day result lose habitat often come conflict people competition resources',\n",
              " 'bank fixed deposits government small savings schemes traditional investment choice average indian household present bank india quarterly estimates household financial assets liabilities rupees four thousand seven hundred fifty three b ilion invested bank teas year two thousand eighteen latest year data available rbi hand despite growing popularity share major funds house fixed income assets still relatively quite small per amfi day february two thousand twenty retail hni net investment debt mutual funds last one year ending sept two thousand twenty obese two hundred sixty billion sap mutual fund sap debt mutual funds work investing fixed amato every month ender regular savings invest long period time benefit power compounding power compounding not work equity also works fixed income long investment investing fixed amount regular intervals monthly investing various price point average purchase cost known cost averaging since fixed income funds market linked schemes prices also subject volatility two sap take advantage fertility even fixed income phone especially longer duration sensitive interest rates fixed income outperform even long term extreme market conditions often challenge popularly held views one view equity ow performs always long term larger liquor starting today shows equity best performing asset class long term however promotional singing constitutes long term challenged chart shows annual leah terrorized average equity fixed income categories last three five ten years see insurance market conditions fixed income phones equity even fairly long ten years investor education initiative mirae asset mutual funds ratios editors case degrees not way depict performance individual scheme fund major funds investment subject market risks read scheme military documents carefully',\n",
              " 'griego lists green financial professional compatibility finance often responsibility left accounting departments employees tend pay corporate finance accounting issues mind ignoring finance however put behind competition comes well versed complex aspects working business maria profession position within organization idea beer market cpm stands time lose fear finance begin embrace money matters head start journey financial fluency learning basic financial terms concepts network easy one start may heard one time day today financial experts discussing company network two magazines discussing certain celebrities value dollars business context network simply means difference total assets total amount owe creditors financial stakeholders positive net worth indicates good financial health whilst negative net worth means company operating loss without going much nifty greedy corporate finance funds want inflation means sustained increase prices goods services certain period relation value national currency one inflation indicator working professionals look income rising proportionally initial rate inflation mood organization operates global scale inflation impact price point selling oxide companies country borders liquidity determined decades accessible assets monetary value assets regenerative work sold today corporates usually need balanced liquidity since creditors demand money time speed business generate cash significant impact financial well',\n",
              " 'jeffrey howard archer baron archer weston super mare born april fifteenth nineteen forty english novelist life peer former politician becoming author archie member parliament nineteen sixty nine nineteen seventy four not seek reelection finance oil scandal left almost bankrupt revived fortunes bestselling novelist books sold three hundred twenty million copies worldwide archer wrote first book not penny not penny less autumn nineteen seventy four means avoiding bankruptcy bug picked literary agent debra published first us eventually britain autumn nineteen seventy six radio adaptation aired bbc radio four early nineteen eighties bbc television adaptation book broadcast nineteen ninety cain abel nineteen seventy nine proved best selling work reaching number one new york times bestsellers list like early work edited richard cole olympic fencing gold medalist made television miniseries cbs nineteen eighty five five starring peter strauss sam neill following year granada tv screen baton part adaptation another archer bestseller first among equals told story four men quest become prime minister us edition novel character andrew fraser eliminated reducing number protagonists three well novels short stories archer also written three stage plays first beyond reasonable doubt opened nineteen eighty seven ran queens theatre london west end year twenty eight archers next play exclusive not well received critics closed weeks final play accused opened theatre royal windsor september twenty six two thousand transferring theatre royal haymarket west hand december nineteen eighty eight kathleen burnett accused archer play arising story written including short story collection twist tale archer denied plagiarized story claiming simply inspired idea sword long tall illustrated collection archer short stories published november two thousand twenty watercolor illustrations artist paul cox',\n",
              " 'mammoth member extinct group elephants mammoths hairy elephants genus mammoth mammatus lived europe four thousand five hundred years ago adapted cold climate killed hunters climate change series ice ages allowed math myths spread across land various species mammoth commonly equipped long curved tusks northern species covering long hair oldest representative mammoth us south african mammoth amazon planet fronds appeared around five million years ago early pliocene southern eastern africa descendant species mammoths moved north continued propagate numerous subsequent species eventually covering eurasia extending americas least six hundred thousand years ago last species emerge woolly mammoth emperor image nes developed four hundred thousand years ago east asia mammoths hunted early humans used spears cut hand axes frozen flesh analyzed dna sequence like modern relatives mammoths quite large largest known species reached heights region four meters thirteen point one feet shoulder weights eight tons eight point eight short tons exceptionally large males may exceeded twelve tons thirteen point two short tons however ce species mammoth large modern asian elephant two point five meters three meters high shoulder rarely exceeding five tons sexes bore tusks based studies close relatives modern elephants mammoths probably gestation period twenty two months resulting single calf born social structure probably african asian elephants females living herds headed matriarch whilst bowles lived solitary lives formed loose groups since many remains species man mammoth known several localities possible reconstruct evolutionary history genus logical studies mammoth species identified number enamel ridges molars primitive species ridges amount increased gradually new species evolved replaced former ones time crowns teeth became longer skulls become higher top bottom shorter back front time accommodate woolly mammoth emperor image nes last species genus populations woolly mammoth north america eurasia well columbian mammoths colombia north america died around time last glacial retreat part mass extinction megafauna northern eurasia americas',\n",
              " 'haruki murakami born january twelfth nineteen forty nine japanese writer novels essays short stories bestsellers japan well internationally work translated fifty languages selling millions copies outside japan received numerous awards work including guns prize new writers world fantasy award frank connor international short story award franz kafka prize jerusalem prize many novels themes titles evoke classical music three books making wind bird chronicle thieving magpie racine opera bird prophet piano piece robert schumann usually known english prophet bird bird catcher character mozart opera magic flute novels take titles songs dance dance dance dell nine nineteen fifty seven besides song although often thought titled beach boys nineteen sixty four tune norwegian wood beatles song south border west sun song south border two thousand six murakami became sixth recipient fronds com cut prize april two thousand fifteen murakami named one time one hundred influential people november two thousand sixteen awarded danish hans christian andersen literature award award previously british author jk rowling two thousand eighteen see university tokyo agreed house archives come iraq army including manuscripts source documents music collection collection intended opened scholars set open october two thousand twenty one',\n",
              " 'name metro safe microphones markedly instrument invest equity cootie related securities money related market instruments net asset value anyway mutual fund scheme depends market price underlying securities pulled based securities go depending market movement hence see disclaimer mutual funds subject market risk friendly picture deceive investors invested traditional fixed income investments like bank fixed deposits post small saving schemes etc often two versions invest first mutual funds much return get safe inverse metro phones important investors understand following mature not give short returns even mutual fund scheme paying regular dividends dividend paid major funds not assured asset management company aims che change dividend belgrade even stop detained period time deemed fit mt based market conditions guarantee capital production major phones prepared take risk investing mutual funds understand risk make informed investment decisions based risk appetite financial objectives mutual funds provide investment solutions wide spectrum risk appetite investment neat article try understand risk mutual funds investing discuss much unsafe risk agree funds three kinds risk equity mutual funds follows market risk also known systematic years risk affect entire stock market caused events may affect entire economy investment cycles common policies rba actions global events example overnight bundaberg global financial crisis nine eleven terrorist attack new york etc mortgages cause volatility mutual fund investment categories mutual funds mid cap fund small cap funds affected market volatility compared categories large gap invest according risk appetite without thinking safe mutual funds asymmetric risk risk impacts particular stock sector major funds aim diversify unsystematic risk may still unsystematic risk actively managed funds fund managers may overweight underweight stock sector thus order beat market benchmark index great advice investors want avoid unsystematic risks may invest idiots index fund jack market indexes data subject market risk however investors understand unsystematic risk not necessary really matters help fund managers gives superior returns sufficiently long investment horizon great advice investors invest according risk appetite investment needs without worrying safe invest mutual funds not liquidity risk arise due inability fund manager sell underlying securities scheme need arises redemption pressures not sufficient buyers due prevailing market conditions example high volatility beer market etc foreign manager may unable sell securities extreme market conditions mc may stop redemption certain mutual fund schemes liquidity risk equity funds back market segment example small cap funds compared liquid segment example large gaps',\n",
              " 'paulo coelho born august twenty fourth nineteen forty seven rio de janeiro brazil brazilian novelist known employing rich symbolism depictions often spiritually motivated journeys taken characters novel alchemist sold one hundred fifty million copies worldwide time best selling book brazilian writer nineteen eighty two coelho published first book pal archives failed make substantial impact nineteen eighty six contributed practical manual vampirism although later tried take shelves since considered bad quality making pilgrimage santiago de compostela nineteen eighty six coelho wrote pilgrimage published nineteen eighty seven trying overcome procrastination launching writing career coelho decided see white feather today sign god giving write new book seeing one window shop began writing day fourteen following year coelho wrote alchemists published small brazilian publishing house made initial print run nine hundred copies decided not reprint dod subsequently found bigger publishing house publication next bog breeder outcomes took harper collins decided publish book nineteen ninety four later became international bestseller two thousand nine interview syrian forward magazine coelho stated sufi tradition unemployed particularly writing alchemist later since publication alchemist coelho generally written least one novel every two years four pilgrimage hubby valkyries aleph autobiographical majority rest broadly fictional',\n",
              " 'penguins group aquatic flightless birds live almost exclusively southern hemisphere highly adapted life water penguins counter shaded dark white plumage flippers swimming penguins feed krill fish squid forms sea life catch swimming underwater spend roughly half lives land half sea although almost penguin species native southern hemisphere not found areas cold climates antarctica fact species penguin live far south south several species found temperate zone one species galapagos penguin lives near equator largest living species emperor penguin average adults one point one meters three feet seven tall weigh thirty five kilogram mes seventy seven pounds smallest penguin species little blue penguin also known fairy penguin stands around thirty three centimeters tall weighs one kilogram general today larger penguins inhabit colder regions smaller penguins inhabit regions temperate tropical climates prehistoric penguin species enormous tall heavy adult human great diversity species subantarctic regions least one giant species region around two thousand kilometers south equator climate decidedly warmer today though birds penguins flippers instead wings can not fly land waddle walking upright though snow conditions right slide bellies water expert swimmers divers species reach speeds fifteen miles per hour penguins distinctive colouring black body white belly helps camouflage bird water searches meals small shrimp fish crabs squid evolutionary history penguins well researched represents showcase evolutionary bio geography although penguin bones one species much size good specimens known alpha taxonomy many prehistoric forms still leaves much desired seminal articles penguin pre history published since two thousand evolution living genera considered resolved',\n",
              " 'animal farm satirical allegorical novella george orwell first published england august seventeenth nineteen forty five book tells story group farm animals rebel human farmer hoping create society animals equal free happy ultimately rebellion betrayed farm ends state bad dictatorship pig named napoleon well wrote book november nineteen forty three february nineteen forty four united kingdom war time alliance soviet union nazi germany british intelligentsia held stolen high esteem phenomenon well hated manuscript initially rejected number british american publishers including one orwell victor gollancz delayed publication became great commercial success partly international relations transformed war time alliance gave way cold war preface nineteen forty seven ukrainian edition animal farm explained escaping communist purges spain taught easily totalitarian propaganda control opinion enlightened people democratic country motivated door expose strongly condemn saw stalinist corruption original socialist ideals homage catalonia sold poorly seeing arthur koestler best selling darkness noon moscow trials well decided fiction best way describe totality arianism immediately prior writing book well quit bbc also upset book left propagandists ministry information put booklet included instructions quell ideological fears soviet union directions claim red terror pig mint nazi imagination preface well describe source idea setting book farm saw little boy perhaps ten years old driving huge cart horse along narrow path whipping whenever tried turn struck animals became aware strength power men exploit animals much way rich exploit proletariat',\n",
              " 'william shakespeare english playwright poet actor widely regarded greatest writer english language world greatest dramatist often called england national poet bard van simply bard extant works including collaborations consist thirty nine plays one hundred fifty four sonnets three long narrative poems verses uncertain authorship plays translated every major living language performed often playwright works continue studied reinterpreted published sixteen nine sonnets last shakespeare non dramatic works printed scholars not certain one hundred fifty four sonnets composed evidence suggests shakespeare wrote sonnets throughout career private readership shakespeare works made lasting impression later theatre literature particular expanded dramatic potential characterization plot language genre romeo juliet example romance not viewed worthy topic tragedy soliloquies used mainly convey information characters events shakespeare used explore characters minds two hundred eleven work heavily influenced later poetry romantic poets attempted revive shakespearean verse drama though little success shakespeare influenced novelists thomas hardy william faulkner charles dickens american novelist herman melville soliloquies owe much shakespeare captain ahab moby dick classic tragic hero inspired king lear shakespeare also inspired many painters including romantics pre raphaelites swiss romantic artist henry fusilli friend william blake even translated macbeth german',\n",
              " 'snow bunting medium sized full bodied songbird small conical bill snow buntings several plumages always show white wings black wingtips black white tail breeding males sharp white black back breeding females whitish brown streak back dusky head non breeding males white rusty patches crown ear shoulder dark streaks back non breeding females rusty wash face darker rusty patches breast breeding males females dark pill turns yellowish orange non breeding season walks along barren places hunched posture easily blending ground group takes flight burst black white forms large flocks often horned larks longspurs non breeding season breeds rocky tundra winters opa weedy grassy fields along shores lakes oceans often concentrates shorelines debris piles along edge wave wind action pass orion ground dwelling species walks runs could potentially jump needed fairly large long way pinned bunting measures fifteen centimeters wingspan thirty two thirty eight centimeters thirteen fifteen waits thirty forty grams snow bunting northerly recorded pass world sometimes called snowflakes flocks snow buntings may seem like snowflakes swirl air settle winter fields south arctic strictly winter birds arriving late fall generally departing first signs spring summer retired bear northern tundra breeding northernmost highlands canada mountains greenland high arctic communities snow buntings nest birdhouses put',\n",
              " 'supernova biggest explosion humans ever seen blast extremely bright super powerful explosion star one type supernova caused last hurrah dying massive star happens star least five times mass sun goes fantastic bang ng massive stars burn huge amounts nuclear fuel cores centers produces tons energy summer gets hot heat generates pressure pressure created star nuclear burning also keeps star collapsing star imbalance two opposite ver forces star gravity tries squeeze star smallest tightest ball possible nuclear fuel burning star core creates strong outward pressure outward push resists inward squeeze gravity usually dense core left behind along expanding cloud od hot gas called nebula supernova star ten times size sun mail eve behind densest objects universe black holes second type supernova happen systems two stars orbit one another least one stars earth sized white dwarf white dwarf left star size sun run fuel nasa scientists use number different types telescopes search study supernovas one example new start nuclear spectroscopic telescope array mission uses x ray vision investigate universe worse new star helping scientists observed supernovas young nebulas learn happens leading spectacular blasts',\n",
              " 'nineteen ground vaccine pfizer bayern clinical trial omicron specific vaccine pfizer byron began clever transfer ramadan specific vaccine press release pfizer announced initiation clinical study evaluate safety tolerability emotional generosity underground based vaccine candidate healthy adults eighteen fifty five years age according information need study three different examinations evaluating evaluate fourteen twenty participants study part science based approach developed already base vaccine achieves similar level protection emigrant earlier wiggins longer duration protection said professor pagosa hint ceo co founder antec three cohorts examination covered number one participants already vaccinated pfizer overnighting vaccine receive hundred roaches underground base c code number two participants two vaccines fazer bookstore receive one american based vaccine covered number three non vaccinated participants receive two doses american based based vaccine part ongoing efforts address ground determine potential need beijing based vaccines read apart anti drug initiated study evaluating ground based nineteen vaccine adults eighteen fifty five omicron variant contagious covered nineteen fees pfizer wants address fast moving pandemic specific vaccine studies reveal vaccines offer good protection hospitalization severe illness death scientific evidence reveals booster shot stand ins predictions improves chances worse eating greatest symptoms current research real world shoes boucher continue provide high level protection severe disease hospitalization omicron recognize need prepared event production means overtime financially help address omega new radiance future said senior vice president head vaccine research development pfizer catherine pfizer biotech quantified produce four billion doses coordinator vaccine two thousand twenty two case comic runway scene develops year companies change reduce capacity production',\n",
              " 'whales widely distributed diverse group fully aquatic placental marine mammals whales largest animals earth live every ocean massive mammals range six hundred pound dwarf sperm whale colossal blue whale weigh two hundred tons much thirty three elephants stretch one hundred feet long almost long professional basketball court whales warm blooded creatures nurse young two types whales toothed baleen toothed whales name suggests teeth used hunt eat squid fish seals toothed whales include sperm whales well dolphins porpoises orcas among others narwhals horn actually one long tooth protruding lip baleen whales larger toothed whales part include blue whales humpbacks right whales bowhead whales others feed straining tiny shrimp like creatures called krill fringed plates long fingernail like material called baleen attached upper jaws whales particularly humpbacks produce otherworldly vocalizations heard miles underwater songs complex combinations moans howls cries continue hours produced whales push air around heads amplify sounds blob fat perches top jaw thought whales communicate calls researchers believe heard thousands miles though stark population declines hunting largely stopped several whale species threatened endangered including blue whale right whale fin whale combination fishing net entanglements struck ships']"
            ]
          },
          "metadata": {},
          "execution_count": 15
        }
      ]
    },
    {
      "cell_type": "markdown",
      "source": [
        "## 3.3 Remove Extra Whitespace (More than 1)"
      ],
      "metadata": {
        "id": "UBwARFiOKsst"
      }
    },
    {
      "cell_type": "code",
      "source": [
        "def remove_extra_whitespaces_func(text):\n",
        "    return re.sub(r'^\\s*|\\s\\s*', ' ', text).strip()\n",
        "\n",
        "for index,text_ in enumerate(text):\n",
        "    text_=remove_extra_whitespaces_func(text_)\n",
        "    text[index]=text_\n",
        "text"
      ],
      "metadata": {
        "id": "AbVoVPdLK35B",
        "colab": {
          "base_uri": "https://localhost:8080/"
        },
        "outputId": "7d1f9c94-2412-4417-89ed-2e21258def2a"
      },
      "execution_count": null,
      "outputs": [
        {
          "output_type": "execute_result",
          "data": {
            "text/plain": [
              "['astronomy literally meaning science studies laws stars natural science studies celestial objects phenomena uses mathematics physics chemistry order explain origin evolution objects interest include planets moons stars nebulae galaxies comments relevant phenomena include supernova explosions gamma ray bursts quays blazers pulsars cosmic microwave background radiation generally astronomy studies everything originates beyond earth atmosphere cosmology branch astronomy studies universe whole renaissance nicolaus copernicus proposed heliocentric model solar system work defended galileo galilei expanded upon johannes kepler kepler first devise system correctly described details motion plan minutes surround sun however kepler not succeed formulating theory behind laws wrote one oldest fields astronomy science measurement positions celestial objects historically accurate knowledge positions sun moon planets stars essential celestial navigation use celestial objects guide navigation making calendars theorists astronomy endeavored create theoretical models results predict observational consequences models observation phenomenon predicted model allows astronomers see select several alternate conflicting models one best able describe phenomenon origin stellar mass spectrum astronomers observe distribution stellar masses initial mass function apparently regardless initial conditions deeper understanding formation stars planets needed amateur astronomers continue make scientific contributions field astronomy one scientific disciplines amateurs still make significant contributions',\n",
              " 'white dwarf also called degenerate dwarf stellar core remnant composed mostly electron degenerate matter white dwarf dense mass comparable sun volume comparable earth white dwarfs faint luminosity comes emission residual third mold energy fusion takes place white dwarf nearest known white dwarf sirius eight point six light years smaller component serious binary star currently thought eight white dwarfs among hundred star systems nearest sun unusual faintness white dwarves first recognized nineteen ten name white dwarf coined william law eitan nineteen twenty two white dwarfs thought final evolutionary state stars whose mass not high enough become neutron star black hole includes ninety seven percent stars milky way usually white dwarfs composed carbon oxygen seal white dwarf mass progenitor eight ten point five solar masses kama core temperature sufficient fuse carbon not neon case knox edge neon magnesium white dwarf may form stars low mass unable fuse helium hence helium white dwarf material white dwarf longer undergoes fusion reactions star source energy result can not support heat generated fusion gravitational collapse apps supported electron degeneracy pressure causing extremely dance physics degeneracy yields maximum mass non rotating white dwarf chondrus sacre limit approximately one point four four times beyond can not supported electron degeneracy pressure white dwarf hot forms source energy gradually cool radiates energy away means radiation initially high color temperature last reddened time long time white dwarf cool material begin crystallize starting core star low temperature means longer amid significant heat light become cold black dwarf',\n",
              " 'chimpanzees great apes found across central west africa along bonobos closest living relatives sharing ninety eight point seven percent genetic blueprint humans chimps also thought share common ancestor lived seven thirteen million years ago behavior chimpanzees highly social live communities several dozen animals led alpha male coalition male allies research shown male female chimps individual personalities females trusting timid groomed ing important part social life helping chimpanzees bond remove ticks dirt one another bodies although normally walk fours knuckle walking chimpanzees stand walk upright chimpanzees long arms hands fingers help climb trees swing branch branch dual use intelligent animal one species know use tools chimpanzees shape use sticks retrieve insects nests dig grubs logs use stones smash open tasty nuts employ leaves sponges soak drinking water chimpanzees even taught use basic human sign language habitat diet chimpanzees widest range great ape though many populations live tropical rainforests also found woodlands grasslands span thing central western africa usually sleep trees typically sturdy uganda ironwood tree offers firm stable place sleep build nests leaves chimps also eating trees though generally prefer fruits plants varied diet also includes insects eggs nuts hundreds things relish neat known kill eat monkeys small antelope even tortoises slam trees break open shells reproduction females chimpanzee give birth time year typically single infant clings mother fur later rides back time weaning ages three five females reach reproductive age thirteen males not considered adults fifteen',\n",
              " 'top four crypto exchanges india buy two poker cheap crypto exchange apart gold crypto getting major popularity among new generation terms returns offers cryptocurrency engineer investor first need create online storage open crypto like bitcoin work third party along training crypto exchange exchange investor create exchange account via exchange service county needs linked investors bank account bank crypto via exchange one safest easiest processes however reading security measures carefully important invest portfolio top represents exchanges listed select know going know going popular changing country one oldest cryptocurrency exchanges first current bitcoin space india started dunkirk outcome later shifted operations bang lulu established two thousand thirteen name kept worse not common western option camera investors higher risk appetite could step exchange around one point four seven million registers investors not going fix particular date time sell certain amount crypto know coin counter trade enable users trade bulk exchanges also launched mobile app user friendly current yet considered one top crypto exchanges india dump vex registered users four million access two hundred cryptocurrencies like bitcoin ethereum ripple light coin many altcoin illegal lily used starter launched two thousand eighteen casually mister started show interesting conditions trading fee low compared exchanges additionally investors get deposit withdrawals mrs free cost helpful option investors india trade directly indian rupees crypto exchange got reward alert list unicorns india two thousand twenty one track exam pay simple user friendly crypto exchange along security feature resemble outgoing transactions single click zebpay also gives offers new investors registers get trapeze hundred cashback first year five hundred offers generally attract new investors come field according pay two thirds indians bought first bitcoin one popular cryptos jp exchanges betting experience since two thousand fourteen facilitated ten billion dollars worth transactions time visitors edicts certainly unusual platform upgrade cryptocurrency named blue alex exchange informs maximum one billion blocks coins ever created investor buy wrx inr exchanged available cryptocurrencies huge availed across platforms web android ios play windows mac apps significantly security important profit globally discouraged process completed within hours signing safely ensuring right coverage protocol peer peer transactions edicts zero fees deposit x p two service help restrict openwork money reply instantly ex act escrow safekeeping transaction',\n",
              " 'india recently introduced crypto tax budget two thousand twenty two co products brings clarity not everyone happy experts believe thirty percent slab going increase tax burden cryptocurrency investors shell third returns towards taxes cryptogram see marketplace called government proposed taxation digital assets strong move towards recognizing cryptocurrency emerging asset class however not players happy move noting thirty percent slab high finance minister nirmala sitharaman tuesday introduced taxation virtual digital assets include cryptocurrencies non fungible tokens well government also introducing central bank digital currency popularly known city cbd sees powered blockchain technology two thousand twenty two twenty three biggest development today clarity crypto taxation add much needed recognition crypto system india also development removes ambiguity banks provide financial services crypto industry overall good news us need go detail version budget understand finer details mr shetty founder ceo undo dn cryptocurrency exchange visitor said welcoming taxation move sumit gupta co founder ceo quindi excelled statement brings much needed confidence industry added taxation virtual digital assets crypto step right direction encouraging see government taken positive step towards regulating digital assets change lot misconceptions around crypto assets pave way forward classifying separate asset class melvin thomas co founder sac coyne also noted statement investors pay thirty percent tax returns made trading investing cryptocurrencies digital assets thes losses transfer virtual digital asset can not set income according announcement government also proposed provide tds payment made relation transfer virtual digital asset rate one percent concentration monetary threshold gift virtual asset also propose pose taxed hands recipient first step towards legitimate legitimizing digital asset market allowing indian talent compete global counterparts higher taxation counterproductive long run temporary measure contain unorganised trade transfer cryptocurrencies said heed ceo co founder easy fi network experts believe thirty percents lab going increase tax burden cryptocurrency investors shell third returns towards taxes smooth would force people move traditional modes investments stock mutual funds not subject high thirty percent dex shera chandra crypto told experts also pointed tedious rates make investment even care crypto traders multiple things income tax thirty percent india still acceptable one person tds makes tricky intraday traders india not see know coin cryptocurrency exchange tool indian express dot com yeah entered trading refers buying selling cryptocurrency day gilbert l cofounder chairman guardian link beyond live dog club nft platform also expressed disappointment humanities also gone virtual assets lumped one moment place component budget initially space get major roadblock investor community like good ecosystems show well understand regulation control elements crypto required nestled classes taxation eventually adjust go developing ecosystem worldwide still classified non taxable assets imperative adjustment understanding crypto token different digital ft taken consideration future amendments cc said',\n",
              " 'crypto one big ponzi change mind doubt sell wish joking brand joke ample warning ignore crypto not real nothing backing physical product know icing insurance company like microsoft google hardly trading regulations literary value given cryptocurrency price people willing pay means hope buyer someone buy bags higher price explained ponzi scheme cryptocurrency worth holding onto point dodge coin even starting get skeptical thought let talk big useless ponzi scheme going crash burn ninety nine ninety nine percent reading got crypto nine years clearly joke sorry not say said recent fifty one mainstream media articles videos call bitcoin joking point want see guys get know understand understand crypto must pyramid scheme also hear two plus two equal five bitcoin not going anywhere neither ethidium anyway bear market bring serious questions interesting one cryptocurrency created within two thousand eight financial crisis one credit greta said answer question lies perpetuating crypto markets right cryptocurrency wales investors among us ordinarily money control crypto not forget politics couple big plays throw towel entire portfolio worth less pocket length',\n",
              " 'token next word pawnshop lieu small change next time visit imagine digitally cryptocurrency big difference owner issuer would institute accepted global cryptocurrency digital virtual going go epigraphy makes next impossible counterfeit ministers designed use medium exchange buying goods services cryptocurrencies decentralized meaning authority regulates built blockchain network technology ensures transparency helps track every transaction currencies theoretically immune government interference kind manipulation cryptocurrency not underlying econo comic base vr information tools plus digital structure facilitates cerebral portability across geographical borders divisibility transparency however often criticized possibility misuse illegal activities exchanger volatility one credibility often infrastructure underlying cryptocurrencies work progressive work using technology called blockchain tokens used form payment exchange online goods services carry upgraded mine stored value like fiat currency like us dollar indian rupee pregnancies digitally mine sophisticated computers solve complex computational mathematics mathematics problem mining pain staking costly sporadically rewarding',\n",
              " 'run cryptocurrency prices last december also magnified divergences gardens according new research report bitwise asset management difference returns top bottom performing coins dragged bit vice index rose seventy four point nine percent december average price difference top bottom performing coins entire year three hundred percent wage report page case diversification within crypto investing dragged price top ten readable cryptocurrencies year starting march twenty seventeen period three coins repulsed could grow benzie xrp counterpart stellar xlm chinese coin neal provided maximum return investors together responsible next bangladesh chosen nine twelve months dragged broadway release resurrection cleared signal graders inherent volatility cryptocurrency meat market makes impossible rely signals examples except peas done street eighty percent may twenty seventeen quickly slid negative thirty six point one percent july cryptocurrency space time period fell one fell forty cents pob new level fifteen cents august bitcoin returns live hype despite pain despite penchant generating headlines due express volatility bitcoin topped list maximum returns july even provided measly returns compared points forty fifteen two percent mature assert would expect bitcoin lower end returns said matt hogan vice president research development bitwise according reasons behind poland new success hide syncretic due combination news development clever marketing partnerships coins still report states massive variability returns top ten cryptocurrencies consistency relation top coins one month leading mean cop range month follows report whose main thrust argument diversification cryptocurrency investment states according advisers martaban two reasons dispersion returns among cripples first one inherent volatility cryptocurrencies compared stocks bonds second reason according market understanding present surpasses average investors difference centrally controlled two percent like ripple truly distribute crypto asset like bitcoin immense hogan said market realizes returns reflected recent times also reports bitcoins correlation cryptocurrencies specifically bloomberg reported bitcoin price correlation went cryptocurrency market crashed declined researched advisers report reached different conclusion viewed holistically light analysis coalition strongly support idea returns individual coins heterogeneous report states',\n",
              " 'dodo extinct flightless bird endemic island vicious east madagascar indian ocean closest living relative dodo nicobar pigeon sub fossil remains show dodo one meter dull may weighed ten point six seventeen point five kilogram alms wild dodo appearance life evidenced drawings paintings written accounts seventeenth century since portraits vary considerably since illustrations known drawn live specimens dodo exact appearance life maine unresolved little known behavior depicted brownish grey plumage yellow feet tuft tail feathers grey naked head black yellow green beak used gizzard stones help digest food thought included fruits main habitat believed woods dryer coastal areas mauritius one account states clutch consisted single egg presumed dodo became flightless ready availability abundant food sources relative absence predators riches extinction dodo within less century discovery called attention previously unrecognized problem human involvement disappearance entire species addition fallen fruits dodo probably subsisted nuts seeds bulbs roots also suggested dough odo might eaten crabs shellfish like relatives crowned pigeons',\n",
              " 'dolphins small toothed cetaceans easily recognizable curved mouths give permanent smile thirty six dolphin species found every ocean dolphins marine live ocean brackish waters along coastlines species however lie south asian river dolphin amazon river dolphin boto live freshwater streams rivers largest dolphin orca grow thirty feet long smallest maui dolphin five feet long dolphins feed chiefly fish squid track using echo location built sonar bounces sound waves prey reveals information like location size shape echolocating bottle nose dolphin make thousand clicking noises per second living pods number dozen dolphins intensely social mammals communicate squeaks whistles clicks whether dolphins language humans topic scientists debated decades mammals warm blood nurse young dolphins one mate generous lee produce single offspring stay mother six years depending species dolphins graceful sleek swimmers reach speeds eighteen miles hour also playful often frolic boat wake leaping water possibly fun communicate eight even shed pesky parasites centuries people hunted dolphins meat blubber today main threat comes caught accidentally commercial fishing nets dolphins must rise regularly surface breathe becoming entangled nets prevents leading drowning ing main dolphins warming ocean temperatures climate change caused primary food sources move deeper cooler water furthermore marine heat waves also caused climate change appear negative effect dolphins reproductive rates ability survive addition hunting entanglement fishing gear freshwater dolphins face additional threat dams fragmenting degrading habitat',\n",
              " 'elephants largest land mammals earth distinctly massive bodies large ears long drunks use trunks pick objects trumpet warnings greet relevance suck water drinking bathing among uses male female african elephants grow tusks individual either left right tusked one use usually smaller wear tear elephant tusks serve many purposes extended teeth used protect elephant strung lift move objects gather food strip bark trees also used defense times drought elephants even use tusks dig holes find water underground genetically different african species exist savanna elephant forest elephant number characteristics differentiate african savannah elephant largest elephant species asian forest elephant african forest elephant comparable smaller size asian elephants differ several ways african relatives ten distinct physical differences example asian elephants ears smaller compared large fan shaped tears african species male asian elephants tusks male female african elephants grow tusks led matriarch elephants organized complex social structures females calves may lovitz tend live isolation small bachelor groups single calf born female every four five years gestation period twenty two months longest mammal cats cared entire herd related females female cats may stay maternal herd rest lives males leave heard reached puberty forest elephants social groups differ slightly may comprised adult female offspring however may congregate larger groups forest clearings resources abundant elephants need ext offensive land areas survive meet ecological needs includes food water space average elephant feed eighteen hours consume hundreds pounds plant matter single day result lose habitat often come conflict people competition resources',\n",
              " 'bank fixed deposits government small savings schemes traditional investment choice average indian household present bank india quarterly estimates household financial assets liabilities rupees four thousand seven hundred fifty three b ilion invested bank teas year two thousand eighteen latest year data available rbi hand despite growing popularity share major funds house fixed income assets still relatively quite small per amfi day february two thousand twenty retail hni net investment debt mutual funds last one year ending sept two thousand twenty obese two hundred sixty billion sap mutual fund sap debt mutual funds work investing fixed amato every month ender regular savings invest long period time benefit power compounding power compounding not work equity also works fixed income long investment investing fixed amount regular intervals monthly investing various price point average purchase cost known cost averaging since fixed income funds market linked schemes prices also subject volatility two sap take advantage fertility even fixed income phone especially longer duration sensitive interest rates fixed income outperform even long term extreme market conditions often challenge popularly held views one view equity ow performs always long term larger liquor starting today shows equity best performing asset class long term however promotional singing constitutes long term challenged chart shows annual leah terrorized average equity fixed income categories last three five ten years see insurance market conditions fixed income phones equity even fairly long ten years investor education initiative mirae asset mutual funds ratios editors case degrees not way depict performance individual scheme fund major funds investment subject market risks read scheme military documents carefully',\n",
              " 'griego lists green financial professional compatibility finance often responsibility left accounting departments employees tend pay corporate finance accounting issues mind ignoring finance however put behind competition comes well versed complex aspects working business maria profession position within organization idea beer market cpm stands time lose fear finance begin embrace money matters head start journey financial fluency learning basic financial terms concepts network easy one start may heard one time day today financial experts discussing company network two magazines discussing certain celebrities value dollars business context network simply means difference total assets total amount owe creditors financial stakeholders positive net worth indicates good financial health whilst negative net worth means company operating loss without going much nifty greedy corporate finance funds want inflation means sustained increase prices goods services certain period relation value national currency one inflation indicator working professionals look income rising proportionally initial rate inflation mood organization operates global scale inflation impact price point selling oxide companies country borders liquidity determined decades accessible assets monetary value assets regenerative work sold today corporates usually need balanced liquidity since creditors demand money time speed business generate cash significant impact financial well',\n",
              " 'jeffrey howard archer baron archer weston super mare born april fifteenth nineteen forty english novelist life peer former politician becoming author archie member parliament nineteen sixty nine nineteen seventy four not seek reelection finance oil scandal left almost bankrupt revived fortunes bestselling novelist books sold three hundred twenty million copies worldwide archer wrote first book not penny not penny less autumn nineteen seventy four means avoiding bankruptcy bug picked literary agent debra published first us eventually britain autumn nineteen seventy six radio adaptation aired bbc radio four early nineteen eighties bbc television adaptation book broadcast nineteen ninety cain abel nineteen seventy nine proved best selling work reaching number one new york times bestsellers list like early work edited richard cole olympic fencing gold medalist made television miniseries cbs nineteen eighty five five starring peter strauss sam neill following year granada tv screen baton part adaptation another archer bestseller first among equals told story four men quest become prime minister us edition novel character andrew fraser eliminated reducing number protagonists three well novels short stories archer also written three stage plays first beyond reasonable doubt opened nineteen eighty seven ran queens theatre london west end year twenty eight archers next play exclusive not well received critics closed weeks final play accused opened theatre royal windsor september twenty six two thousand transferring theatre royal haymarket west hand december nineteen eighty eight kathleen burnett accused archer play arising story written including short story collection twist tale archer denied plagiarized story claiming simply inspired idea sword long tall illustrated collection archer short stories published november two thousand twenty watercolor illustrations artist paul cox',\n",
              " 'mammoth member extinct group elephants mammoths hairy elephants genus mammoth mammatus lived europe four thousand five hundred years ago adapted cold climate killed hunters climate change series ice ages allowed math myths spread across land various species mammoth commonly equipped long curved tusks northern species covering long hair oldest representative mammoth us south african mammoth amazon planet fronds appeared around five million years ago early pliocene southern eastern africa descendant species mammoths moved north continued propagate numerous subsequent species eventually covering eurasia extending americas least six hundred thousand years ago last species emerge woolly mammoth emperor image nes developed four hundred thousand years ago east asia mammoths hunted early humans used spears cut hand axes frozen flesh analyzed dna sequence like modern relatives mammoths quite large largest known species reached heights region four meters thirteen point one feet shoulder weights eight tons eight point eight short tons exceptionally large males may exceeded twelve tons thirteen point two short tons however ce species mammoth large modern asian elephant two point five meters three meters high shoulder rarely exceeding five tons sexes bore tusks based studies close relatives modern elephants mammoths probably gestation period twenty two months resulting single calf born social structure probably african asian elephants females living herds headed matriarch whilst bowles lived solitary lives formed loose groups since many remains species man mammoth known several localities possible reconstruct evolutionary history genus logical studies mammoth species identified number enamel ridges molars primitive species ridges amount increased gradually new species evolved replaced former ones time crowns teeth became longer skulls become higher top bottom shorter back front time accommodate woolly mammoth emperor image nes last species genus populations woolly mammoth north america eurasia well columbian mammoths colombia north america died around time last glacial retreat part mass extinction megafauna northern eurasia americas',\n",
              " 'haruki murakami born january twelfth nineteen forty nine japanese writer novels essays short stories bestsellers japan well internationally work translated fifty languages selling millions copies outside japan received numerous awards work including guns prize new writers world fantasy award frank connor international short story award franz kafka prize jerusalem prize many novels themes titles evoke classical music three books making wind bird chronicle thieving magpie racine opera bird prophet piano piece robert schumann usually known english prophet bird bird catcher character mozart opera magic flute novels take titles songs dance dance dance dell nine nineteen fifty seven besides song although often thought titled beach boys nineteen sixty four tune norwegian wood beatles song south border west sun song south border two thousand six murakami became sixth recipient fronds com cut prize april two thousand fifteen murakami named one time one hundred influential people november two thousand sixteen awarded danish hans christian andersen literature award award previously british author jk rowling two thousand eighteen see university tokyo agreed house archives come iraq army including manuscripts source documents music collection collection intended opened scholars set open october two thousand twenty one',\n",
              " 'name metro safe microphones markedly instrument invest equity cootie related securities money related market instruments net asset value anyway mutual fund scheme depends market price underlying securities pulled based securities go depending market movement hence see disclaimer mutual funds subject market risk friendly picture deceive investors invested traditional fixed income investments like bank fixed deposits post small saving schemes etc often two versions invest first mutual funds much return get safe inverse metro phones important investors understand following mature not give short returns even mutual fund scheme paying regular dividends dividend paid major funds not assured asset management company aims che change dividend belgrade even stop detained period time deemed fit mt based market conditions guarantee capital production major phones prepared take risk investing mutual funds understand risk make informed investment decisions based risk appetite financial objectives mutual funds provide investment solutions wide spectrum risk appetite investment neat article try understand risk mutual funds investing discuss much unsafe risk agree funds three kinds risk equity mutual funds follows market risk also known systematic years risk affect entire stock market caused events may affect entire economy investment cycles common policies rba actions global events example overnight bundaberg global financial crisis nine eleven terrorist attack new york etc mortgages cause volatility mutual fund investment categories mutual funds mid cap fund small cap funds affected market volatility compared categories large gap invest according risk appetite without thinking safe mutual funds asymmetric risk risk impacts particular stock sector major funds aim diversify unsystematic risk may still unsystematic risk actively managed funds fund managers may overweight underweight stock sector thus order beat market benchmark index great advice investors want avoid unsystematic risks may invest idiots index fund jack market indexes data subject market risk however investors understand unsystematic risk not necessary really matters help fund managers gives superior returns sufficiently long investment horizon great advice investors invest according risk appetite investment needs without worrying safe invest mutual funds not liquidity risk arise due inability fund manager sell underlying securities scheme need arises redemption pressures not sufficient buyers due prevailing market conditions example high volatility beer market etc foreign manager may unable sell securities extreme market conditions mc may stop redemption certain mutual fund schemes liquidity risk equity funds back market segment example small cap funds compared liquid segment example large gaps',\n",
              " 'paulo coelho born august twenty fourth nineteen forty seven rio de janeiro brazil brazilian novelist known employing rich symbolism depictions often spiritually motivated journeys taken characters novel alchemist sold one hundred fifty million copies worldwide time best selling book brazilian writer nineteen eighty two coelho published first book pal archives failed make substantial impact nineteen eighty six contributed practical manual vampirism although later tried take shelves since considered bad quality making pilgrimage santiago de compostela nineteen eighty six coelho wrote pilgrimage published nineteen eighty seven trying overcome procrastination launching writing career coelho decided see white feather today sign god giving write new book seeing one window shop began writing day fourteen following year coelho wrote alchemists published small brazilian publishing house made initial print run nine hundred copies decided not reprint dod subsequently found bigger publishing house publication next bog breeder outcomes took harper collins decided publish book nineteen ninety four later became international bestseller two thousand nine interview syrian forward magazine coelho stated sufi tradition unemployed particularly writing alchemist later since publication alchemist coelho generally written least one novel every two years four pilgrimage hubby valkyries aleph autobiographical majority rest broadly fictional',\n",
              " 'penguins group aquatic flightless birds live almost exclusively southern hemisphere highly adapted life water penguins counter shaded dark white plumage flippers swimming penguins feed krill fish squid forms sea life catch swimming underwater spend roughly half lives land half sea although almost penguin species native southern hemisphere not found areas cold climates antarctica fact species penguin live far south south several species found temperate zone one species galapagos penguin lives near equator largest living species emperor penguin average adults one point one meters three feet seven tall weigh thirty five kilogram mes seventy seven pounds smallest penguin species little blue penguin also known fairy penguin stands around thirty three centimeters tall weighs one kilogram general today larger penguins inhabit colder regions smaller penguins inhabit regions temperate tropical climates prehistoric penguin species enormous tall heavy adult human great diversity species subantarctic regions least one giant species region around two thousand kilometers south equator climate decidedly warmer today though birds penguins flippers instead wings can not fly land waddle walking upright though snow conditions right slide bellies water expert swimmers divers species reach speeds fifteen miles per hour penguins distinctive colouring black body white belly helps camouflage bird water searches meals small shrimp fish crabs squid evolutionary history penguins well researched represents showcase evolutionary bio geography although penguin bones one species much size good specimens known alpha taxonomy many prehistoric forms still leaves much desired seminal articles penguin pre history published since two thousand evolution living genera considered resolved',\n",
              " 'animal farm satirical allegorical novella george orwell first published england august seventeenth nineteen forty five book tells story group farm animals rebel human farmer hoping create society animals equal free happy ultimately rebellion betrayed farm ends state bad dictatorship pig named napoleon well wrote book november nineteen forty three february nineteen forty four united kingdom war time alliance soviet union nazi germany british intelligentsia held stolen high esteem phenomenon well hated manuscript initially rejected number british american publishers including one orwell victor gollancz delayed publication became great commercial success partly international relations transformed war time alliance gave way cold war preface nineteen forty seven ukrainian edition animal farm explained escaping communist purges spain taught easily totalitarian propaganda control opinion enlightened people democratic country motivated door expose strongly condemn saw stalinist corruption original socialist ideals homage catalonia sold poorly seeing arthur koestler best selling darkness noon moscow trials well decided fiction best way describe totality arianism immediately prior writing book well quit bbc also upset book left propagandists ministry information put booklet included instructions quell ideological fears soviet union directions claim red terror pig mint nazi imagination preface well describe source idea setting book farm saw little boy perhaps ten years old driving huge cart horse along narrow path whipping whenever tried turn struck animals became aware strength power men exploit animals much way rich exploit proletariat',\n",
              " 'william shakespeare english playwright poet actor widely regarded greatest writer english language world greatest dramatist often called england national poet bard van simply bard extant works including collaborations consist thirty nine plays one hundred fifty four sonnets three long narrative poems verses uncertain authorship plays translated every major living language performed often playwright works continue studied reinterpreted published sixteen nine sonnets last shakespeare non dramatic works printed scholars not certain one hundred fifty four sonnets composed evidence suggests shakespeare wrote sonnets throughout career private readership shakespeare works made lasting impression later theatre literature particular expanded dramatic potential characterization plot language genre romeo juliet example romance not viewed worthy topic tragedy soliloquies used mainly convey information characters events shakespeare used explore characters minds two hundred eleven work heavily influenced later poetry romantic poets attempted revive shakespearean verse drama though little success shakespeare influenced novelists thomas hardy william faulkner charles dickens american novelist herman melville soliloquies owe much shakespeare captain ahab moby dick classic tragic hero inspired king lear shakespeare also inspired many painters including romantics pre raphaelites swiss romantic artist henry fusilli friend william blake even translated macbeth german',\n",
              " 'snow bunting medium sized full bodied songbird small conical bill snow buntings several plumages always show white wings black wingtips black white tail breeding males sharp white black back breeding females whitish brown streak back dusky head non breeding males white rusty patches crown ear shoulder dark streaks back non breeding females rusty wash face darker rusty patches breast breeding males females dark pill turns yellowish orange non breeding season walks along barren places hunched posture easily blending ground group takes flight burst black white forms large flocks often horned larks longspurs non breeding season breeds rocky tundra winters opa weedy grassy fields along shores lakes oceans often concentrates shorelines debris piles along edge wave wind action pass orion ground dwelling species walks runs could potentially jump needed fairly large long way pinned bunting measures fifteen centimeters wingspan thirty two thirty eight centimeters thirteen fifteen waits thirty forty grams snow bunting northerly recorded pass world sometimes called snowflakes flocks snow buntings may seem like snowflakes swirl air settle winter fields south arctic strictly winter birds arriving late fall generally departing first signs spring summer retired bear northern tundra breeding northernmost highlands canada mountains greenland high arctic communities snow buntings nest birdhouses put',\n",
              " 'supernova biggest explosion humans ever seen blast extremely bright super powerful explosion star one type supernova caused last hurrah dying massive star happens star least five times mass sun goes fantastic bang ng massive stars burn huge amounts nuclear fuel cores centers produces tons energy summer gets hot heat generates pressure pressure created star nuclear burning also keeps star collapsing star imbalance two opposite ver forces star gravity tries squeeze star smallest tightest ball possible nuclear fuel burning star core creates strong outward pressure outward push resists inward squeeze gravity usually dense core left behind along expanding cloud od hot gas called nebula supernova star ten times size sun mail eve behind densest objects universe black holes second type supernova happen systems two stars orbit one another least one stars earth sized white dwarf white dwarf left star size sun run fuel nasa scientists use number different types telescopes search study supernovas one example new start nuclear spectroscopic telescope array mission uses x ray vision investigate universe worse new star helping scientists observed supernovas young nebulas learn happens leading spectacular blasts',\n",
              " 'nineteen ground vaccine pfizer bayern clinical trial omicron specific vaccine pfizer byron began clever transfer ramadan specific vaccine press release pfizer announced initiation clinical study evaluate safety tolerability emotional generosity underground based vaccine candidate healthy adults eighteen fifty five years age according information need study three different examinations evaluating evaluate fourteen twenty participants study part science based approach developed already base vaccine achieves similar level protection emigrant earlier wiggins longer duration protection said professor pagosa hint ceo co founder antec three cohorts examination covered number one participants already vaccinated pfizer overnighting vaccine receive hundred roaches underground base c code number two participants two vaccines fazer bookstore receive one american based vaccine covered number three non vaccinated participants receive two doses american based based vaccine part ongoing efforts address ground determine potential need beijing based vaccines read apart anti drug initiated study evaluating ground based nineteen vaccine adults eighteen fifty five omicron variant contagious covered nineteen fees pfizer wants address fast moving pandemic specific vaccine studies reveal vaccines offer good protection hospitalization severe illness death scientific evidence reveals booster shot stand ins predictions improves chances worse eating greatest symptoms current research real world shoes boucher continue provide high level protection severe disease hospitalization omicron recognize need prepared event production means overtime financially help address omega new radiance future said senior vice president head vaccine research development pfizer catherine pfizer biotech quantified produce four billion doses coordinator vaccine two thousand twenty two case comic runway scene develops year companies change reduce capacity production',\n",
              " 'whales widely distributed diverse group fully aquatic placental marine mammals whales largest animals earth live every ocean massive mammals range six hundred pound dwarf sperm whale colossal blue whale weigh two hundred tons much thirty three elephants stretch one hundred feet long almost long professional basketball court whales warm blooded creatures nurse young two types whales toothed baleen toothed whales name suggests teeth used hunt eat squid fish seals toothed whales include sperm whales well dolphins porpoises orcas among others narwhals horn actually one long tooth protruding lip baleen whales larger toothed whales part include blue whales humpbacks right whales bowhead whales others feed straining tiny shrimp like creatures called krill fringed plates long fingernail like material called baleen attached upper jaws whales particularly humpbacks produce otherworldly vocalizations heard miles underwater songs complex combinations moans howls cries continue hours produced whales push air around heads amplify sounds blob fat perches top jaw thought whales communicate calls researchers believe heard thousands miles though stark population declines hunting largely stopped several whale species threatened endangered including blue whale right whale fin whale combination fishing net entanglements struck ships']"
            ]
          },
          "metadata": {},
          "execution_count": 16
        }
      ]
    },
    {
      "cell_type": "markdown",
      "source": [
        "## 3.4 Correcting Misspelt Words"
      ],
      "metadata": {
        "id": "17AUwhlr7PCB"
      }
    },
    {
      "cell_type": "code",
      "source": [
        "def spelling_correction(text):\n",
        "    # Check for spellings in English language\n",
        "    spell = Speller(lang='en')\n",
        "    Corrected_text = spell(text)\n",
        "    return Corrected_text\n",
        "    \n",
        "for index,text_ in enumerate(text):\n",
        "    text_=spelling_correction(text_)\n",
        "    text[index]=text_\n",
        "text"
      ],
      "metadata": {
        "id": "p34yTu8c7jAr",
        "colab": {
          "base_uri": "https://localhost:8080/"
        },
        "outputId": "4da81bad-9fa6-4500-8932-52a68199e144"
      },
      "execution_count": null,
      "outputs": [
        {
          "output_type": "execute_result",
          "data": {
            "text/plain": [
              "['astronomy literally meaning science studies laws stars natural science studies celestial objects phenomena uses mathematics physics chemistry order explain origin evolution objects interest include planets moons stars nebula galaxies comments relevant phenomena include supernova explosions gamma ray bursts quay blazers pillars cosmic microwave background radiation generally astronomy studies everything originates beyond earth atmosphere cosmology branch astronomy studies universe whole renaissance nicolas copernicus proposed heliocentric model solar system work defended galileo galileo expanded upon johannes helper helper first devise system correctly described details motion plan minutes surround sun however helper not succeed formulating theory behind laws wrote one oldest fields astronomy science measurement positions celestial objects historically accurate knowledge positions sun moon planets stars essential celestial navigation use celestial objects guide navigation making calendars theorists astronomy endeavor create theoretical models results predict observational consequences models observation phenomenon predicted model allows astronomers see select several alternate conflicting models one best able describe phenomenon origin stellar mass spectrum astronomers observe distribution stellar masses initial mass function apparently regardless initial conditions deeper understanding formation stars planets needed amateur astronomers continue make scientific contributions field astronomy one scientific disciplines amateurs still make significant contributions',\n",
              " 'white dwarf also called degenerate dwarf stellar core remnant composed mostly electron degenerate matter white dwarf dense mass comparable sun volume comparable earth white dwarfs faint luminosity comes emission residual third mold energy fusion takes place white dwarf nearest known white dwarf siris eight point six light years smaller component serious binary star currently thought eight white dwarfs among hundred star systems nearest sun unusual fitness white dwarves first recognized nineteen ten name white dwarf coined william law titan nineteen twenty two white dwarfs thought final evolutionary state stars whose mass not high enough become neutron star black hole includes ninety seven percent stars milky way usually white dwarfs composed carbon oxygen seal white dwarf mass progenitor eight ten point five solar masses sama core temperature sufficient fuse carbon not neon case knox edge neon magnesium white dwarf may form stars low mass unable fuse helium hence helium white dwarf material white dwarf longer undergoes fusion reactions star source energy result can not support heat generated fusion gravitational collapse apps supported electron degenerate pressure causing extremely dance physics degenerate yields maximum mass non rotating white dwarf chorus acre limit approximately one point four four times beyond can not supported electron degenerate pressure white dwarf hot forms source energy gradually cool radiated energy away means radiation initially high color temperature last rendered time long time white dwarf cool material begin crystalline starting core star low temperature means longer amid significant heat light become cold black dwarf',\n",
              " 'chimpanzees great apes found across central west africa along bonobos closest living relatives sharing ninety eight point seven percent genetic blueprint humans champs also thought share common ancestor lived seven thirteen million years ago behavior chimpanzees highly social live communities several dozen animals led alpha male coalition male allies research shown male female champs individual personalities females trusting timid groomed ing important part social life helping chimpanzees bond remove ticks dirt one another bodies although normally walk fours knuckle walking chimpanzees stand walk upright chimpanzees long arms hands fingers help climb trees swing branch branch dual use intelligent animal one species know use tools chimpanzees shape use sticks retrieve insects nests dig grabs logs use stones smash open tasty nuts employ leaves sponges sock drinking water chimpanzees even taught use basic human sign language habitat diet chimpanzees widest range great ape though many populations live tropical rainforests also found woodlands grasslands span thing central western africa usually sleep trees typically sturdy uganda ironwood tree offers firm stable place sleep build nests leaves champs also eating trees though generally prefer fruits plants varied diet also includes insects eggs nuts hundreds things relist neat known kill eat monkeys small antelope even tortoises slam trees break open shells reproduction females chimpanzee give birth time year typically single infant cling mother fur later rides back time meaning ages three five females reach reproductive age thirteen males not considered adults fifteen',\n",
              " 'top four crypto exchanges india buy two poker cheap crypto exchange apart gold crypto getting major popularity among new generation terms returns offers cryptocurrency engineer investor first need create online storage open crypto like bitcoin work third party along training crypto exchange exchange investor create exchange account via exchange service county needs linked investors bank account bank crypto via exchange one safest easiest processes however reading security measures carefully important invest portfolio top represents exchanges listed select know going know going popular changing country one oldest cryptocurrency exchanges first current bitcoin space india started dunkirk outcome later shifted operations bang hulu established two thousand thirteen name kept worse not common western option camera investors higher risk appetite could step exchange around one point four seven million registers investors not going fix particular date time sell certain amount crypto know coin counter trade enable users trade bulk exchanges also launched mobile app user friendly current yet considered one top crypto exchanges india dump sex registered users four million access two hundred cryptocurrencies like bitcoin ethereal ripple light coin many bitcoin illegal lily used starter launched two thousand eighteen casually mister started show interesting conditions trading fee low compared exchanges additionally investors get deposit withdrawals mrs free cost helpful option investors india trade directly indian rupees crypto exchange got reward alert list unicorn india two thousand twenty one track exam pay simple user friendly crypto exchange along security feature resemble outgoing transactions single click repay also gives offers new investors registers get trapeze hundred flashback first year five hundred offers generally attract new investors come field according pay two thirds indians bought first bitcoin one popular crypto jp exchanges betting experience since two thousand fourteen facilitated ten billion dollars worth transactions time visitors edicts certainly unusual platform upgrade cryptocurrency named blue alex exchange informs maximum one billion blocks coins ever created investor buy wr in exchanged available cryptocurrencies huge failed across platforms web android ios play windows mac apps significantly security important profit globally discouraged process completed within hours signing safely ensuring right coverage protocol peer peer transactions edicts zero fees deposit x p two service help restrict openwork money reply instantly ex act escort safekeeping transaction',\n",
              " 'india recently introduced crypto tax budget two thousand twenty two co products brings clarity not everyone happy experts believe thirty percent slab going increase tax burden cryptocurrency investors shell third returns towards taxes cryptogram see marketplace called government proposed taxation digital assets strong move towards recognizing cryptocurrency emerging asset class however not players happy move noting thirty percent slab high finance minister normal sitharaman tuesday introduced taxation virtual digital assets include cryptocurrencies non tangible tokens well government also introducing central bank digital currency popularly known city cbd sees powered blockchain technology two thousand twenty two twenty three biggest development today clarity crypto taxation add much needed recognition crypto system india also development removes ambiguity banks provide financial services crypto industry overall good news us need go detail version budget understand finer details mr pretty founder ceo undo dn cryptocurrency exchange visitor said welcoming taxation move submit gupta co founder ceo hindi excelled statement brings much needed confidence industry added taxation virtual digital assets crypto step right direction encouraging see government taken positive step towards regulating digital assets change lot misconceptions around crypto assets pave way forward classifying separate asset class kevin thomas co founder sac cone also noted statement investors pay thirty percent tax returns made trading investing cryptocurrencies digital assets the losses transfer virtual digital asset can not set income according announcement government also proposed provide tds payment made relation transfer virtual digital asset rate one percent concentration monetary threshold gift virtual asset also propose pose taxed hands recipient first step towards legitimate legitimizing digital asset market allowing indian talent compete global counterparts higher taxation counterproductive long run temporary measure contain unorganized trade transfer cryptocurrencies said heed ceo co founder easy fi network experts believe thirty percent lab going increase tax burden cryptocurrency investors shell third returns towards taxes smooth would force people move traditional modes investments stock mutual funds not subject high thirty percent dex shear chandra crypto told experts also pointed tedious rates make investment even care crypto traders multiple things income tax thirty percent india still acceptable one person tds makes tricky intraday traders india not see know coin cryptocurrency exchange tool indian express dot com yeah entered trading refers buying selling cryptocurrency day gilbert l cofounder chairman guardian link beyond live dog club nft platform also expressed disappointment humanities also gone virtual assets lumped one moment place component budget initially space get major roadblock investor community like good ecosystems show well understand regulation control elements crypto required nested classes taxation eventually adjust go developing ecosystem worldwide still classified non taxable assets imperative adjustment understanding crypto token different digital ft taken consideration future amendments cc said',\n",
              " 'crypto one big pond change mind doubt sell wish joking brand joke ample warning ignore crypto not real nothing backing physical product know icing insurance company like microsoft google hardly trading regulations literary value given cryptocurrency price people willing pay means hope buyer someone buy bags higher price explained pond scheme cryptocurrency worth holding onto point dodge coin even starting get skeptical thought let talk big useless pond scheme going crash burn ninety nine ninety nine percent reading got crypto nine years clearly joke sorry not say said recent fifty one mainstream media articles videos call bitcoin joking point want see guys get know understand understand crypto must pyramid scheme also hear two plus two equal five bitcoin not going anywhere neither ethidium anyway bear market bring serious questions interesting one cryptocurrency created within two thousand eight financial crisis one credit great said answer question lies perpetuating crypto markets right cryptocurrency wales investors among us ordinarily money control crypto not forget politics couple big plays throw towel entire portfolio worth less pocket length',\n",
              " 'token next word pawnshop lieu small change next time visit imagine digitally cryptocurrency big difference owner issuer would institute accepted global cryptocurrency digital virtual going go epigraphy makes next impossible counterfeit ministers designed use medium exchange buying goods services cryptocurrencies decentralized meaning authority regulates built blockchain network technology ensures transparency helps track every transaction currencies theoretically immune government interference kind manipulation cryptocurrency not underlying econ comic base vr information tools plus digital structure facilitates cerebral portability across geographical borders visibility transparency however often criticized possibility misuse illegal activities exchanger volatility one credibility often infrastructure underlying cryptocurrencies work progressive work using technology called blockchain tokens used form payment exchange online goods services carry upgraded mine stored value like fiat currency like us dollar indian rupee pregnancies digitally mine sophisticated computers solve complex computational mathematics mathematics problem mining pain taking costly sporadically rewarding',\n",
              " 'run cryptocurrency prices last december also dignified divergence gardens according new research report bitwise asset management difference returns top bottom performing coins dragged bit vice index rose seventy four point nine percent december average price difference top bottom performing coins entire year three hundred percent wage report page case diversification within crypto investing dragged price top ten readable cryptocurrencies year starting march twenty seventeen period three coins repulsed could grow bernie rp counterpart stellar xml chinese coin neal provided maximum return investors together responsible next bangladesh chosen nine twelve months dragged broadway release resurrection cleared signal graders inherent volatility cryptocurrency meat market makes impossible rely signals examples except peas done street eighty percent may twenty seventeen quickly slid negative thirty six point one percent july cryptocurrency space time period fell one fell forty cents pos new level fifteen cents august bitcoin returns live hype despite pain despite penchant generating headlines due express volatility bitcoin topped list maximum returns july even provided early returns compared points forty fifteen two percent mature assert would expect bitcoin lower end returns said matt hogan vice president research development bitwise according reasons behind poland new success hide synthetic due combination news development clever marketing partnerships coins still report states massive variability returns top ten cryptocurrencies consistency relation top coins one month leading mean cop range month follows report whose main thrust argument diversification cryptocurrency investment states according advisers martaban two reasons dispersion returns among crippled first one inherent volatility cryptocurrencies compared stocks bonds second reason according market understanding present surpasses average investors difference centrally controlled two percent like ripple truly distribute crypto asset like bitcoin immense hogan said market realizes returns reflected recent times also reports bitcoin correlation cryptocurrencies specifically bloomberg reported bitcoin price correlation went cryptocurrency market crashed declined researched advisers report reached different conclusion viewed politically light analysis coalition strongly support idea returns individual coins heterogeneous report states',\n",
              " 'todo extinct flightless bird endemic island vicious east madagascar indian ocean closest living relative todo nicolas pigeon sub fossil remains show todo one meter dull may weighed ten point six seventeen point five kilogram alms wild todo appearance life evidenced drawings paintings written accounts seventeenth century since portraits vary considerably since illustrations known drawn live specimens todo exact appearance life maine unresolved little known behavior depicted brownish grey plumage yellow feet cuft tail feathers grey naked head black yellow green beak used wizard stones help digest food thought included fruits main habitat believed woods dryer coastal areas mauritius one account states clutch consisted single egg presumed todo became flightless ready availability abundant food sources relative absence predators riches extinction todo within less century discovery called attention previously unrecognized problem human involvement disappearance entire species addition fallen fruits todo probably submitted nuts seeds bulbs roots also suggested dough do might eaten crabs shellfish like relatives crowned pigeons',\n",
              " 'dolphins small toothed cetaceans easily recognizable curved mouths give permanent smile thirty six dolphin species found every ocean dolphins marine live ocean brackish waters along coastline species however lie south asian river dolphin amazon river dolphin both live freshwater streams rivers largest dolphin orca grow thirty feet long smallest mai dolphin five feet long dolphins feed chiefly fish squid track using echo location built sonar bounces sound waves prey reveals information like location size shape echolocating bottle nose dolphin make thousand clicking noises per second living pods number dozen dolphins intensely social mammals communicate speaks whistles clicks whether dolphins language humans topic scientists debated decades mammals warm blood nurse young dolphins one mate generous lee produce single offspring stay mother six years depending species dolphins graceful sleek swimmers reach speeds eighteen miles hour also playful often erotic boat wake leaping water possibly fun communicate eight even shed desk parasites centuries people hunted dolphins meat rubber today main threat comes caught accidentally commercial fishing nets dolphins must rise regularly surface breathe becoming entangled nets prevents leading drowning ing main dolphins warming ocean temperatures climate change caused primary food sources move deeper cooler water furthermore marine heat waves also caused climate change appear negative effect dolphins reproductive rates ability survive addition hunting entanglement fishing gear freshwater dolphins face additional threat dams fragmenting degrading habitat',\n",
              " 'elephants largest land mammals earth distinctly massive bodies large ears long drinks use trunks pick objects trumpet warnings greet relevance suck water drinking bathing among uses male female african elephants grow tasks individual either left right tasked one use usually smaller wear tear elephant tasks serve many purposes extended teeth used protect elephant strung lift move objects gather food strip bark trees also used defense times drought elephants even use tasks dig holes find water underground genetically different african species exist savanna elephant forest elephant number characteristics differentiate african savannah elephant largest elephant species asian forest elephant african forest elephant comparable smaller size asian elephants differ several ways african relatives ten distinct physical differences example asian elephants ears smaller compared large fan shaped tears african species male asian elephants tasks male female african elephants grow tasks led matriarch elephants organized complex social structures females calves may loving tend live isolation small bachelor groups single calf born female every four five years gestation period twenty two months longest mammal cats cared entire herd related females female cats may stay maternal herd rest lives males leave heard reached puberty forest elephants social groups differ slightly may comprised adult female offspring however may congregate larger groups forest clearing resources abundant elephants need ext offensive land areas survive meet ecological needs includes food water space average elephant feed eighteen hours consume hundreds pounds plant matter single day result lose habitat often come conflict people competition resources',\n",
              " 'bank fixed deposits government small savings schemes traditional investment choice average indian household present bank india quarterly estimates household financial assets liabilities rupees four thousand seven hundred fifty three b lion invested bank teas year two thousand eighteen latest year data available rbi hand despite growing popularity share major funds house fixed income assets still relatively quite small per afi day february two thousand twenty retail hi net investment debt mutual funds last one year ending sept two thousand twenty obese two hundred sixty billion sap mutual fund sap debt mutual funds work investing fixed math every month under regular savings invest long period time benefit power compounding power compounding not work equity also works fixed income long investment investing fixed amount regular intervals monthly investing various price point average purchase cost known cost averaging since fixed income funds market linked schemes prices also subject volatility two sap take advantage fertility even fixed income phone especially longer duration sensitive interest rates fixed income outperform even long term extreme market conditions often challenge popularly held views one view equity ow performs always long term larger liquor starting today shows equity best performing asset class long term however promotional singing constitutes long term challenged chart shows annual lead terrorized average equity fixed income categories last three five ten years see insurance market conditions fixed income phones equity even fairly long ten years investor education initiative mira asset mutual funds ratios editors case degrees not way depict performance individual scheme fund major funds investment subject market risks read scheme military documents carefully',\n",
              " 'grief lists green financial professional compatibility finance often responsibility left accounting departments employees tend pay corporate finance accounting issues mind ignoring finance however put behind competition comes well versed complex aspects working business maria profession position within organization idea beer market cpm stands time lose fear finance begin embrace money matters head start journey financial fluency learning basic financial terms concepts network easy one start may heard one time day today financial experts discussing company network two magazines discussing certain celebrities value dollars business context network simply means difference total assets total amount owe creditors financial stakeholders positive net worth indicates good financial health whilst negative net worth means company operating loss without going much nifty greedy corporate finance funds want inflation means sustained increase prices goods services certain period relation value national currency one inflation indicator working professionals look income rising proportionally initial rate inflation mood organization operates global scale inflation impact price point selling oxide companies country borders liquidity determined decades accessible assets monetary value assets regenerative work sold today corporate usually need balanced liquidity since creditors demand money time speed business generate cash significant impact financial well',\n",
              " 'jeffrey howard archer baron archer weston super mare born april fifteenth nineteen forty english novelist life peer former politician becoming author archive member parliament nineteen sixty nine nineteen seventy four not seek reelection finance oil scandal left almost bankrupt revived fortunes bestselling novelist books sold three hundred twenty million copies worldwide archer wrote first book not penny not penny less autumn nineteen seventy four means avoiding bankruptcy bug picked literary agent zebra published first us eventually britain autumn nineteen seventy six radio adaptation aired bbc radio four early nineteen eighties bbc television adaptation book broadcast nineteen ninety cain abel nineteen seventy nine proved best selling work reaching number one new york times bestsellers list like early work edited richard cole olympic fencing gold medalist made television miniseries cbs nineteen eighty five five starring peter stress sam neil following year granada tv screen baton part adaptation another archer bestseller first among equals told story four men quest become prime minister us edition novel character andrew fraser eliminated reducing number protagonists three well novels short stories archer also written three stage plays first beyond reasonable doubt opened nineteen eighty seven ran queens theatre london west end year twenty eight archers next play exclusive not well received critics closed weeks final play accused opened theatre royal windsor september twenty six two thousand transferring theatre royal haymarket west hand december nineteen eighty eight kathleen barnett accused archer play arising story written including short story collection twist tale archer denied plagiarized story claiming simply inspired idea sword long tall illustrated collection archer short stories published november two thousand twenty watercolor illustrations artist paul cox',\n",
              " 'mammoth member extinct group elephants mammoth hairy elephants genus mammoth mammals lived europe four thousand five hundred years ago adapted cold climate killed hunters climate change series ice ages allowed math myths spread across land various species mammoth commonly equipped long curved tasks northern species covering long hair oldest representative mammoth us south african mammoth amazon planet fronts appeared around five million years ago early pliocene southern eastern africa descendant species mammoth moved north continued propagate numerous subsequent species eventually covering eurasia extending americas least six hundred thousand years ago last species emerge woolly mammoth emperor image nes developed four hundred thousand years ago east asia mammoth hunted early humans used spears cut hand axes frozen flesh analyzed dna sequence like modern relatives mammoth quite large largest known species reached heights region four meters thirteen point one feet shoulder weights eight tons eight point eight short tons exceptionally large males may exceeded twelve tons thirteen point two short tons however ce species mammoth large modern asian elephant two point five meters three meters high shoulder rarely exceeding five tons sexes bore tasks based studies close relatives modern elephants mammoth probably gestation period twenty two months resulting single calf born social structure probably african asian elephants females living herds headed matriarch whilst bowls lived solitary lives formed loose groups since many remains species man mammoth known several localities possible reconstruct evolutionary history genus logical studies mammoth species identified number enamel ridges molars primitive species ridges amount increased gradually new species evolved replaced former ones time crowns teeth became longer skulls become higher top bottom shorter back front time accommodate woolly mammoth emperor image nes last species genus populations woolly mammoth north america eurasia well columbia mammoth colombia north america died around time last glacial retreat part mass extinction megafauna northern eurasia americas',\n",
              " 'hari murakami born january twelfth nineteen forty nine japanese writer novels essays short stories bestsellers japan well internationally work translated fifty languages selling millions copies outside japan received numerous awards work including guns prize new writers world fantasy award frank connor international short story award franz aka prize jerusalem prize many novels themes titles evoke classical music three books making wind bird chronicle thinking magpie racing opera bird prophet piano piece robert schumann usually known english prophet bird bird catcher character mort opera magic flute novels take titles songs dance dance dance dell nine nineteen fifty seven besides song although often thought titled beach boys nineteen sixty four tune norwegian wood beatles song south border west sun song south border two thousand six murakami became sixth recipient fronts com cut prize april two thousand fifteen murakami named one time one hundred influential people november two thousand sixteen awarded danish hans christian anderson literature award award previously british author jk bowling two thousand eighteen see university tokyo agreed house archives come iraq army including manuscripts source documents music collection collection intended opened scholars set open october two thousand twenty one',\n",
              " 'name metro safe microphones markedly instrument invest equity cookie related securities money related market instruments net asset value anyway mutual fund scheme depends market price underlying securities pulled based securities go depending market movement hence see disclaimer mutual funds subject market risk friendly picture deceive investors invested traditional fixed income investments like bank fixed deposits post small saving schemes etc often two versions invest first mutual funds much return get safe inverse metro phones important investors understand following mature not give short returns even mutual fund scheme paying regular dividends dividend paid major funds not assured asset management company aims che change dividend degrade even stop detained period time deemed fit mt based market conditions guarantee capital production major phones prepared take risk investing mutual funds understand risk make informed investment decisions based risk appetite financial objectives mutual funds provide investment solutions wide spectrum risk appetite investment neat article try understand risk mutual funds investing discuss much unsafe risk agree funds three kinds risk equity mutual funds follows market risk also known systematic years risk affect entire stock market caused events may affect entire economy investment cycles common policies ra actions global events example overnight bundaberg global financial crisis nine eleven terrorist attack new york etc mortgages cause volatility mutual fund investment categories mutual funds mid cap fund small cap funds affected market volatility compared categories large gap invest according risk appetite without thinking safe mutual funds asymmetric risk risk impacts particular stock sector major funds aim diversify systematic risk may still systematic risk actively managed funds fund managers may overweight underweight stock sector thus order beat market benchmark index great advice investors want avoid systematic risks may invest idiots index fund jack market indexes data subject market risk however investors understand systematic risk not necessary really matters help fund managers gives superior returns sufficiently long investment horizon great advice investors invest according risk appetite investment needs without worrying safe invest mutual funds not liquidity risk arise due inability fund manager sell underlying securities scheme need arises redemption pressures not sufficient buyers due prevailing market conditions example high volatility beer market etc foreign manager may unable sell securities extreme market conditions mc may stop redemption certain mutual fund schemes liquidity risk equity funds back market segment example small cap funds compared liquid segment example large gaps',\n",
              " 'paulo cello born august twenty fourth nineteen forty seven rio de janeiro brazil brazilian novelist known employing rich symbolism depictions often spiritually motivated journeys taken characters novel alchemist sold one hundred fifty million copies worldwide time best selling book brazilian writer nineteen eighty two cello published first book pal archives failed make substantial impact nineteen eighty six contributed practical manual vampires although later tried take shelves since considered bad quality making pilgrimage santiago de compostela nineteen eighty six cello wrote pilgrimage published nineteen eighty seven trying overcome procrastination launching writing career cello decided see white feather today sign god giving write new book seeing one window shop began writing day fourteen following year cello wrote alchemist published small brazilian publishing house made initial print run nine hundred copies decided not reprint dod subsequently found bigger publishing house publication next bog breeder outcomes took harper collins decided publish book nineteen ninety four later became international bestseller two thousand nine interview syrian forward magazine cello stated sui tradition unemployed particularly writing alchemist later since publication alchemist cello generally written least one novel every two years four pilgrimage hobby valkyries aleph autobiographical majority rest broadly fictional',\n",
              " 'penguins group aquatic flightless birds live almost exclusively southern hemisphere highly adapted life water penguins counter shaded dark white plumage clippers swimming penguins feed kill fish squid forms sea life catch swimming underwater spend roughly half lives land half sea although almost penguin species native southern hemisphere not found areas cold climates antarctica fact species penguin live far south south several species found temperate zone one species galapagos penguin lives near equator largest living species emperor penguin average adults one point one meters three feet seven tall weigh thirty five kilogram mes seventy seven pounds smallest penguin species little blue penguin also known fairy penguin stands around thirty three centimeters tall weighs one kilogram general today larger penguins inhabit colder regions smaller penguins inhabit regions temperate tropical climates prehistoric penguin species enormous tall heavy adult human great diversity species subantarctic regions least one giant species region around two thousand kilometers south equator climate decidedly warmer today though birds penguins clippers instead wings can not fly land saddle walking upright though snow conditions right slide bellied water expert swimmers divers species reach speeds fifteen miles per hour penguins distinctive colouring black body white belly helps camouflage bird water searches meals small shrimp fish crabs squid evolutionary history penguins well researched represents showcase evolutionary bio geography although penguin bones one species much size good specimens known alpha taxonomy many prehistoric forms still leaves much desired seminal articles penguin pre history published since two thousand evolution living genera considered resolved',\n",
              " 'animal farm satirical allegorical novella george orwell first published england august seventeenth nineteen forty five book tells story group farm animals rebel human farmer hoping create society animals equal free happy ultimately rebellion betrayed farm ends state bad dictatorship pig named napoleon well wrote book november nineteen forty three february nineteen forty four united kingdom war time alliance soviet union nazi germany british intelligentsia held stolen high esteem phenomenon well hated manuscript initially rejected number british american publishers including one orwell victor gollancz delayed publication became great commercial success partly international relations transformed war time alliance gave way cold war preface nineteen forty seven ukrainian edition animal farm explained escaping communist purges spain taught easily totalitarian propaganda control opinion enlightened people democratic country motivated door expose strongly condemn saw stalinist corruption original socialist ideals homage catalunya sold poorly seeing arthur wrestler best selling darkness noon moscow trials well decided fiction best way describe totality organism immediately prior writing book well quit bbc also upset book left propagandists ministry information put booklet included instructions quell ideological fears soviet union directions claim red terror pig mint nazi imagination preface well describe source idea setting book farm saw little boy perhaps ten years old driving huge cart horse along narrow path whipping whenever tried turn struck animals became aware strength power men exploit animals much way rich exploit proletariat',\n",
              " 'william shakespeare english playwright poet actor widely regarded greatest writer english language world greatest dramatist often called england national poet bard van simply bard extant works including collaborations consist thirty nine plays one hundred fifty four sonnets three long narrative poems verses uncertain authorship plays translated every major living language performed often playwright works continue studied interpreted published sixteen nine sonnets last shakespeare non dramatic works printed scholars not certain one hundred fifty four sonnets composed evidence suggests shakespeare wrote sonnets throughout career private readership shakespeare works made lasting impression later theatre literature particular expanded dramatic potential characterization plot language genre romeo julie example romance not viewed worthy topic tragedy soliloquies used mainly convey information characters events shakespeare used explore characters minds two hundred eleven work heavily influenced later poetry romantic poets attempted revive shakespeare verse drama though little success shakespeare influenced novelists thomas hardy william faulkner charles wickets american novelist herman neville soliloquies owe much shakespeare captain aab mob dick classic tragic hero inspired king year shakespeare also inspired many painters including romantic pre raphaelites swiss romantic artist henry pusilla friend william blake even translated macbeth german',\n",
              " 'snow bunting medium sized full bodied songid small conical bill snow bunting several plumage always show white wings black wingtips black white tail breeding males sharp white black back breeding females whitish brown streak back dusky head non breeding males white rusty patches crown ear shoulder dark streaks back non breeding females rusty wash face darker rusty patches breast breeding males females dark pill turns yellowish orange non breeding season walks along barren places punched posture easily blending ground group takes flight burst black white forms large flocks often horned parks longspurs non breeding season breeds rocky tundra winters opa weed grassy fields along shores lakes oceans often concentrates shoreline debris piles along edge wave wind action pass orion ground dwelling species walks runs could potentially jump needed fairly large long way pinned bunting measures fifteen centimeters wingspan thirty two thirty eight centimeters thirteen fifteen waits thirty forty grams snow bunting northerly recorded pass world sometimes called snowflakes flocks snow bunting may seem like snowflakes will air settle winter fields south arctic strictly winter birds arriving late fall generally departing first signs spring summer retired bear northern tundra breeding northernmost highlands canada mountains greenland high arctic communities snow bunting nest birdhouses put',\n",
              " 'supernova biggest explosion humans ever seen blast extremely bright super powerful explosion star one type supernova caused last murray dying massive star happens star least five times mass sun goes fantastic bang ng massive stars burn huge amounts nuclear fuel cores centers produces tons energy summer gets hot heat generates pressure pressure created star nuclear burning also keeps star collapsing star imbalance two opposite ver forces star gravity tries squeeze star smallest lightest ball possible nuclear fuel burning star core creates strong outward pressure outward push resists inward squeeze gravity usually dense core left behind along expanding cloud od hot gas called nebula supernova star ten times size sun mail eve behind desert objects universe black holes second type supernova happen systems two stars orbit one another least one stars earth sized white dwarf white dwarf left star size sun run fuel nasa scientists use number different types telescopes search study supernova one example new start nuclear spectroscopic telescope array mission uses x ray vision investigate universe worse new star helping scientists observed supernova young nebula learn happens leading spectacular blasts',\n",
              " 'nineteen ground vaccine prize bayern clinical trial micro specific vaccine prize byron began clever transfer armada specific vaccine press release prize announced initiation clinical study evaluate safety tolerability emotional generosity underground based vaccine candidate healthy adults eighteen fifty five years age according information need study three different examinations evaluating evaluate fourteen twenty participants study part science based approach developed already base vaccine achieves similar level protection emigrant earlier higgins longer duration protection said professor pagos hint ceo co founder ante three cohorts examination covered number one participants already fascinated prize overnighting vaccine receive hundred coaches underground base c code number two participants two vaccines after bookstore receive one american based vaccine covered number three non fascinated participants receive two doses american based based vaccine part ongoing efforts address ground determine potential need beijing based vaccines read apart anti drug initiated study evaluating ground based nineteen vaccine adults eighteen fifty five micro variant contagious covered nineteen fees prize wants address fast moving pandemic specific vaccine studies reveal vaccines offer good protection hospitalization severe illness death scientific evidence reveals booster shot stand ins predictions improves chances worse eating greatest symptoms current research real world shoes voucher continue provide high level protection severe disease hospitalization micro recognize need prepared event production means overtime financially help address omega new advance future said senior vice president head vaccine research development prize catherine prize biotech quantified produce four billion doses coordinator vaccine two thousand twenty two case comic runway scene develops year companies change reduce capacity production',\n",
              " 'whales widely distributed diverse group fully aquatic placental marine mammals whales largest animals earth live every ocean massive mammals range six hundred pound dwarf sperm whale colossal blue whale weigh two hundred tons much thirty three elephants stretch one hundred feet long almost long professional basketball court whales warm blooded creatures nurse young two types whales toothed been toothed whales name suggests teeth used hunt eat squid fish seals toothed whales include sperm whales well dolphins purposes orca among others marshals horn actually one long tooth protruding lip been whales larger toothed whales part include blue whales humpbacks right whales coxhead whales others feed training tiny shrimp like creatures called kill fringed plates long fingernail like material called been attached upper jaws whales particularly humpbacks produce otherworldly vocalization heard miles underwater songs complex combinations means bowls cries continue hours produced whales push air around heads amplify sounds blob fat perched top jaw thought whales communicate calls researchers believe heard thousands miles though stark population declines hunting largely stopped several whale species threatened endangered including blue whale right whale fin whale combination fishing net entanglement struck ships']"
            ]
          },
          "metadata": {},
          "execution_count": 17
        }
      ]
    },
    {
      "cell_type": "markdown",
      "source": [
        "## 3.5 Updating back to DF"
      ],
      "metadata": {
        "id": "-XxkenL6DZr3"
      }
    },
    {
      "cell_type": "code",
      "source": [
        "dataset['Preprocessed']=text\n",
        "dataset"
      ],
      "metadata": {
        "colab": {
          "base_uri": "https://localhost:8080/",
          "height": 833
        },
        "id": "Swt1MRznDeBn",
        "outputId": "f96fdeaa-de10-4a54-9253-e472ad45ffc7"
      },
      "execution_count": null,
      "outputs": [
        {
          "output_type": "execute_result",
          "data": {
            "text/html": [
              "\n",
              "  <div id=\"df-fff8388f-7bdf-4e18-8809-624591c2ddee\">\n",
              "    <div class=\"colab-df-container\">\n",
              "      <div>\n",
              "<style scoped>\n",
              "    .dataframe tbody tr th:only-of-type {\n",
              "        vertical-align: middle;\n",
              "    }\n",
              "\n",
              "    .dataframe tbody tr th {\n",
              "        vertical-align: top;\n",
              "    }\n",
              "\n",
              "    .dataframe thead th {\n",
              "        text-align: right;\n",
              "    }\n",
              "</style>\n",
              "<table border=\"1\" class=\"dataframe\">\n",
              "  <thead>\n",
              "    <tr style=\"text-align: right;\">\n",
              "      <th></th>\n",
              "      <th>title</th>\n",
              "      <th>transcript</th>\n",
              "      <th>Preprocessed</th>\n",
              "    </tr>\n",
              "  </thead>\n",
              "  <tbody>\n",
              "    <tr>\n",
              "      <th>0</th>\n",
              "      <td>astronomy</td>\n",
              "      <td>astronomy literally meaning the science that s...</td>\n",
              "      <td>astronomy literally meaning science studies la...</td>\n",
              "    </tr>\n",
              "    <tr>\n",
              "      <th>1</th>\n",
              "      <td>white dwarf</td>\n",
              "      <td>a white dwarf also called a degenerate dwarf i...</td>\n",
              "      <td>white dwarf also called degenerate dwarf stell...</td>\n",
              "    </tr>\n",
              "    <tr>\n",
              "      <th>2</th>\n",
              "      <td>chimp</td>\n",
              "      <td>chimpanzees are great apes found across centra...</td>\n",
              "      <td>chimpanzees great apes found across central we...</td>\n",
              "    </tr>\n",
              "    <tr>\n",
              "      <th>3</th>\n",
              "      <td>crypto</td>\n",
              "      <td>what are the top four crypto exchanges india w...</td>\n",
              "      <td>top four crypto exchanges india buy two poker ...</td>\n",
              "    </tr>\n",
              "    <tr>\n",
              "      <th>4</th>\n",
              "      <td>crypto_tax</td>\n",
              "      <td>india recently introduced crypto tax in the bu...</td>\n",
              "      <td>india recently introduced crypto tax budget tw...</td>\n",
              "    </tr>\n",
              "    <tr>\n",
              "      <th>5</th>\n",
              "      <td>crypto_means</td>\n",
              "      <td>crypto is just one big ponzi and can change my...</td>\n",
              "      <td>crypto one big pond change mind doubt sell wis...</td>\n",
              "    </tr>\n",
              "    <tr>\n",
              "      <th>6</th>\n",
              "      <td>digital_token</td>\n",
              "      <td>token from your next the word pawnshop in lieu...</td>\n",
              "      <td>token next word pawnshop lieu small change nex...</td>\n",
              "    </tr>\n",
              "    <tr>\n",
              "      <th>7</th>\n",
              "      <td>cryptocurrency</td>\n",
              "      <td>a run up in cryptocurrency prices last decembe...</td>\n",
              "      <td>run cryptocurrency prices last december also d...</td>\n",
              "    </tr>\n",
              "    <tr>\n",
              "      <th>8</th>\n",
              "      <td>dodo</td>\n",
              "      <td>the dodo is an extinct flightless bird that wa...</td>\n",
              "      <td>todo extinct flightless bird endemic island vi...</td>\n",
              "    </tr>\n",
              "    <tr>\n",
              "      <th>9</th>\n",
              "      <td>dolphin</td>\n",
              "      <td>dolphins are small toothed cetaceans easily re...</td>\n",
              "      <td>dolphins small toothed cetaceans easily recogn...</td>\n",
              "    </tr>\n",
              "    <tr>\n",
              "      <th>10</th>\n",
              "      <td>elephant</td>\n",
              "      <td>elephants are the largest land mammals on eart...</td>\n",
              "      <td>elephants largest land mammals earth distinctl...</td>\n",
              "    </tr>\n",
              "    <tr>\n",
              "      <th>11</th>\n",
              "      <td>fd_mutual_finance</td>\n",
              "      <td>bank fixed deposits and government small savin...</td>\n",
              "      <td>bank fixed deposits government small savings s...</td>\n",
              "    </tr>\n",
              "    <tr>\n",
              "      <th>12</th>\n",
              "      <td>finance</td>\n",
              "      <td>griego lists you are a green financial profess...</td>\n",
              "      <td>grief lists green financial professional compa...</td>\n",
              "    </tr>\n",
              "    <tr>\n",
              "      <th>13</th>\n",
              "      <td>jeffrey_archer</td>\n",
              "      <td>jeffrey howard archer baron archer of weston s...</td>\n",
              "      <td>jeffrey howard archer baron archer weston supe...</td>\n",
              "    </tr>\n",
              "    <tr>\n",
              "      <th>14</th>\n",
              "      <td>mammoth</td>\n",
              "      <td>the mammoth is a member of an extinct group of...</td>\n",
              "      <td>mammoth member extinct group elephants mammoth...</td>\n",
              "    </tr>\n",
              "    <tr>\n",
              "      <th>15</th>\n",
              "      <td>murakami</td>\n",
              "      <td>haruki murakami born january twelfth nineteen ...</td>\n",
              "      <td>hari murakami born january twelfth nineteen fo...</td>\n",
              "    </tr>\n",
              "    <tr>\n",
              "      <th>16</th>\n",
              "      <td>mutual_funds</td>\n",
              "      <td>my name is metro for safe microphones are mark...</td>\n",
              "      <td>name metro safe microphones markedly instrumen...</td>\n",
              "    </tr>\n",
              "    <tr>\n",
              "      <th>17</th>\n",
              "      <td>paulo_coelho</td>\n",
              "      <td>paulo coelho born august twenty fourth ninetee...</td>\n",
              "      <td>paulo cello born august twenty fourth nineteen...</td>\n",
              "    </tr>\n",
              "    <tr>\n",
              "      <th>18</th>\n",
              "      <td>penguin</td>\n",
              "      <td>penguins are a group of aquatic flightless bir...</td>\n",
              "      <td>penguins group aquatic flightless birds live a...</td>\n",
              "    </tr>\n",
              "    <tr>\n",
              "      <th>19</th>\n",
              "      <td>animal_farm</td>\n",
              "      <td>animal farm is a satirical allegorical novella...</td>\n",
              "      <td>animal farm satirical allegorical novella geor...</td>\n",
              "    </tr>\n",
              "    <tr>\n",
              "      <th>20</th>\n",
              "      <td>shakespeare</td>\n",
              "      <td>william shakespeare was an english playwright ...</td>\n",
              "      <td>william shakespeare english playwright poet ac...</td>\n",
              "    </tr>\n",
              "    <tr>\n",
              "      <th>21</th>\n",
              "      <td>snow_bunting</td>\n",
              "      <td>snow bunting is a medium-sized full bodied son...</td>\n",
              "      <td>snow bunting medium sized full bodied songid s...</td>\n",
              "    </tr>\n",
              "    <tr>\n",
              "      <th>22</th>\n",
              "      <td>super_nova</td>\n",
              "      <td>a supernova is the biggest explosion that huma...</td>\n",
              "      <td>supernova biggest explosion humans ever seen b...</td>\n",
              "    </tr>\n",
              "    <tr>\n",
              "      <th>23</th>\n",
              "      <td>vaccine_news</td>\n",
              "      <td>over nineteen on the ground vaccine pfizer and...</td>\n",
              "      <td>nineteen ground vaccine prize bayern clinical ...</td>\n",
              "    </tr>\n",
              "    <tr>\n",
              "      <th>24</th>\n",
              "      <td>whale</td>\n",
              "      <td>whales are a widely distributed and diverse gr...</td>\n",
              "      <td>whales widely distributed diverse group fully ...</td>\n",
              "    </tr>\n",
              "  </tbody>\n",
              "</table>\n",
              "</div>\n",
              "      <button class=\"colab-df-convert\" onclick=\"convertToInteractive('df-fff8388f-7bdf-4e18-8809-624591c2ddee')\"\n",
              "              title=\"Convert this dataframe to an interactive table.\"\n",
              "              style=\"display:none;\">\n",
              "        \n",
              "  <svg xmlns=\"http://www.w3.org/2000/svg\" height=\"24px\"viewBox=\"0 0 24 24\"\n",
              "       width=\"24px\">\n",
              "    <path d=\"M0 0h24v24H0V0z\" fill=\"none\"/>\n",
              "    <path d=\"M18.56 5.44l.94 2.06.94-2.06 2.06-.94-2.06-.94-.94-2.06-.94 2.06-2.06.94zm-11 1L8.5 8.5l.94-2.06 2.06-.94-2.06-.94L8.5 2.5l-.94 2.06-2.06.94zm10 10l.94 2.06.94-2.06 2.06-.94-2.06-.94-.94-2.06-.94 2.06-2.06.94z\"/><path d=\"M17.41 7.96l-1.37-1.37c-.4-.4-.92-.59-1.43-.59-.52 0-1.04.2-1.43.59L10.3 9.45l-7.72 7.72c-.78.78-.78 2.05 0 2.83L4 21.41c.39.39.9.59 1.41.59.51 0 1.02-.2 1.41-.59l7.78-7.78 2.81-2.81c.8-.78.8-2.07 0-2.86zM5.41 20L4 18.59l7.72-7.72 1.47 1.35L5.41 20z\"/>\n",
              "  </svg>\n",
              "      </button>\n",
              "      \n",
              "  <style>\n",
              "    .colab-df-container {\n",
              "      display:flex;\n",
              "      flex-wrap:wrap;\n",
              "      gap: 12px;\n",
              "    }\n",
              "\n",
              "    .colab-df-convert {\n",
              "      background-color: #E8F0FE;\n",
              "      border: none;\n",
              "      border-radius: 50%;\n",
              "      cursor: pointer;\n",
              "      display: none;\n",
              "      fill: #1967D2;\n",
              "      height: 32px;\n",
              "      padding: 0 0 0 0;\n",
              "      width: 32px;\n",
              "    }\n",
              "\n",
              "    .colab-df-convert:hover {\n",
              "      background-color: #E2EBFA;\n",
              "      box-shadow: 0px 1px 2px rgba(60, 64, 67, 0.3), 0px 1px 3px 1px rgba(60, 64, 67, 0.15);\n",
              "      fill: #174EA6;\n",
              "    }\n",
              "\n",
              "    [theme=dark] .colab-df-convert {\n",
              "      background-color: #3B4455;\n",
              "      fill: #D2E3FC;\n",
              "    }\n",
              "\n",
              "    [theme=dark] .colab-df-convert:hover {\n",
              "      background-color: #434B5C;\n",
              "      box-shadow: 0px 1px 3px 1px rgba(0, 0, 0, 0.15);\n",
              "      filter: drop-shadow(0px 1px 2px rgba(0, 0, 0, 0.3));\n",
              "      fill: #FFFFFF;\n",
              "    }\n",
              "  </style>\n",
              "\n",
              "      <script>\n",
              "        const buttonEl =\n",
              "          document.querySelector('#df-fff8388f-7bdf-4e18-8809-624591c2ddee button.colab-df-convert');\n",
              "        buttonEl.style.display =\n",
              "          google.colab.kernel.accessAllowed ? 'block' : 'none';\n",
              "\n",
              "        async function convertToInteractive(key) {\n",
              "          const element = document.querySelector('#df-fff8388f-7bdf-4e18-8809-624591c2ddee');\n",
              "          const dataTable =\n",
              "            await google.colab.kernel.invokeFunction('convertToInteractive',\n",
              "                                                     [key], {});\n",
              "          if (!dataTable) return;\n",
              "\n",
              "          const docLinkHtml = 'Like what you see? Visit the ' +\n",
              "            '<a target=\"_blank\" href=https://colab.research.google.com/notebooks/data_table.ipynb>data table notebook</a>'\n",
              "            + ' to learn more about interactive tables.';\n",
              "          element.innerHTML = '';\n",
              "          dataTable['output_type'] = 'display_data';\n",
              "          await google.colab.output.renderOutput(dataTable, element);\n",
              "          const docLink = document.createElement('div');\n",
              "          docLink.innerHTML = docLinkHtml;\n",
              "          element.appendChild(docLink);\n",
              "        }\n",
              "      </script>\n",
              "    </div>\n",
              "  </div>\n",
              "  "
            ],
            "text/plain": [
              "                title                                         transcript  \\\n",
              "0           astronomy  astronomy literally meaning the science that s...   \n",
              "1         white dwarf  a white dwarf also called a degenerate dwarf i...   \n",
              "2               chimp  chimpanzees are great apes found across centra...   \n",
              "3              crypto  what are the top four crypto exchanges india w...   \n",
              "4          crypto_tax  india recently introduced crypto tax in the bu...   \n",
              "5        crypto_means  crypto is just one big ponzi and can change my...   \n",
              "6       digital_token  token from your next the word pawnshop in lieu...   \n",
              "7      cryptocurrency  a run up in cryptocurrency prices last decembe...   \n",
              "8                dodo  the dodo is an extinct flightless bird that wa...   \n",
              "9             dolphin  dolphins are small toothed cetaceans easily re...   \n",
              "10           elephant  elephants are the largest land mammals on eart...   \n",
              "11  fd_mutual_finance  bank fixed deposits and government small savin...   \n",
              "12            finance  griego lists you are a green financial profess...   \n",
              "13     jeffrey_archer  jeffrey howard archer baron archer of weston s...   \n",
              "14            mammoth  the mammoth is a member of an extinct group of...   \n",
              "15           murakami  haruki murakami born january twelfth nineteen ...   \n",
              "16       mutual_funds  my name is metro for safe microphones are mark...   \n",
              "17       paulo_coelho  paulo coelho born august twenty fourth ninetee...   \n",
              "18            penguin  penguins are a group of aquatic flightless bir...   \n",
              "19        animal_farm  animal farm is a satirical allegorical novella...   \n",
              "20        shakespeare  william shakespeare was an english playwright ...   \n",
              "21       snow_bunting  snow bunting is a medium-sized full bodied son...   \n",
              "22         super_nova  a supernova is the biggest explosion that huma...   \n",
              "23       vaccine_news  over nineteen on the ground vaccine pfizer and...   \n",
              "24              whale  whales are a widely distributed and diverse gr...   \n",
              "\n",
              "                                         Preprocessed  \n",
              "0   astronomy literally meaning science studies la...  \n",
              "1   white dwarf also called degenerate dwarf stell...  \n",
              "2   chimpanzees great apes found across central we...  \n",
              "3   top four crypto exchanges india buy two poker ...  \n",
              "4   india recently introduced crypto tax budget tw...  \n",
              "5   crypto one big pond change mind doubt sell wis...  \n",
              "6   token next word pawnshop lieu small change nex...  \n",
              "7   run cryptocurrency prices last december also d...  \n",
              "8   todo extinct flightless bird endemic island vi...  \n",
              "9   dolphins small toothed cetaceans easily recogn...  \n",
              "10  elephants largest land mammals earth distinctl...  \n",
              "11  bank fixed deposits government small savings s...  \n",
              "12  grief lists green financial professional compa...  \n",
              "13  jeffrey howard archer baron archer weston supe...  \n",
              "14  mammoth member extinct group elephants mammoth...  \n",
              "15  hari murakami born january twelfth nineteen fo...  \n",
              "16  name metro safe microphones markedly instrumen...  \n",
              "17  paulo cello born august twenty fourth nineteen...  \n",
              "18  penguins group aquatic flightless birds live a...  \n",
              "19  animal farm satirical allegorical novella geor...  \n",
              "20  william shakespeare english playwright poet ac...  \n",
              "21  snow bunting medium sized full bodied songid s...  \n",
              "22  supernova biggest explosion humans ever seen b...  \n",
              "23  nineteen ground vaccine prize bayern clinical ...  \n",
              "24  whales widely distributed diverse group fully ...  "
            ]
          },
          "metadata": {},
          "execution_count": 18
        }
      ]
    },
    {
      "cell_type": "markdown",
      "source": [
        "## 3.6 Handling contractions"
      ],
      "metadata": {
        "id": "pnCQsoJCFdF3"
      }
    },
    {
      "cell_type": "code",
      "source": [
        "contractions = { \n",
        "\"ain't\": \"am not\", \"aren't\": \"are not\", \"can't\": \"cannot\", \"can't've\": \"cannot have\", \"'cause\": \"because\", \"could've\": \"could have\", \"couldn't\": \"could not\",\n",
        "\"couldn't've\": \"could not have\", \"didn't\": \"did not\", \"doesn't\": \"does not\", \"don't\": \"do not\", \"hadn't\": \"had not\", \"hadn't've\": \"had not have\",\n",
        "\"hasn't\": \"has not\", \"haven't\": \"have not\", \"he'd\": \"he had\", \"he'd've\": \"he would have\", \"he'll\": \"he will\", \"he'll've\": \"he will have\", \"he's\": \"he is\",\n",
        "\"how'd\": \"how did\", \"how'd'y\": \"how do you\", \"how'll\": \"how will\", \"how's\": \"how is\", \"i'd\": \"i would\", \"i'd've\": \"i would have\",\n",
        "\"i'll\": \"i will\", \"i'll've\": \"i will have\", \"i'm\": \"i am\", \"i've\": \"i have\", \"isn't\": \"is not\", \"it'd\": \"it would\",\n",
        "\"it'd've\": \"it would have\", \"it'll\": \"it will\", \"it'll've\": \"it will have\", \"it's\": \"it is\", \"let's\": \"let us\",\n",
        "\"ma'am\": \"madam\", \"mayn't\": \"may not\", \"might've\": \"might have\", \"mightn't\": \"might not\", \"mightn't've\": \"might not have\", \"must've\": \"must have\", \"mustn't\": \"must not\",\n",
        "\"mustn't've\": \"must not have\", \"needn't\": \"need not\", \"needn't've\": \"need not have\", \"o'clock\": \"of the clock\", \"oughtn't\": \"ought not\", \"oughtn't've\": \"ought not have\",\n",
        "\"shan't\": \"shall not\", \"sha'n't\": \"shall not\", \"shan't've\": \"shall not have\", \"she'd\": \"she would\", \"she'd've\": \"she would have\", \"she'll\": \"she shall / she will\",\n",
        "\"she'll've\": \"she will have\", \"she's\": \"she is\", \"should've\": \"should have\", \"shouldn't\": \"should not\", \"shouldn't've\": \"should not have\",\n",
        "\"so've\": \"so have\", \"so's\": \"so is\", \"that'd\": \"that would\", \"that'd've\": \"that would have\", \"that's\": \"that is\", \"there'd\": \"there would\",\n",
        "\"there'd've\": \"there would have\", \"there's\": \"there is\", \"they'd\": \"they would\", \"they'd've\": \"they would have\", \"they'll\": \"they will\",\n",
        "\"they'll've\": \"they will have\", \"they're\": \"they are\", \"they've\": \"they have\", \"to've\": \"to have\", \"wasn't\": \"was not\", \"we'd\": \"we would\",\n",
        "\"we'd've\": \"we would have\", \"we'll\": \"we will\", \"we'll've\": \"we will have\", \"we're\": \"we are\", \"we've\": \"we have\", \"weren't\": \"were not\", \"what'll\": \"what will\",\n",
        "\"what'll've\": \"what will have\", \"what're\": \"what are\", \"what's\": \"what is\", \"what've\": \"what have\", \"when's\": \"when is\",\n",
        "\"when've\": \"when have\", \"where'd\": \"where did\", \"where's\": \"where is\", \"where've\": \"where have\", \"who'll\": \"who will\", \"who'll've\": \"who will have\",\n",
        "\"who's\": \"who is\", \"who've\": \"who have\", \"why's\": \"why is\", \"why've\": \"why have\", \"will've\": \"will have\", \"won't\": \"will not\", \"won't've\": \"will not have\",\n",
        "\"would've\": \"would have\", \"wouldn't\": \"would not\", \"wouldn't've\": \"would not have\", \"y'all\": \"you all\", \"y'all'd\": \"you all would\", \"y'all'd've\": \"you all would have\",\n",
        "\"y'all're\": \"you all are\", \"y'all've\": \"you all have\", \"you'd\": \"you would\", \"you'd've\": \"you would have\", \"you'll\": \"you will\", \"you'll've\": \"you will have\",\n",
        "\"you're\": \"you are\", \"you've\": \"you have\"\n",
        "}"
      ],
      "metadata": {
        "id": "s74qkO1gFcnu"
      },
      "execution_count": null,
      "outputs": []
    },
    {
      "cell_type": "code",
      "source": [
        "contractionsWithAnotherInvertedComma = { \n",
        "\"ain’t\": \"am not\", \"aren’t\": \"are not\", \"can’t\": \"cannot\", \"can’t’ve\": \"cannot have\", \"’cause\": \"because\", \"could’ve\": \"could have\", \"couldn’t\": \"could not\",\n",
        "\"couldn’t’ve\": \"could not have\", \"didn’t\": \"did not\", \"doesn’t\": \"does not\", \"don’t\": \"do not\", \"hadn’t\": \"had not\", \"hadn’t’ve\": \"had not have\",\n",
        "\"hasn’t\": \"has not\", \"haven’t\": \"have not\", \"he’d\": \"he had\", \"he’d’ve\": \"he would have\", \"he’ll\": \"he will\", \"he’ll’ve\": \"he will have\", \"he’s\": \"he is\",\n",
        "\"how’d\": \"how did\", \"how’d’y\": \"how do you\", \"how’ll\": \"how will\", \"how’s\": \"how is\", \"i’d\": \"i would\", \"i’d’ve\": \"i would have\",\n",
        "\"i’ll\": \"i will\", \"i’ll’ve\": \"i will have\", \"i’m\": \"i am\", \"i’ve\": \"i have\", \"isn’t\": \"is not\", \"it’d\": \"it would\",\n",
        "\"it’d’ve\": \"it would have\", \"it’ll\": \"it will\", \"it’ll’ve\": \"it will have\", \"it’s\": \"it is\", \"let’s\": \"let us\",\n",
        "\"ma’am\": \"madam\", \"mayn’t\": \"may not\", \"might’ve\": \"might have\", \"mightn’t\": \"might not\", \"mightn’t’ve\": \"might not have\", \"must’ve\": \"must have\", \"mustn’t\": \"must not\",\n",
        "\"mustn’t’ve\": \"must not have\", \"needn’t\": \"need not\", \"needn’t’ve\": \"need not have\", \"o’clock\": \"of the clock\", \"oughtn’t\": \"ought not\", \"oughtn’t’ve\": \"ought not have\",\n",
        "\"shan’t\": \"shall not\", \"shan’t’ve\": \"shall not have\", \"she’d\": \"she would\", \"she’d’ve\": \"she would have\", \"she’ll\": \"she will\",\n",
        "\"she’ll’ve\": \"she will have\", \"she’s\": \"she is\", \"should’ve\": \"should have\", \"shouldn’t\": \"should not\", \"shouldn’t’ve\": \"should not have\",\n",
        "\"so’ve\": \"so have\", \"so’s\": \"so is\", \"that’d\": \"that would\", \"that’d’ve\": \"that would have\", \"that’s\": \"that is\", \"there’d\": \"there would\",\n",
        "\"there’d’ve\": \"there would have\", \"there’s\": \"there is\", \"they’d\": \"they would\", \"they’d’ve\": \"they would have\", \"they’ll\": \"they will\",\n",
        "\"they’ll’ve\": \"they will have\", \"they’re\": \"they are\", \"they’ve\": \"they have\", \"to’ve\": \"to have\", \"wasn’t\": \"was not\", \"we’d\": \"we would\",\n",
        "\"we’d’ve\": \"we would have\", \"we’ll\": \"we will\", \"we’ll’ve\": \"we will have\", \"we’re\": \"we are\", \"we’ve\": \"we have\", \"weren’t\": \"were not\", \"what’ll\": \"what will\",\n",
        "\"what'll've\": \"what will have\", \"what're\": \"what are\", \"what's\": \"what is\", \"what've\": \"what have\", \"when's\": \"when is\",\n",
        "\"when’ve\": \"when have\", \"where’d\": \"where did\", \"where’s\": \"where is\", \"where’ve\": \"where have\", \"who’ll\": \"who will\", \"who’ll’ve\": \"who will have\",\n",
        "\"who’s\": \"who is\", \"who’ve\": \"who have\", \"why’s\": \"why is\", \"why’ve\": \"why have\", \"will’ve\": \"will have\", \"won’t\": \"will not\", \"won’t’ve\": \"will not have\",\n",
        "\"would’ve\": \"would have\", \"wouldn’t\": \"would not\", \"wouldn’t’ve\": \"would not have\", \"y’all\": \"you all\", \"y’all’d\": \"you all would\", \"y’all’d’ve\": \"you all would have\",\n",
        "\"y’all’re\": \"you all are\", \"y’all’ve\": \"you all have\", \"you’d\": \"you would\", \"you’d’ve\": \"you would have\", \"you’ll\": \"you will\", \"you’ll’ve\": \"you will have\",\n",
        "\"you’re\": \"you are\", \"you’ve\": \"you have\"\n",
        "}"
      ],
      "metadata": {
        "id": "DWK9ad9WEALq"
      },
      "execution_count": null,
      "outputs": []
    },
    {
      "cell_type": "code",
      "source": [
        "class contract():\n",
        "  def __init__(self, df, contractions, otherContractions):\n",
        "        self.df = df\n",
        "        self.contractions = contractions\n",
        "        self.otherContractions = otherContractions\n",
        "\n",
        "  def expand(self, text):\n",
        "        for word in text.split():\n",
        "            if word in self.contractions.keys():\n",
        "                text = text.replace(word, self.contractions[word])\n",
        "            elif word in self.otherContractions.keys():\n",
        "                text = text.replace(word, self.otherContractions[word])\n",
        "        return text\n",
        "\n",
        "  def abbreviate(self, text):\n",
        "        text = text.split(' ')\n",
        "        j = 0\n",
        "        for str_ in text:\n",
        "            fileName = '/content/Transcripts.csv'\n",
        "            accessMode = 'r'\n",
        "            with open(fileName, accessMode) as csvfile:\n",
        "                dataFromFile = csv.reader(csvfile, delimiter = '=')\n",
        "                str_ = re.sub('[^a-zA-Z0-9-_.]', '', str_)\n",
        "                for row in dataFromFile:\n",
        "                    if str_.upper() == row[0]:\n",
        "                        text[j] = row[1]\n",
        "                csvfile.close()\n",
        "            j += 1\n",
        "        return ' '.join(text)\n",
        "\n",
        "  def get(self, text):\n",
        "        text = self.expand(text)\n",
        "        text = self.abbreviate(text)\n",
        "        return text"
      ],
      "metadata": {
        "id": "g5dsTrZ6FmGf"
      },
      "execution_count": null,
      "outputs": []
    },
    {
      "cell_type": "code",
      "source": [
        "pp_class = contract(dataset, contractions, contractionsWithAnotherInvertedComma)\n",
        "dataset['Preprocessed'] = dataset['Preprocessed']\n",
        "dataset['Preprocessed'].apply(lambda x : pp_class.get(x))"
      ],
      "metadata": {
        "id": "Q9-YuJB2Avug",
        "colab": {
          "base_uri": "https://localhost:8080/"
        },
        "outputId": "1b4dd0a2-f07e-4fcc-95f8-8a4ca9956a01"
      },
      "execution_count": null,
      "outputs": [
        {
          "output_type": "execute_result",
          "data": {
            "text/plain": [
              "0     astronomy literally meaning science studies la...\n",
              "1     white dwarf also called degenerate dwarf stell...\n",
              "2     chimpanzees great apes found across central we...\n",
              "3     top four crypto exchanges india buy two poker ...\n",
              "4     india recently introduced crypto tax budget tw...\n",
              "5     crypto one big pond change mind doubt sell wis...\n",
              "6     token next word pawnshop lieu small change nex...\n",
              "7     run cryptocurrency prices last december also d...\n",
              "8     todo extinct flightless bird endemic island vi...\n",
              "9     dolphins small toothed cetaceans easily recogn...\n",
              "10    elephants largest land mammals earth distinctl...\n",
              "11    bank fixed deposits government small savings s...\n",
              "12    grief lists green financial professional compa...\n",
              "13    jeffrey howard archer baron archer weston supe...\n",
              "14    mammoth member extinct group elephants mammoth...\n",
              "15    hari murakami born january twelfth nineteen fo...\n",
              "16    name metro safe microphones markedly instrumen...\n",
              "17    paulo cello born august twenty fourth nineteen...\n",
              "18    penguins group aquatic flightless birds live a...\n",
              "19    animal farm satirical allegorical novella geor...\n",
              "20    william shakespeare english playwright poet ac...\n",
              "21    snow bunting medium sized full bodied songid s...\n",
              "22    supernova biggest explosion humans ever seen b...\n",
              "23    nineteen ground vaccine prize bayern clinical ...\n",
              "24    whales widely distributed diverse group fully ...\n",
              "Name: Preprocessed, dtype: object"
            ]
          },
          "metadata": {},
          "execution_count": 26
        }
      ]
    },
    {
      "cell_type": "markdown",
      "source": [
        "## 3.7 Lemmatization\n"
      ],
      "metadata": {
        "id": "dosHbQapktKT"
      }
    },
    {
      "cell_type": "code",
      "source": [
        "from google.colab import drive\n",
        "drive.mount('/content/drive')"
      ],
      "metadata": {
        "id": "zSAtrw8fo9Mn",
        "colab": {
          "base_uri": "https://localhost:8080/"
        },
        "outputId": "8a622662-9e81-4e29-fab3-b7468b30b311"
      },
      "execution_count": null,
      "outputs": [
        {
          "output_type": "stream",
          "name": "stdout",
          "text": [
            "Mounted at /content/drive\n"
          ]
        }
      ]
    },
    {
      "cell_type": "code",
      "source": [
        "#Lemma the word\n",
        "nlp = spacy.load('en', disable=['parser', 'ner'])\n",
        "def space(comment):\n",
        "    doc = nlp(comment)\n",
        "    return \" \".join([token.lemma_ for token in doc])\n",
        "\n",
        "dataset['Preprocessed']= dataset['Preprocessed'].apply(space)\n",
        "dataset['Preprocessed'].apply(lambda x: x.replace('-PRON-', ' '))"
      ],
      "metadata": {
        "id": "gxACrar5kvvY",
        "colab": {
          "base_uri": "https://localhost:8080/"
        },
        "outputId": "68705d2b-0164-4ee1-c707-07939a9ee607"
      },
      "execution_count": null,
      "outputs": [
        {
          "output_type": "execute_result",
          "data": {
            "text/plain": [
              "0     astronomy literally mean science study law sta...\n",
              "1     white dwarf also call degenerate dwarf stellar...\n",
              "2     chimpanzee great ape find across central west ...\n",
              "3     top four crypto exchange india buy two poker c...\n",
              "4     india recently introduce crypto tax budget two...\n",
              "5     crypto one big pond change mind doubt sell wis...\n",
              "6     token next word pawnshop lieu small change nex...\n",
              "7     run cryptocurrency price last december also di...\n",
              "8     todo extinct flightless bird endemic island vi...\n",
              "9     dolphin small toothed cetacean easily recogniz...\n",
              "10    elephant large land mammal earth distinctly ma...\n",
              "11    bank fix deposit government small saving schem...\n",
              "12    grief list green financial professional compat...\n",
              "13    jeffrey howard archer baron archer weston supe...\n",
              "14    mammoth member extinct group elephant mammoth ...\n",
              "15    hari murakami bear january twelfth nineteen fo...\n",
              "16    name metro safe microphones markedly instrumen...\n",
              "17    paulo cello bear august twenty fourth nineteen...\n",
              "18    penguin group aquatic flightless bird live alm...\n",
              "19    animal farm satirical allegorical novella geor...\n",
              "20    william shakespeare english playwright poet ac...\n",
              "21    snow bunt medium sized full bodied songid smal...\n",
              "22    supernova big explosion human ever see blast e...\n",
              "23    nineteen ground vaccine prize bayern clinical ...\n",
              "24    whale widely distribute diverse group fully aq...\n",
              "Name: Preprocessed, dtype: object"
            ]
          },
          "metadata": {},
          "execution_count": 29
        }
      ]
    },
    {
      "cell_type": "code",
      "source": [
        "dataset.head(8)"
      ],
      "metadata": {
        "id": "qf7T6y4Fkvyd",
        "colab": {
          "base_uri": "https://localhost:8080/",
          "height": 300
        },
        "outputId": "2dbbea91-68c8-4848-a76b-7bd597ba5d66"
      },
      "execution_count": null,
      "outputs": [
        {
          "output_type": "execute_result",
          "data": {
            "text/html": [
              "\n",
              "  <div id=\"df-ebc806ba-4e41-4a63-9734-0a51c0e2c972\">\n",
              "    <div class=\"colab-df-container\">\n",
              "      <div>\n",
              "<style scoped>\n",
              "    .dataframe tbody tr th:only-of-type {\n",
              "        vertical-align: middle;\n",
              "    }\n",
              "\n",
              "    .dataframe tbody tr th {\n",
              "        vertical-align: top;\n",
              "    }\n",
              "\n",
              "    .dataframe thead th {\n",
              "        text-align: right;\n",
              "    }\n",
              "</style>\n",
              "<table border=\"1\" class=\"dataframe\">\n",
              "  <thead>\n",
              "    <tr style=\"text-align: right;\">\n",
              "      <th></th>\n",
              "      <th>title</th>\n",
              "      <th>transcript</th>\n",
              "      <th>Preprocessed</th>\n",
              "    </tr>\n",
              "  </thead>\n",
              "  <tbody>\n",
              "    <tr>\n",
              "      <th>0</th>\n",
              "      <td>astronomy</td>\n",
              "      <td>astronomy literally meaning the science that s...</td>\n",
              "      <td>astronomy literally mean science study law sta...</td>\n",
              "    </tr>\n",
              "    <tr>\n",
              "      <th>1</th>\n",
              "      <td>white dwarf</td>\n",
              "      <td>a white dwarf also called a degenerate dwarf i...</td>\n",
              "      <td>white dwarf also call degenerate dwarf stellar...</td>\n",
              "    </tr>\n",
              "    <tr>\n",
              "      <th>2</th>\n",
              "      <td>chimp</td>\n",
              "      <td>chimpanzees are great apes found across centra...</td>\n",
              "      <td>chimpanzee great ape find across central west ...</td>\n",
              "    </tr>\n",
              "    <tr>\n",
              "      <th>3</th>\n",
              "      <td>crypto</td>\n",
              "      <td>what are the top four crypto exchanges india w...</td>\n",
              "      <td>top four crypto exchange india buy two poker c...</td>\n",
              "    </tr>\n",
              "    <tr>\n",
              "      <th>4</th>\n",
              "      <td>crypto_tax</td>\n",
              "      <td>india recently introduced crypto tax in the bu...</td>\n",
              "      <td>india recently introduce crypto tax budget two...</td>\n",
              "    </tr>\n",
              "    <tr>\n",
              "      <th>5</th>\n",
              "      <td>crypto_means</td>\n",
              "      <td>crypto is just one big ponzi and can change my...</td>\n",
              "      <td>crypto one big pond change mind doubt sell wis...</td>\n",
              "    </tr>\n",
              "    <tr>\n",
              "      <th>6</th>\n",
              "      <td>digital_token</td>\n",
              "      <td>token from your next the word pawnshop in lieu...</td>\n",
              "      <td>token next word pawnshop lieu small change nex...</td>\n",
              "    </tr>\n",
              "    <tr>\n",
              "      <th>7</th>\n",
              "      <td>cryptocurrency</td>\n",
              "      <td>a run up in cryptocurrency prices last decembe...</td>\n",
              "      <td>run cryptocurrency price last december also di...</td>\n",
              "    </tr>\n",
              "  </tbody>\n",
              "</table>\n",
              "</div>\n",
              "      <button class=\"colab-df-convert\" onclick=\"convertToInteractive('df-ebc806ba-4e41-4a63-9734-0a51c0e2c972')\"\n",
              "              title=\"Convert this dataframe to an interactive table.\"\n",
              "              style=\"display:none;\">\n",
              "        \n",
              "  <svg xmlns=\"http://www.w3.org/2000/svg\" height=\"24px\"viewBox=\"0 0 24 24\"\n",
              "       width=\"24px\">\n",
              "    <path d=\"M0 0h24v24H0V0z\" fill=\"none\"/>\n",
              "    <path d=\"M18.56 5.44l.94 2.06.94-2.06 2.06-.94-2.06-.94-.94-2.06-.94 2.06-2.06.94zm-11 1L8.5 8.5l.94-2.06 2.06-.94-2.06-.94L8.5 2.5l-.94 2.06-2.06.94zm10 10l.94 2.06.94-2.06 2.06-.94-2.06-.94-.94-2.06-.94 2.06-2.06.94z\"/><path d=\"M17.41 7.96l-1.37-1.37c-.4-.4-.92-.59-1.43-.59-.52 0-1.04.2-1.43.59L10.3 9.45l-7.72 7.72c-.78.78-.78 2.05 0 2.83L4 21.41c.39.39.9.59 1.41.59.51 0 1.02-.2 1.41-.59l7.78-7.78 2.81-2.81c.8-.78.8-2.07 0-2.86zM5.41 20L4 18.59l7.72-7.72 1.47 1.35L5.41 20z\"/>\n",
              "  </svg>\n",
              "      </button>\n",
              "      \n",
              "  <style>\n",
              "    .colab-df-container {\n",
              "      display:flex;\n",
              "      flex-wrap:wrap;\n",
              "      gap: 12px;\n",
              "    }\n",
              "\n",
              "    .colab-df-convert {\n",
              "      background-color: #E8F0FE;\n",
              "      border: none;\n",
              "      border-radius: 50%;\n",
              "      cursor: pointer;\n",
              "      display: none;\n",
              "      fill: #1967D2;\n",
              "      height: 32px;\n",
              "      padding: 0 0 0 0;\n",
              "      width: 32px;\n",
              "    }\n",
              "\n",
              "    .colab-df-convert:hover {\n",
              "      background-color: #E2EBFA;\n",
              "      box-shadow: 0px 1px 2px rgba(60, 64, 67, 0.3), 0px 1px 3px 1px rgba(60, 64, 67, 0.15);\n",
              "      fill: #174EA6;\n",
              "    }\n",
              "\n",
              "    [theme=dark] .colab-df-convert {\n",
              "      background-color: #3B4455;\n",
              "      fill: #D2E3FC;\n",
              "    }\n",
              "\n",
              "    [theme=dark] .colab-df-convert:hover {\n",
              "      background-color: #434B5C;\n",
              "      box-shadow: 0px 1px 3px 1px rgba(0, 0, 0, 0.15);\n",
              "      filter: drop-shadow(0px 1px 2px rgba(0, 0, 0, 0.3));\n",
              "      fill: #FFFFFF;\n",
              "    }\n",
              "  </style>\n",
              "\n",
              "      <script>\n",
              "        const buttonEl =\n",
              "          document.querySelector('#df-ebc806ba-4e41-4a63-9734-0a51c0e2c972 button.colab-df-convert');\n",
              "        buttonEl.style.display =\n",
              "          google.colab.kernel.accessAllowed ? 'block' : 'none';\n",
              "\n",
              "        async function convertToInteractive(key) {\n",
              "          const element = document.querySelector('#df-ebc806ba-4e41-4a63-9734-0a51c0e2c972');\n",
              "          const dataTable =\n",
              "            await google.colab.kernel.invokeFunction('convertToInteractive',\n",
              "                                                     [key], {});\n",
              "          if (!dataTable) return;\n",
              "\n",
              "          const docLinkHtml = 'Like what you see? Visit the ' +\n",
              "            '<a target=\"_blank\" href=https://colab.research.google.com/notebooks/data_table.ipynb>data table notebook</a>'\n",
              "            + ' to learn more about interactive tables.';\n",
              "          element.innerHTML = '';\n",
              "          dataTable['output_type'] = 'display_data';\n",
              "          await google.colab.output.renderOutput(dataTable, element);\n",
              "          const docLink = document.createElement('div');\n",
              "          docLink.innerHTML = docLinkHtml;\n",
              "          element.appendChild(docLink);\n",
              "        }\n",
              "      </script>\n",
              "    </div>\n",
              "  </div>\n",
              "  "
            ],
            "text/plain": [
              "            title                                         transcript  \\\n",
              "0       astronomy  astronomy literally meaning the science that s...   \n",
              "1     white dwarf  a white dwarf also called a degenerate dwarf i...   \n",
              "2           chimp  chimpanzees are great apes found across centra...   \n",
              "3          crypto  what are the top four crypto exchanges india w...   \n",
              "4      crypto_tax  india recently introduced crypto tax in the bu...   \n",
              "5    crypto_means  crypto is just one big ponzi and can change my...   \n",
              "6   digital_token  token from your next the word pawnshop in lieu...   \n",
              "7  cryptocurrency  a run up in cryptocurrency prices last decembe...   \n",
              "\n",
              "                                        Preprocessed  \n",
              "0  astronomy literally mean science study law sta...  \n",
              "1  white dwarf also call degenerate dwarf stellar...  \n",
              "2  chimpanzee great ape find across central west ...  \n",
              "3  top four crypto exchange india buy two poker c...  \n",
              "4  india recently introduce crypto tax budget two...  \n",
              "5  crypto one big pond change mind doubt sell wis...  \n",
              "6  token next word pawnshop lieu small change nex...  \n",
              "7  run cryptocurrency price last december also di...  "
            ]
          },
          "metadata": {},
          "execution_count": 30
        }
      ]
    },
    {
      "cell_type": "code",
      "source": [
        "dataset.to_csv(\"preprocessed_dataset.csv\", index=False)"
      ],
      "metadata": {
        "id": "neY11FZJoOYI"
      },
      "execution_count": null,
      "outputs": []
    }
  ]
}