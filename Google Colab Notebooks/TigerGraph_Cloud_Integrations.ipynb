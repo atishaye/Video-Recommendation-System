{
  "nbformat": 4,
  "nbformat_minor": 0,
  "metadata": {
    "colab": {
      "name": "TigerGraph: Cloud Integrations",
      "provenance": [],
      "collapsed_sections": [],
      "toc_visible": true
    },
    "kernelspec": {
      "name": "python3",
      "display_name": "Python 3"
    },
    "language_info": {
      "name": "python"
    }
  },
  "cells": [
    {
      "cell_type": "markdown",
      "source": [
        "# 1.Setting up TigerGraph Cloud"
      ],
      "metadata": {
        "id": "H8xZ2m-lY5aP"
      }
    },
    {
      "cell_type": "code",
      "execution_count": null,
      "metadata": {
        "id": "2y8rmM8Tr7-B",
        "colab": {
          "base_uri": "https://localhost:8080/"
        },
        "outputId": "172a6502-fdf0-42f9-d8e6-2bbe0a08bda8"
      },
      "outputs": [
        {
          "output_type": "stream",
          "name": "stdout",
          "text": [
            "Collecting pyTigerGraph\n",
            "  Downloading pyTigerGraph-0.0.9.9.2-py3-none-any.whl (22 kB)\n",
            "Requirement already satisfied: pandas in /usr/local/lib/python3.7/dist-packages (from pyTigerGraph) (1.3.5)\n",
            "Collecting pyTigerDriver\n",
            "  Downloading pyTigerDriver-1.0.14-py3-none-any.whl (8.7 kB)\n",
            "Collecting validators\n",
            "  Downloading validators-0.18.2-py3-none-any.whl (19 kB)\n",
            "Requirement already satisfied: requests in /usr/local/lib/python3.7/dist-packages (from pyTigerGraph) (2.23.0)\n",
            "Requirement already satisfied: pytz>=2017.3 in /usr/local/lib/python3.7/dist-packages (from pandas->pyTigerGraph) (2018.9)\n",
            "Requirement already satisfied: numpy>=1.17.3 in /usr/local/lib/python3.7/dist-packages (from pandas->pyTigerGraph) (1.21.5)\n",
            "Requirement already satisfied: python-dateutil>=2.7.3 in /usr/local/lib/python3.7/dist-packages (from pandas->pyTigerGraph) (2.8.2)\n",
            "Requirement already satisfied: six>=1.5 in /usr/local/lib/python3.7/dist-packages (from python-dateutil>=2.7.3->pandas->pyTigerGraph) (1.15.0)\n",
            "Requirement already satisfied: urllib3!=1.25.0,!=1.25.1,<1.26,>=1.21.1 in /usr/local/lib/python3.7/dist-packages (from requests->pyTigerGraph) (1.24.3)\n",
            "Requirement already satisfied: chardet<4,>=3.0.2 in /usr/local/lib/python3.7/dist-packages (from requests->pyTigerGraph) (3.0.4)\n",
            "Requirement already satisfied: certifi>=2017.4.17 in /usr/local/lib/python3.7/dist-packages (from requests->pyTigerGraph) (2021.10.8)\n",
            "Requirement already satisfied: idna<3,>=2.5 in /usr/local/lib/python3.7/dist-packages (from requests->pyTigerGraph) (2.10)\n",
            "Requirement already satisfied: decorator>=3.4.0 in /usr/local/lib/python3.7/dist-packages (from validators->pyTigerGraph) (4.4.2)\n",
            "Installing collected packages: validators, pyTigerDriver, pyTigerGraph\n",
            "Successfully installed pyTigerDriver-1.0.14 pyTigerGraph-0.0.9.9.2 validators-0.18.2\n"
          ]
        }
      ],
      "source": [
        "# Setup\n",
        "!pip install -U pyTigerGraph\n",
        "def pprint(string):\n",
        "  print(json.dumps(string, indent=2))"
      ]
    },
    {
      "cell_type": "code",
      "source": [
        "import pandas as pd\n",
        "import json"
      ],
      "metadata": {
        "id": "CNUxiFon4H1n"
      },
      "execution_count": null,
      "outputs": []
    },
    {
      "cell_type": "markdown",
      "source": [
        "# 2.Connecting to TG Cloud"
      ],
      "metadata": {
        "id": "5-SMrGfh3cOt"
      }
    },
    {
      "cell_type": "code",
      "source": [
        "import pyTigerGraph as tg \n",
        "\n",
        "TG_SUBDOMAIN = 'tigergraph' \n",
        "TG_HOST = \"https://\" + TG_SUBDOMAIN + \".i.tgcloud.io\" # GraphStudio Link\n",
        "\n",
        "TG_USERNAME = \"tigergraph\"\n",
        "TG_PASSWORD = \"tigergraph\"\n",
        "TG_GRAPHNAME = \"Demo\"\n",
        "\n",
        "conn = tg.TigerGraphConnection(host=TG_HOST, graphname=TG_GRAPHNAME, username=TG_USERNAME, password=TG_PASSWORD)\n",
        "conn.apiToken = conn.getToken(conn.createSecret())\n",
        "\n",
        "conn.gsql('ls')"
      ],
      "metadata": {
        "colab": {
          "base_uri": "https://localhost:8080/",
          "height": 145
        },
        "id": "_iK6iAG421AV",
        "outputId": "4746ac6e-7c5f-4fc9-f7e8-dfd75bedeaa2"
      },
      "execution_count": null,
      "outputs": [
        {
          "output_type": "execute_result",
          "data": {
            "text/plain": [
              "'---- Graph Demo\\nVertex Types:\\n- VERTEX Video_Audio(PRIMARY_ID id INT, Title STRING, Youtube_Link STRING) WITH STATS=\"OUTDEGREE_BY_EDGETYPE\", PRIMARY_ID_AS_ATTRIBUTE=\"true\"\\n- VERTEX Transcript(PRIMARY_ID id INT, Preprocessed_Text SET<STRING>, Text STRING) WITH STATS=\"OUTDEGREE_BY_EDGETYPE\", PRIMARY_ID_AS_ATTRIBUTE=\"true\"\\n- VERTEX Sentiment(PRIMARY_ID id STRING, positive_sentiment FLOAT, negative_sentiment FLOAT, neutral_sentiment FLOAT, compound_sentiment FLOAT) WITH STATS=\"OUTDEGREE_BY_EDGETYPE\", PRIMARY_ID_AS_ATTRIBUTE=\"true\"\\n- VERTEX Keyword(PRIMARY_ID id STRING) WITH STATS=\"OUTDEGREE_BY_EDGETYPE\", PRIMARY_ID_AS_ATTRIBUTE=\"true\"\\n- VERTEX Topic(PRIMARY_ID id INT) WITH STATS=\"OUTDEGREE_BY_EDGETYPE\", PRIMARY_ID_AS_ATTRIBUTE=\"true\"\\nEdge Types:\\n- DIRECTED EDGE has_transcript(FROM Video_Audio, TO Transcript) WITH REVERSE_EDGE=\"reverse_has_transcript\"\\n- DIRECTED EDGE reverse_has_transcript(FROM Transcript, TO Video_Audio) WITH REVERSE_EDGE=\"has_transcript\"\\n- DIRECTED EDGE has_sentiment(FROM Video_Audio, TO Sentiment) WITH REVERSE_EDGE=\"reverse_has_sentiment\"\\n- DIRECTED EDGE reverse_has_sentiment(FROM Sentiment, TO Video_Audio) WITH REVERSE_EDGE=\"has_sentiment\"\\n- DIRECTED EDGE has_keyword(FROM Video_Audio, TO Keyword, start_timestamp_list LIST<STRING>) WITH REVERSE_EDGE=\"reverse_has_keyword\"\\n- DIRECTED EDGE reverse_has_keyword(FROM Keyword, TO Video_Audio, start_timestamp_list LIST<STRING>) WITH REVERSE_EDGE=\"has_keyword\"\\n- DIRECTED EDGE has_topic(FROM Video_Audio, TO Topic) WITH REVERSE_EDGE=\"reverse_has_topic\"\\n- DIRECTED EDGE reverse_has_topic(FROM Topic, TO Video_Audio) WITH REVERSE_EDGE=\"has_topic\"\\n- DIRECTED EDGE has_topic_keyword(FROM Topic, TO Keyword) WITH REVERSE_EDGE=\"reverse_has_topic_keyword\"\\n- DIRECTED EDGE reverse_has_topic_keyword(FROM Keyword, TO Topic) WITH REVERSE_EDGE=\"has_topic_keyword\"\\n\\nGraphs:\\n- Graph Demo(Video_Audio:v, Transcript:v, Sentiment:v, Keyword:v, Topic:v, has_transcript:e, reverse_has_transcript:e, has_sentiment:e, reverse_has_sentiment:e, has_keyword:e, reverse_has_keyword:e, has_topic:e, reverse_has_topic:e, has_topic_keyword:e, reverse_has_topic_keyword:e)\\nJobs:\\n- CREATE LOADING JOB load_job_sentiment_scores_csv_1646406339847 FOR GRAPH Demo {\\nDEFINE FILENAME MyDataSource;\\nLOAD MyDataSource TO VERTEX Sentiment VALUES($0, $3, $4, $5, $6) USING SEPARATOR=\",\", HEADER=\"true\", EOL=\"\\\\n\";\\nLOAD MyDataSource TO EDGE has_sentiment VALUES($0, $0) USING SEPARATOR=\",\", HEADER=\"true\", EOL=\"\\\\n\";\\n}\\n\\n- CREATE LOADING JOB load_topics_keywords FOR GRAPH Demo {\\nDEFINE FILENAME MyDataSource;\\nLOAD MyDataSource TO TEMP_TABLE t1(dominant_topic_id, keywords) VALUES($0, FLATTEN ($1, \", \", 1)) USING SEPARATOR=\"\\t\", HEADER=\"true\", EOL=\"\\n\";\\n}\\n\\n- CREATE LOADING JOB load_topics_keyword FOR GRAPH Demo {\\nDEFINE FILENAME MyDataSource;\\nLOAD MyDataSource TO TEMP_TABLE t1(dominant_topic_id, keywords) VALUES($0, FLATTEN ($1, \", \", 1)) USING SEPARATOR=\"\\t\", HEADER=\"true\", EOL=\"\\n\";\\n}\\n\\n- CREATE LOADING JOB load_topic_keywords FOR GRAPH Demo {\\nDEFINE FILENAME MyDataSource;\\nLOAD MyDataSource TO TEMP_TABLE t1(dominant_topic_id, keywords) VALUES($0, FLATTEN ($1, \", \", 1)) USING SEPARATOR=\"\\t\", HEADER=\"true\", EOL=\"\\n\";\\n}\\n\\n- CREATE LOADING JOB load_keywords FOR GRAPH Demo {\\nDEFINE FILENAME MyDataSource;\\nLOAD MyDataSource TO TEMP_TABLE t1(dominant_topic_id, keywords) VALUES($0, FLATTEN ($1, \", \", 1)) USING SEPARATOR=\",\", HEADER=\"true\", EOL=\"\\n\";\\n}\\n\\n- CREATE LOADING JOB load_topics FOR GRAPH Demo {\\nDEFINE FILENAME MyDataSource;\\nLOAD MyDataSource TO TEMP_TABLE t1(dominant_topic_id, keywords) VALUES($0, FLATTEN ($1, \", \", 1)) USING SEPARATOR=\",\", HEADER=\"true\", EOL=\"\\\\n\", QUOTE=\"double\";\\n}\\n\\n- CREATE LOADING JOB load_keyword_with_timestamps FOR GRAPH Demo {\\nDEFINE FILENAME MyDataSource;\\nLOAD MyDataSource TO VERTEX Keyword VALUES($0) USING SEPARATOR=\",\", HEADER=\"true\", EOL=\"\\\\n\";\\nLOAD MyDataSource TO EDGE has_keyword VALUES($0, $1, SPLIT($2, \"|\")) USING SEPARATOR=\",\", HEADER=\"true\", EOL=\"\\\\n\";\\n}\\n\\n- CREATE LOADING JOB load_keywords_with_timestamps FOR GRAPH Demo {\\nDEFINE FILENAME MyDataSource;\\nLOAD MyDataSource TO VERTEX Keyword VALUES($0) USING SEPARATOR=\",\", HEADER=\"true\", EOL=\"\\\\n\";\\nLOAD MyDataSource TO EDGE has_keyword VALUES($0, SPLIT($2, \"|\"), $1) USING SEPARATOR=\",\", HEADER=\"true\", EOL=\"\\\\n\";\\n}\\n\\n- CREATE LOADING JOB load_keyword_with_timestampss FOR GRAPH Demo {\\nDEFINE FILENAME MyDataSource;\\nLOAD MyDataSource TO VERTEX Keyword VALUES($0) USING SEPARATOR=\",\", HEADER=\"true\", EOL=\"\\\\n\";\\nLOAD MyDataSource TO EDGE has_keyword VALUES(SPLIT($2, \"|\"), $0, $1) USING SEPARATOR=\",\", HEADER=\"true\", EOL=\"\\\\n\";\\n}\\n\\n- CREATE LOADING JOB load_keyword_with_timestampsss FOR GRAPH Demo {\\nDEFINE FILENAME MyDataSource;\\nLOAD MyDataSource TO VERTEX Keyword VALUES($0) USING SEPARATOR=\",\", HEADER=\"true\", EOL=\"\\\\n\";\\nLOAD MyDataSource TO EDGE has_keyword VALUES($0, $1, SPLIT($2, \"|\")) USING SEPARATOR=\",\", HEADER=\"true\", EOL=\"\\\\n\";\\n}\\n\\n- CREATE LOADING JOB load_keyword_withh_timestampsss FOR GRAPH Demo {\\nDEFINE FILENAME MyDataSource;\\nLOAD MyDataSource TO VERTEX Keyword VALUES($1) USING SEPARATOR=\",\", HEADER=\"true\", EOL=\"\\\\n\";\\nLOAD MyDataSource TO EDGE has_keyword VALUES($1, $2, SPLIT($3, \"|\")) USING SEPARATOR=\",\", HEADER=\"true\", EOL=\"\\\\n\";\\n}\\n\\n- CREATE LOADING JOB load_job_topic_vertex_data_csv_1646653999900 FOR GRAPH Demo {\\nDEFINE FILENAME MyDataSource;\\nLOAD MyDataSource TO VERTEX Topic VALUES($1) USING SEPARATOR=\",\", HEADER=\"true\", EOL=\"\\\\n\";\\nLOAD MyDataSource TO EDGE has_topic VALUES($0, $1) USING SEPARATOR=\",\", HEADER=\"true\", EOL=\"\\\\n\";\\n}\\n\\n- CREATE LOADING JOB load_job_id_with_title_csv_1648225842787 FOR GRAPH Demo {\\nDEFINE FILENAME MyDataSource;\\nLOAD MyDataSource TO VERTEX Video_Audio VALUES($0, $1, $2) USING SEPARATOR=\",\", HEADER=\"true\", EOL=\"\\\\n\";\\n}\\n\\n- CREATE LOADING JOB load_flattened_topic_keywords FOR GRAPH Demo {\\nDEFINE FILENAME f;\\nLOAD f TO TEMP_TABLE t1(dominant_topic, topic_keywords) VALUES($1, FLATTEN ($2, \"|\", 1)) USING SEPARATOR=\",\", HEADER=\"true\", EOL=\"\\\\n\", QUOTE=\"double\";\\nLOAD TEMP_TABLE t1 TO VERTEX Keyword VALUES($\"topic_keywords\");\\nLOAD TEMP_TABLE t1 TO EDGE has_topic_keyword VALUES($\"dominant_topic\", $\"topic_keywords\");\\n}\\n\\n- CREATE LOADING JOB l1 FOR GRAPH Demo {\\nDEFINE FILENAME MyDataSource;\\nLOAD MyDataSource TO VERTEX Keyword VALUES($0) USING SEPARATOR=\",\", HEADER=\"true\", EOL=\"\\\\n\";\\nLOAD MyDataSource TO EDGE has_keyword VALUES($0, $1, SPLIT($2, \"|\")) USING SEPARATOR=\",\", HEADER=\"true\", EOL=\"\\\\n\";\\n}\\n\\n- CREATE SCHEMA_CHANGE JOB local_schema_change_1556862438 {\\nDROP VERTEX Topic;\\nDROP VERTEX Topic_keyword;\\nDROP EDGE has_topic;\\nDROP EDGE reverse_has_topic;\\nDROP EDGE has_topic_keywords;\\nDROP EDGE reverse_has_topic_keywords;\\n}\\n\\n- CREATE SCHEMA_CHANGE JOB local_schema_change_1749263334 {\\nADD VERTEX Topic(PRIMARY_ID id INT) WITH STATS=\"OUTDEGREE_BY_EDGETYPE\", PRIMARY_ID_AS_ATTRIBUTE=\"true\";\\nADD DIRECTED EDGE has_topic(FROM Video_Audio, TO Topic) WITH REVERSE_EDGE=\"reverse_has_topic\";\\nADD DIRECTED EDGE has_topic_keyword(FROM Topic, TO Keyword) WITH REVERSE_EDGE=\"reverse_has_topic_keyword\";\\n}\\n\\n- CREATE SCHEMA_CHANGE JOB local_schema_change_1687330110 {\\nALTER VERTEX Video_Audio ADD ATTRIBUTE (Youtube_Link STRING);\\n}\\n\\n- CREATE SCHEMA_CHANGE JOB local_schema_change_1800193534 {\\nALTER VERTEX Transcript DROP ATTRIBUTE (Preprocessed_Text);\\n}\\n\\n- CREATE SCHEMA_CHANGE JOB local_schema_change_722177241 {\\nALTER VERTEX Transcript ADD ATTRIBUTE (Preprocessed_Text LIST<STRING>);\\n}\\n\\n- CREATE SCHEMA_CHANGE JOB local_schema_change_1179896719 {\\nALTER VERTEX Transcript ADD ATTRIBUTE (Preprocessed_Text SET<STRING>);\\n}\\n\\n- CREATE SCHEMA_CHANGE JOB local_schema_change_1783913079 {\\nALTER VERTEX Transcript ADD ATTRIBUTE (Preprocessed_Text STRING);\\n}\\n\\n- CREATE SCHEMA_CHANGE JOB local_schema_change_262606559 {\\nALTER VERTEX Transcript ADD ATTRIBUTE (Text STRING);\\n}\\n\\nQueries:\\n- Common_Keywords(vertex<Video_Audio> vid) (installed v2)\\n- Keyword_Sentiment_2(set<vertex<Keyword>> k) (installed v2)\\n- Keyword_to_VideoID(vertex<Keyword> k) (installed v2)\\n- Unique_Keywords(vertex<Video_Audio> vid) (installed v2)\\n- all_keywords_with_timestamp() (installed v2)\\n- delete_all() (installed v2)\\n- get_num_words(vertex<Video_Audio> vid) (installed v2)\\n- get_recommendation(vertex<Video_Audio> v_id) (installed v2)\\n- get_transcripts(vertex<Video_Audio> vid) (installed v2)\\n- get_video_length(vertex<Video_Audio> vid) (installed v2)\\n- keyword_recommendation(vertex<Video_Audio> v_id) (installed v2)\\n- similarity(set<string> A, set<string> B) RETURNS (float) (installed v2)\\n- topic_keywords_from_Video_Audio(vertex<Video_Audio> vid) (installed v2)\\n- video_to_topic(vertex<Video_Audio> vid) (installed v2)\\n\\n\\n\\n'"
            ],
            "application/vnd.google.colaboratory.intrinsic+json": {
              "type": "string"
            }
          },
          "metadata": {},
          "execution_count": 4
        }
      ]
    },
    {
      "cell_type": "code",
      "source": [
        "df=pd.read_csv('/content/topics.csv')\n",
        "df\n",
        "df.columns=['video_id','dominant_topic','topic_keywords']\n",
        "df.to_csv('topics.csv',index=False)\n",
        "df"
      ],
      "metadata": {
        "id": "uDF0YWYtv7QO"
      },
      "execution_count": null,
      "outputs": []
    },
    {
      "cell_type": "markdown",
      "source": [
        "# 3.Flattening Syntax"
      ],
      "metadata": {
        "id": "KrOgUY1Hveb9"
      }
    },
    {
      "cell_type": "markdown",
      "source": [
        "### 3.1 Drop Flatten Query"
      ],
      "metadata": {
        "id": "Q1ziZ7TLkBK9"
      }
    },
    {
      "cell_type": "code",
      "source": [
        "res = conn.gsql('''\n",
        "    USE GRAPH Demo\n",
        "    BEGIN\n",
        "    DROP JOB load_flattened_topic_keywords\n",
        "    END\n",
        "    ''')\n",
        "print(res)"
      ],
      "metadata": {
        "id": "YdslQlWUkFF-"
      },
      "execution_count": null,
      "outputs": []
    },
    {
      "cell_type": "markdown",
      "source": [
        "### 3.2 Flatten Query"
      ],
      "metadata": {
        "id": "5JM48Oh5j_Pz"
      }
    },
    {
      "cell_type": "code",
      "source": [
        "#TO VERTEX Topic VALUES ($0, _),\n",
        "#TO VERTEX Topic VALUES ($0, $1, _),\n",
        "res = conn.gsql('''\n",
        "    USE GRAPH Demo\n",
        "    BEGIN\n",
        "    CREATE LOADING JOB load_flattened_topic_keywords FOR GRAPH Demo {\n",
        "    DEFINE FILENAME f;\n",
        "    LOAD f\n",
        "    TO TEMP_TABLE t1(dominant_topic,topic_keywords) VALUES ($1, flatten($2,\"|\",1)) USING QUOTE=\"double\", SEPARATOR=\",\", HEADER=\"true\", EOL=\"\\\\n\";\n",
        "\n",
        "    LOAD TEMP_TABLE t1\n",
        "        TO VERTEX Keyword VALUES($\"topic_keywords\"),\n",
        "        TO EDGE has_topic_keyword VALUES($\"dominant_topic\", $\"topic_keywords\");\n",
        "    }\n",
        "    END\n",
        "    ''')\n",
        "print(res)"
      ],
      "metadata": {
        "id": "urVFuQ5lThEK"
      },
      "execution_count": null,
      "outputs": []
    },
    {
      "cell_type": "markdown",
      "source": [
        "### 3.3 Run Flatten Query"
      ],
      "metadata": {
        "id": "HfgxbhsnnS8K"
      }
    },
    {
      "cell_type": "code",
      "source": [
        "# Load the topic_keywords_file with the 'load_topic_keywords' job\n",
        "topic_keywords_file = '/content/topics.csv'\n",
        "results = conn.uploadFile(topic_keywords_file, fileTag=\"f\", jobName=\"load_flattened_topic_keywords\")\n",
        "print(json.dumps(results, indent=2))"
      ],
      "metadata": {
        "id": "cXH1rPpZ41fu"
      },
      "execution_count": null,
      "outputs": []
    },
    {
      "cell_type": "markdown",
      "source": [
        "# 4.Loading job for timestamp_list for a keyword"
      ],
      "metadata": {
        "id": "xwQdVXdcKdeA"
      }
    },
    {
      "cell_type": "code",
      "source": [
        "import pandas as pd\n",
        "df=pd.read_csv('/content/keywords_with_timestamps.csv')\n",
        "df"
      ],
      "metadata": {
        "id": "aLuEA181JzMJ"
      },
      "execution_count": null,
      "outputs": []
    },
    {
      "cell_type": "markdown",
      "source": [
        "### 4.1 Drop timestamp_list query"
      ],
      "metadata": {
        "id": "WvMZ1Nueajjw"
      }
    },
    {
      "cell_type": "code",
      "source": [
        "res = conn.gsql('''\n",
        "    USE GRAPH Demo\n",
        "    BEGIN\n",
        "    DROP JOB l1\n",
        "    END\n",
        "    ''')\n",
        "print(res)"
      ],
      "metadata": {
        "id": "0OGh-BqOajjx"
      },
      "execution_count": null,
      "outputs": []
    },
    {
      "cell_type": "markdown",
      "source": [
        "### 4.2 Run timestamp_list query"
      ],
      "metadata": {
        "id": "D799nsLKakit"
      }
    },
    {
      "cell_type": "code",
      "source": [
        "results = conn.gsql('''\n",
        "  USE GRAPH Demo\n",
        "  BEGIN\n",
        "  CREATE LOADING JOB l1 FOR GRAPH Demo {\n",
        "  DEFINE FILENAME MyDataSource;\n",
        "  LOAD MyDataSource TO VERTEX Keyword VALUES($0) USING SEPARATOR=\",\", HEADER=\"true\", EOL=\"\\\\n\";\n",
        "  LOAD MyDataSource TO EDGE has_keyword VALUES($0, $1, SPLIT($2,\"|\")) USING SEPARATOR=\",\", HEADER=\"true\", EOL=\"\\\\n\";\n",
        "  }\n",
        "  END\n",
        "  ''')\n",
        "print(results)"
      ],
      "metadata": {
        "id": "cpvq0zokK4Qu"
      },
      "execution_count": null,
      "outputs": []
    },
    {
      "cell_type": "code",
      "source": [
        "# Load the posts file wiht the 'load_posts' job\n",
        "keyword_with_timestamps_file = '/content/keywords_with_timestamps.csv'\n",
        "results = conn.uploadFile(keyword_with_timestamps_file, fileTag='MyDataSource', jobName='l1')\n",
        "print(json.dumps(results, indent=2))"
      ],
      "metadata": {
        "id": "e4IYHALVLnIO"
      },
      "execution_count": null,
      "outputs": []
    },
    {
      "cell_type": "markdown",
      "source": [
        "# 5.Loading Transcript set"
      ],
      "metadata": {
        "id": "2lhBGNoGjfzo"
      }
    },
    {
      "cell_type": "code",
      "source": [
        "results = conn.gsql('''\n",
        "  USE GRAPH Demo\n",
        "  BEGIN\n",
        "  CREATE LOADING JOB load_transcript_set FOR GRAPH Demo {\n",
        "  DEFINE FILENAME MyDataSource;\n",
        "  LOAD MyDataSource TO VERTEX Transcript VALUES($0, SPLIT($2, \"|\"), $3) USING SEPARATOR=\",\", HEADER=\"true\", EOL=\"\\\\n\";\n",
        "  LOAD MyDataSource TO EDGE has_transcript VALUES($0, $0) USING SEPARATOR=\",\", HEADER=\"true\", EOL=\"\\\\n\";\n",
        "  }\n",
        "  END\n",
        "  ''')\n",
        "print(results)"
      ],
      "metadata": {
        "id": "TFEFarmNjfOk"
      },
      "execution_count": null,
      "outputs": []
    },
    {
      "cell_type": "code",
      "source": [
        "transcript_set = '/content/out.csv'\n",
        "results = conn.uploadFile(transcript_set, fileTag='MyDataSource', jobName='load_transcript_set')\n",
        "print(json.dumps(results, indent=2))"
      ],
      "metadata": {
        "id": "RgmQPRNQmo9u"
      },
      "execution_count": null,
      "outputs": []
    },
    {
      "cell_type": "markdown",
      "source": [
        "# 6.Exploring Graph "
      ],
      "metadata": {
        "id": "nJ-wlq_bowtK"
      }
    },
    {
      "cell_type": "code",
      "source": [
        "results = conn.getVertexTypes()\n",
        "print(f\"Verticies: {results}\")\n",
        "vertices = results\n",
        "\n",
        "results = conn.getEdgeTypes()\n",
        "print(f\"Edges: {results}\")\n",
        "edges = results"
      ],
      "metadata": {
        "id": "Y8X-t7Gwoy8K",
        "colab": {
          "base_uri": "https://localhost:8080/"
        },
        "outputId": "fdd2a6b7-0424-490c-8513-e9f1391ab590"
      },
      "execution_count": null,
      "outputs": [
        {
          "output_type": "stream",
          "name": "stdout",
          "text": [
            "Verticies: ['Video_Audio', 'Transcript', 'Sentiment', 'Keyword', 'Topic']\n",
            "Edges: ['has_transcript', 'has_sentiment', 'has_keyword', 'has_topic', 'has_topic_keyword']\n"
          ]
        }
      ]
    },
    {
      "cell_type": "code",
      "source": [
        "\n",
        "print(f\"Results for Keyword vertex\")\n",
        "pprint(conn.getVertexType(\"Keyword\"))\n",
        "\n",
        "print(\"-----------------\")\n",
        "print(f\"Results for has_keyword edge\")\n",
        "pprint(conn.getEdgeType(\"has_keyword\"))\n"
      ],
      "metadata": {
        "id": "rhWkoo0bpBy1",
        "colab": {
          "base_uri": "https://localhost:8080/"
        },
        "outputId": "c4c220bb-7d82-49b7-9522-8a83e7f5e397"
      },
      "execution_count": null,
      "outputs": [
        {
          "output_type": "stream",
          "name": "stdout",
          "text": [
            "Results for Keyword vertex\n",
            "{\n",
            "  \"Config\": {\n",
            "    \"TAGGABLE\": false,\n",
            "    \"STATS\": \"OUTDEGREE_BY_EDGETYPE\",\n",
            "    \"PRIMARY_ID_AS_ATTRIBUTE\": true\n",
            "  },\n",
            "  \"IsLocal\": true,\n",
            "  \"Attributes\": [],\n",
            "  \"PrimaryId\": {\n",
            "    \"AttributeType\": {\n",
            "      \"Name\": \"STRING\"\n",
            "    },\n",
            "    \"IsPartOfCompositeKey\": false,\n",
            "    \"PrimaryIdAsAttribute\": true,\n",
            "    \"AttributeName\": \"id\",\n",
            "    \"HasIndex\": false,\n",
            "    \"internalAttribute\": false,\n",
            "    \"IsPrimaryKey\": false\n",
            "  },\n",
            "  \"Name\": \"Keyword\"\n",
            "}\n",
            "-----------------\n",
            "Results for has_keyword edge\n",
            "{\n",
            "  \"IsDirected\": true,\n",
            "  \"ToVertexTypeName\": \"Keyword\",\n",
            "  \"Config\": {\n",
            "    \"REVERSE_EDGE\": \"reverse_has_keyword\"\n",
            "  },\n",
            "  \"IsLocal\": true,\n",
            "  \"Attributes\": [\n",
            "    {\n",
            "      \"AttributeType\": {\n",
            "        \"ValueTypeName\": \"STRING\",\n",
            "        \"Name\": \"LIST\"\n",
            "      },\n",
            "      \"IsPartOfCompositeKey\": false,\n",
            "      \"PrimaryIdAsAttribute\": false,\n",
            "      \"AttributeName\": \"start_timestamp_list\",\n",
            "      \"HasIndex\": false,\n",
            "      \"internalAttribute\": false,\n",
            "      \"IsPrimaryKey\": false\n",
            "    }\n",
            "  ],\n",
            "  \"FromVertexTypeName\": \"Video_Audio\",\n",
            "  \"Name\": \"has_keyword\"\n",
            "}\n"
          ]
        }
      ]
    },
    {
      "cell_type": "code",
      "source": [
        "print(\"-----------------\")\n",
        "print(f\"Results for has_keyword edge\")\n",
        "pprint(conn.getEdgeType(\"has_keyword\"))"
      ],
      "metadata": {
        "colab": {
          "base_uri": "https://localhost:8080/"
        },
        "id": "_CZLkNzw5cgJ",
        "outputId": "d2f967b3-a1dd-497c-8d33-a7da8161743a"
      },
      "execution_count": null,
      "outputs": [
        {
          "output_type": "stream",
          "name": "stdout",
          "text": [
            "-----------------\n",
            "Results for has_keyword edge\n",
            "{\n",
            "  \"IsDirected\": true,\n",
            "  \"ToVertexTypeName\": \"Keyword\",\n",
            "  \"Config\": {\n",
            "    \"REVERSE_EDGE\": \"reverse_has_keyword\"\n",
            "  },\n",
            "  \"IsLocal\": true,\n",
            "  \"Attributes\": [\n",
            "    {\n",
            "      \"AttributeType\": {\n",
            "        \"ValueTypeName\": \"STRING\",\n",
            "        \"Name\": \"LIST\"\n",
            "      },\n",
            "      \"IsPartOfCompositeKey\": false,\n",
            "      \"PrimaryIdAsAttribute\": false,\n",
            "      \"AttributeName\": \"start_timestamp_list\",\n",
            "      \"HasIndex\": false,\n",
            "      \"internalAttribute\": false,\n",
            "      \"IsPrimaryKey\": false\n",
            "    }\n",
            "  ],\n",
            "  \"FromVertexTypeName\": \"Video_Audio\",\n",
            "  \"Name\": \"has_keyword\"\n",
            "}\n"
          ]
        }
      ]
    },
    {
      "cell_type": "markdown",
      "source": [
        "### 6.1 Counting Data"
      ],
      "metadata": {
        "id": "L24sHH2spSrP"
      }
    },
    {
      "cell_type": "code",
      "source": [
        "print(\"Vertex Counts\")\n",
        "for vertex in vertices:\n",
        "  print(f\"There are {conn.getVertexCount(vertex)} {vertex} vertices in the graph\")\n",
        "\n",
        "print(\"--------------\")\n",
        "print(\"Edge Counts\")\n",
        "for edge in edges:\n",
        "  print(f\"There are {conn.getEdgeCount(edge)} {edge} edges in the graph\")"
      ],
      "metadata": {
        "id": "4ZgltlCMo1DT",
        "colab": {
          "base_uri": "https://localhost:8080/"
        },
        "outputId": "b06af6e2-5258-4071-ed8c-f8084aa9be6e"
      },
      "execution_count": null,
      "outputs": [
        {
          "output_type": "stream",
          "name": "stdout",
          "text": [
            "Vertex Counts\n",
            "There are 26 Video_Audio vertices in the graph\n",
            "There are 25 Transcript vertices in the graph\n",
            "There are 25 Sentiment vertices in the graph\n",
            "There are 708 Keyword vertices in the graph\n",
            "There are 14 Topic vertices in the graph\n",
            "--------------\n",
            "Edge Counts\n",
            "There are 25 has_transcript edges in the graph\n",
            "There are 25 has_sentiment edges in the graph\n",
            "There are 1941 has_keyword edges in the graph\n",
            "There are 25 has_topic edges in the graph\n",
            "There are 210 has_topic_keyword edges in the graph\n"
          ]
        }
      ]
    },
    {
      "cell_type": "markdown",
      "source": [
        "# 7.Data Retrieval"
      ],
      "metadata": {
        "id": "DLHdDBw9oTS3"
      }
    },
    {
      "cell_type": "markdown",
      "source": [
        "### 7.1 Getting a Vertex"
      ],
      "metadata": {
        "id": "jgb7ddVXp3ru"
      }
    },
    {
      "cell_type": "code",
      "source": [
        "results = conn.getVerticesById(\"Transcript\", \"1\")\n",
        "pprint(results)"
      ],
      "metadata": {
        "id": "cGNfp-xIMqdK"
      },
      "execution_count": null,
      "outputs": []
    },
    {
      "cell_type": "markdown",
      "source": [
        "### 7.2 Multiple Vertex"
      ],
      "metadata": {
        "id": "bLq3HXAKqBp9"
      }
    },
    {
      "cell_type": "code",
      "source": [
        "tdf1 = conn.getVerticesById(\"Video_Audio\", [\"4\",\"6\"])\n",
        "pprint(tdf1)"
      ],
      "metadata": {
        "id": "i1kbDvMJqDB0",
        "colab": {
          "base_uri": "https://localhost:8080/"
        },
        "outputId": "7398c7e0-5e59-481d-b2dc-e2b0bd6afc2b"
      },
      "execution_count": null,
      "outputs": [
        {
          "output_type": "stream",
          "name": "stdout",
          "text": [
            "[\n",
            "  {\n",
            "    \"v_id\": \"4\",\n",
            "    \"v_type\": \"Video_Audio\",\n",
            "    \"attributes\": {\n",
            "      \"id\": 4,\n",
            "      \"Title\": \"crypto_tax\",\n",
            "      \"Youtube_Link\": \"https://www.youtube.com/embed/674-2Iv82W8\"\n",
            "    }\n",
            "  },\n",
            "  {\n",
            "    \"v_id\": \"6\",\n",
            "    \"v_type\": \"Video_Audio\",\n",
            "    \"attributes\": {\n",
            "      \"id\": 6,\n",
            "      \"Title\": \"digital_token\",\n",
            "      \"Youtube_Link\": \"https://www.youtube.com/embed/lVrtPgymV7o\"\n",
            "    }\n",
            "  }\n",
            "]\n"
          ]
        }
      ]
    },
    {
      "cell_type": "markdown",
      "metadata": {
        "id": "vqJASpgJEg6-"
      },
      "source": [
        "### 7.3 Count Edges Connected to a Vertex"
      ]
    },
    {
      "cell_type": "code",
      "metadata": {
        "id": "t-wNtrkfEj3y",
        "colab": {
          "base_uri": "https://localhost:8080/"
        },
        "outputId": "cd9e4cac-4a58-41e6-c751-7086ce0b6c18"
      },
      "source": [
        "results = conn.getEdgeCountFrom(\"Topic\", \"10\")\n",
        "pprint(results)"
      ],
      "execution_count": null,
      "outputs": [
        {
          "output_type": "stream",
          "name": "stdout",
          "text": [
            "{\n",
            "  \"has_transcript\": 0,\n",
            "  \"reverse_has_transcript\": 0,\n",
            "  \"has_sentiment\": 0,\n",
            "  \"reverse_has_sentiment\": 0,\n",
            "  \"has_keyword\": 0,\n",
            "  \"reverse_has_keyword\": 0,\n",
            "  \"has_topic\": 0,\n",
            "  \"reverse_has_topic\": 6,\n",
            "  \"has_topic_keyword\": 15,\n",
            "  \"reverse_has_topic_keyword\": 0\n",
            "}\n"
          ]
        }
      ]
    },
    {
      "cell_type": "markdown",
      "metadata": {
        "id": "4g2KqQmpE1KJ"
      },
      "source": [
        "### 7.4 Show all Edges Connected to a Vertex"
      ]
    },
    {
      "cell_type": "code",
      "metadata": {
        "id": "OWVCDSvCE598",
        "colab": {
          "base_uri": "https://localhost:8080/"
        },
        "outputId": "bd31bc2b-d98e-4aa6-91f0-e3bc855a5dbe"
      },
      "source": [
        "results = conn.getEdges(\"Keyword\", \"elephant\")\n",
        "pprint(results)\n",
        "print(\"***** Total Edges for Video_Audio Vertex *******\",len(results))"
      ],
      "execution_count": null,
      "outputs": [
        {
          "output_type": "stream",
          "name": "stdout",
          "text": [
            "[\n",
            "  {\n",
            "    \"e_type\": \"reverse_has_keyword\",\n",
            "    \"directed\": true,\n",
            "    \"from_id\": \"elephant\",\n",
            "    \"from_type\": \"Keyword\",\n",
            "    \"to_id\": \"14\",\n",
            "    \"to_type\": \"Video_Audio\",\n",
            "    \"attributes\": {\n",
            "      \"start_timestamp_list\": [\n",
            "        \"104.37\"\n",
            "      ]\n",
            "    }\n",
            "  },\n",
            "  {\n",
            "    \"e_type\": \"reverse_has_keyword\",\n",
            "    \"directed\": true,\n",
            "    \"from_id\": \"elephant\",\n",
            "    \"from_type\": \"Keyword\",\n",
            "    \"to_id\": \"10\",\n",
            "    \"to_type\": \"Video_Audio\",\n",
            "    \"attributes\": {\n",
            "      \"start_timestamp_list\": [\n",
            "        \"29.01\",\n",
            "        \"34.35\",\n",
            "        \"53.73\",\n",
            "        \"55.14\",\n",
            "        \"61.05\",\n",
            "        \"62.37\",\n",
            "        \"65.04\",\n",
            "        \"66.9\",\n",
            "        \"149.52\"\n",
            "      ]\n",
            "    }\n",
            "  },\n",
            "  {\n",
            "    \"e_type\": \"reverse_has_topic_keyword\",\n",
            "    \"directed\": true,\n",
            "    \"from_id\": \"elephant\",\n",
            "    \"from_type\": \"Keyword\",\n",
            "    \"to_id\": \"14\",\n",
            "    \"to_type\": \"Topic\",\n",
            "    \"attributes\": {}\n",
            "  },\n",
            "  {\n",
            "    \"e_type\": \"reverse_has_topic_keyword\",\n",
            "    \"directed\": true,\n",
            "    \"from_id\": \"elephant\",\n",
            "    \"from_type\": \"Keyword\",\n",
            "    \"to_id\": \"10\",\n",
            "    \"to_type\": \"Topic\",\n",
            "    \"attributes\": {}\n",
            "  }\n",
            "]\n",
            "***** Total Edges for Video_Audio Vertex ******* 4\n"
          ]
        }
      ]
    },
    {
      "cell_type": "code",
      "source": [
        "results = conn.getEdges(\"Topic\", \"1\")\n",
        "pprint(results)\n",
        "print(\"***** Total Edges for Topic Vertex *******\",len(results))"
      ],
      "metadata": {
        "id": "d5V6KZsMueYV",
        "colab": {
          "base_uri": "https://localhost:8080/"
        },
        "outputId": "3cab0b51-3be9-4e99-86cb-70f46a2dce8e"
      },
      "execution_count": null,
      "outputs": [
        {
          "output_type": "stream",
          "name": "stdout",
          "text": [
            "[\n",
            "  {\n",
            "    \"e_type\": \"reverse_has_topic\",\n",
            "    \"directed\": true,\n",
            "    \"from_id\": \"1\",\n",
            "    \"from_type\": \"Topic\",\n",
            "    \"to_id\": \"16\",\n",
            "    \"to_type\": \"Video_Audio\",\n",
            "    \"attributes\": {}\n",
            "  },\n",
            "  {\n",
            "    \"e_type\": \"reverse_has_topic\",\n",
            "    \"directed\": true,\n",
            "    \"from_id\": \"1\",\n",
            "    \"from_type\": \"Topic\",\n",
            "    \"to_id\": \"11\",\n",
            "    \"to_type\": \"Video_Audio\",\n",
            "    \"attributes\": {}\n",
            "  },\n",
            "  {\n",
            "    \"e_type\": \"has_topic_keyword\",\n",
            "    \"directed\": true,\n",
            "    \"from_id\": \"1\",\n",
            "    \"from_type\": \"Topic\",\n",
            "    \"to_id\": \"mutual\",\n",
            "    \"to_type\": \"Keyword\",\n",
            "    \"attributes\": {}\n",
            "  },\n",
            "  {\n",
            "    \"e_type\": \"has_topic_keyword\",\n",
            "    \"directed\": true,\n",
            "    \"from_id\": \"1\",\n",
            "    \"from_type\": \"Topic\",\n",
            "    \"to_id\": \"long\",\n",
            "    \"to_type\": \"Keyword\",\n",
            "    \"attributes\": {}\n",
            "  },\n",
            "  {\n",
            "    \"e_type\": \"has_topic_keyword\",\n",
            "    \"directed\": true,\n",
            "    \"from_id\": \"1\",\n",
            "    \"from_type\": \"Topic\",\n",
            "    \"to_id\": \"small\",\n",
            "    \"to_type\": \"Keyword\",\n",
            "    \"attributes\": {}\n",
            "  },\n",
            "  {\n",
            "    \"e_type\": \"has_topic_keyword\",\n",
            "    \"directed\": true,\n",
            "    \"from_id\": \"1\",\n",
            "    \"from_type\": \"Topic\",\n",
            "    \"to_id\": \"income\",\n",
            "    \"to_type\": \"Keyword\",\n",
            "    \"attributes\": {}\n",
            "  },\n",
            "  {\n",
            "    \"e_type\": \"has_topic_keyword\",\n",
            "    \"directed\": true,\n",
            "    \"from_id\": \"1\",\n",
            "    \"from_type\": \"Topic\",\n",
            "    \"to_id\": \"risk\",\n",
            "    \"to_type\": \"Keyword\",\n",
            "    \"attributes\": {}\n",
            "  },\n",
            "  {\n",
            "    \"e_type\": \"has_topic_keyword\",\n",
            "    \"directed\": true,\n",
            "    \"from_id\": \"1\",\n",
            "    \"from_type\": \"Topic\",\n",
            "    \"to_id\": \"fix\",\n",
            "    \"to_type\": \"Keyword\",\n",
            "    \"attributes\": {}\n",
            "  },\n",
            "  {\n",
            "    \"e_type\": \"has_topic_keyword\",\n",
            "    \"directed\": true,\n",
            "    \"from_id\": \"1\",\n",
            "    \"from_type\": \"Topic\",\n",
            "    \"to_id\": \"year\",\n",
            "    \"to_type\": \"Keyword\",\n",
            "    \"attributes\": {}\n",
            "  },\n",
            "  {\n",
            "    \"e_type\": \"has_topic_keyword\",\n",
            "    \"directed\": true,\n",
            "    \"from_id\": \"1\",\n",
            "    \"from_type\": \"Topic\",\n",
            "    \"to_id\": \"asset\",\n",
            "    \"to_type\": \"Keyword\",\n",
            "    \"attributes\": {}\n",
            "  },\n",
            "  {\n",
            "    \"e_type\": \"has_topic_keyword\",\n",
            "    \"directed\": true,\n",
            "    \"from_id\": \"1\",\n",
            "    \"from_type\": \"Topic\",\n",
            "    \"to_id\": \"fund\",\n",
            "    \"to_type\": \"Keyword\",\n",
            "    \"attributes\": {}\n",
            "  },\n",
            "  {\n",
            "    \"e_type\": \"has_topic_keyword\",\n",
            "    \"directed\": true,\n",
            "    \"from_id\": \"1\",\n",
            "    \"from_type\": \"Topic\",\n",
            "    \"to_id\": \"invest\",\n",
            "    \"to_type\": \"Keyword\",\n",
            "    \"attributes\": {}\n",
            "  },\n",
            "  {\n",
            "    \"e_type\": \"has_topic_keyword\",\n",
            "    \"directed\": true,\n",
            "    \"from_id\": \"1\",\n",
            "    \"from_type\": \"Topic\",\n",
            "    \"to_id\": \"investor\",\n",
            "    \"to_type\": \"Keyword\",\n",
            "    \"attributes\": {}\n",
            "  },\n",
            "  {\n",
            "    \"e_type\": \"has_topic_keyword\",\n",
            "    \"directed\": true,\n",
            "    \"from_id\": \"1\",\n",
            "    \"from_type\": \"Topic\",\n",
            "    \"to_id\": \"investment\",\n",
            "    \"to_type\": \"Keyword\",\n",
            "    \"attributes\": {}\n",
            "  },\n",
            "  {\n",
            "    \"e_type\": \"has_topic_keyword\",\n",
            "    \"directed\": true,\n",
            "    \"from_id\": \"1\",\n",
            "    \"from_type\": \"Topic\",\n",
            "    \"to_id\": \"market\",\n",
            "    \"to_type\": \"Keyword\",\n",
            "    \"attributes\": {}\n",
            "  },\n",
            "  {\n",
            "    \"e_type\": \"has_topic_keyword\",\n",
            "    \"directed\": true,\n",
            "    \"from_id\": \"1\",\n",
            "    \"from_type\": \"Topic\",\n",
            "    \"to_id\": \"major\",\n",
            "    \"to_type\": \"Keyword\",\n",
            "    \"attributes\": {}\n",
            "  },\n",
            "  {\n",
            "    \"e_type\": \"has_topic_keyword\",\n",
            "    \"directed\": true,\n",
            "    \"from_id\": \"1\",\n",
            "    \"from_type\": \"Topic\",\n",
            "    \"to_id\": \"scheme\",\n",
            "    \"to_type\": \"Keyword\",\n",
            "    \"attributes\": {}\n",
            "  }\n",
            "]\n",
            "***** Total Edges for Topic Vertex ******* 17\n"
          ]
        }
      ]
    },
    {
      "cell_type": "markdown",
      "source": [
        "### 7.5 Convert Vertex/Edge Set to Dataframe"
      ],
      "metadata": {
        "id": "TL2Zpv9bPwcT"
      }
    },
    {
      "cell_type": "code",
      "source": [
        "df3 = conn.vertexSetToDataFrame(tdf1)\n",
        "print(df3)"
      ],
      "metadata": {
        "id": "a4Hb-h57Pqan",
        "colab": {
          "base_uri": "https://localhost:8080/"
        },
        "outputId": "0a365045-c8ee-4415-f876-be3c2ec2dfe5"
      },
      "execution_count": null,
      "outputs": [
        {
          "output_type": "stream",
          "name": "stdout",
          "text": [
            "  v_id  id          Title                               Youtube_Link\n",
            "0    4   4     crypto_tax  https://www.youtube.com/embed/674-2Iv82W8\n",
            "1    6   6  digital_token  https://www.youtube.com/embed/lVrtPgymV7o\n"
          ]
        }
      ]
    },
    {
      "cell_type": "markdown",
      "source": [
        "### 7.6 Get Edges"
      ],
      "metadata": {
        "id": "RIwDxSYrPyl2"
      }
    },
    {
      "cell_type": "code",
      "source": [
        "df4 = conn.getEdgesDataframe(\"Keyword\", \"crypto\")\n",
        "print(df4)\n",
        "df4.to_csv(\"Topic_3_Edges_Dataframe.csv\")"
      ],
      "metadata": {
        "id": "OXlJyo-LP1i0",
        "colab": {
          "base_uri": "https://localhost:8080/"
        },
        "outputId": "95cfaf2c-84d8-4803-cc11-5950e439eaa9"
      },
      "execution_count": null,
      "outputs": [
        {
          "output_type": "stream",
          "name": "stdout",
          "text": [
            "  from_type from_id      to_type to_id  \\\n",
            "0   Keyword  crypto  Video_Audio     4   \n",
            "1   Keyword  crypto  Video_Audio     3   \n",
            "2   Keyword  crypto  Video_Audio     7   \n",
            "3   Keyword  crypto  Video_Audio     5   \n",
            "4   Keyword  crypto        Topic     8   \n",
            "5   Keyword  crypto        Topic     3   \n",
            "6   Keyword  crypto        Topic    19   \n",
            "\n",
            "                                start_timestamp_list  \n",
            "0  [13.95, 81.48, 85.29, 93.33, 123.21, 134.52, 2...  \n",
            "1  [4.11, 10.17, 12.27, 26.64, 31.17, 43.14, 101....  \n",
            "2                                    [37.44, 194.49]  \n",
            "3        [3.45, 17.43, 68.94, 90.63, 118.92, 128.25]  \n",
            "4                                                NaN  \n",
            "5                                                NaN  \n",
            "6                                                NaN  \n"
          ]
        }
      ]
    },
    {
      "cell_type": "markdown",
      "source": [
        "# 8.CYTOSCAPE"
      ],
      "metadata": {
        "id": "BVbnD_C5wJGY"
      }
    },
    {
      "cell_type": "code",
      "source": [
        "results = conn.getEdges(\"Video_Audio\", \"1\")\n",
        "topic_id = conn.getEdges(\"Video_Audio\", \"1\")[-1][\"to_id\"]\n",
        "print(topic_id)\n",
        "results = conn.getEdges(\"Topic\", \"1\")\n",
        "#pprint(results)\n",
        "print(\"***** Total Edges for Topic Vertex *******\",len(results))"
      ],
      "metadata": {
        "colab": {
          "base_uri": "https://localhost:8080/"
        },
        "id": "9tN8PGGOwKkK",
        "outputId": "c08c9b64-6fa0-4ab1-857c-84ec3fa3658d"
      },
      "execution_count": null,
      "outputs": [
        {
          "output_type": "stream",
          "name": "stdout",
          "text": [
            "17\n",
            "***** Total Edges for Topic Vertex ******* 17\n"
          ]
        }
      ]
    },
    {
      "cell_type": "code",
      "source": [
        "results = conn.runInstalledQuery(\"video_to_topic\", params={\"vid\": \"1\"})\n",
        "pprint(results)"
      ],
      "metadata": {
        "colab": {
          "base_uri": "https://localhost:8080/"
        },
        "id": "h7paPU9u5C7I",
        "outputId": "f6ab373f-3214-4edc-d86c-0f952b990fe1"
      },
      "execution_count": null,
      "outputs": [
        {
          "output_type": "stream",
          "name": "stdout",
          "text": [
            "[\n",
            "  {\n",
            "    \"@@t_id\": [\n",
            "      17\n",
            "    ]\n",
            "  }\n",
            "]\n"
          ]
        }
      ]
    },
    {
      "cell_type": "code",
      "source": [
        "res = conn.getEdges(\"Topic\", '17')\n",
        "pprint(res)"
      ],
      "metadata": {
        "colab": {
          "base_uri": "https://localhost:8080/"
        },
        "id": "eCcFOvYq1g7q",
        "outputId": "c9cfccca-2972-47fc-d475-af614371f061"
      },
      "execution_count": null,
      "outputs": [
        {
          "output_type": "stream",
          "name": "stdout",
          "text": [
            "[\n",
            "  {\n",
            "    \"e_type\": \"reverse_has_topic\",\n",
            "    \"directed\": true,\n",
            "    \"from_id\": \"17\",\n",
            "    \"from_type\": \"Topic\",\n",
            "    \"to_id\": \"1\",\n",
            "    \"to_type\": \"Video_Audio\",\n",
            "    \"attributes\": {}\n",
            "  },\n",
            "  {\n",
            "    \"e_type\": \"has_topic_keyword\",\n",
            "    \"directed\": true,\n",
            "    \"from_id\": \"17\",\n",
            "    \"from_type\": \"Topic\",\n",
            "    \"to_id\": \"low\",\n",
            "    \"to_type\": \"Keyword\",\n",
            "    \"attributes\": {}\n",
            "  },\n",
            "  {\n",
            "    \"e_type\": \"has_topic_keyword\",\n",
            "    \"directed\": true,\n",
            "    \"from_id\": \"17\",\n",
            "    \"from_type\": \"Topic\",\n",
            "    \"to_id\": \"point\",\n",
            "    \"to_type\": \"Keyword\",\n",
            "    \"attributes\": {}\n",
            "  },\n",
            "  {\n",
            "    \"e_type\": \"has_topic_keyword\",\n",
            "    \"directed\": true,\n",
            "    \"from_id\": \"17\",\n",
            "    \"from_type\": \"Topic\",\n",
            "    \"to_id\": \"star\",\n",
            "    \"to_type\": \"Keyword\",\n",
            "    \"attributes\": {}\n",
            "  },\n",
            "  {\n",
            "    \"e_type\": \"has_topic_keyword\",\n",
            "    \"directed\": true,\n",
            "    \"from_id\": \"17\",\n",
            "    \"from_type\": \"Topic\",\n",
            "    \"to_id\": \"long\",\n",
            "    \"to_type\": \"Keyword\",\n",
            "    \"attributes\": {}\n",
            "  },\n",
            "  {\n",
            "    \"e_type\": \"has_topic_keyword\",\n",
            "    \"directed\": true,\n",
            "    \"from_id\": \"17\",\n",
            "    \"from_type\": \"Topic\",\n",
            "    \"to_id\": \"mass\",\n",
            "    \"to_type\": \"Keyword\",\n",
            "    \"attributes\": {}\n",
            "  },\n",
            "  {\n",
            "    \"e_type\": \"has_topic_keyword\",\n",
            "    \"directed\": true,\n",
            "    \"from_id\": \"17\",\n",
            "    \"from_type\": \"Topic\",\n",
            "    \"to_id\": \"form\",\n",
            "    \"to_type\": \"Keyword\",\n",
            "    \"attributes\": {}\n",
            "  },\n",
            "  {\n",
            "    \"e_type\": \"has_topic_keyword\",\n",
            "    \"directed\": true,\n",
            "    \"from_id\": \"17\",\n",
            "    \"from_type\": \"Topic\",\n",
            "    \"to_id\": \"black\",\n",
            "    \"to_type\": \"Keyword\",\n",
            "    \"attributes\": {}\n",
            "  },\n",
            "  {\n",
            "    \"e_type\": \"has_topic_keyword\",\n",
            "    \"directed\": true,\n",
            "    \"from_id\": \"17\",\n",
            "    \"from_type\": \"Topic\",\n",
            "    \"to_id\": \"pressure\",\n",
            "    \"to_type\": \"Keyword\",\n",
            "    \"attributes\": {}\n",
            "  },\n",
            "  {\n",
            "    \"e_type\": \"has_topic_keyword\",\n",
            "    \"directed\": true,\n",
            "    \"from_id\": \"17\",\n",
            "    \"from_type\": \"Topic\",\n",
            "    \"to_id\": \"white\",\n",
            "    \"to_type\": \"Keyword\",\n",
            "    \"attributes\": {}\n",
            "  },\n",
            "  {\n",
            "    \"e_type\": \"has_topic_keyword\",\n",
            "    \"directed\": true,\n",
            "    \"from_id\": \"17\",\n",
            "    \"from_type\": \"Topic\",\n",
            "    \"to_id\": \"time\",\n",
            "    \"to_type\": \"Keyword\",\n",
            "    \"attributes\": {}\n",
            "  },\n",
            "  {\n",
            "    \"e_type\": \"has_topic_keyword\",\n",
            "    \"directed\": true,\n",
            "    \"from_id\": \"17\",\n",
            "    \"from_type\": \"Topic\",\n",
            "    \"to_id\": \"heat\",\n",
            "    \"to_type\": \"Keyword\",\n",
            "    \"attributes\": {}\n",
            "  },\n",
            "  {\n",
            "    \"e_type\": \"has_topic_keyword\",\n",
            "    \"directed\": true,\n",
            "    \"from_id\": \"17\",\n",
            "    \"from_type\": \"Topic\",\n",
            "    \"to_id\": \"sun\",\n",
            "    \"to_type\": \"Keyword\",\n",
            "    \"attributes\": {}\n",
            "  },\n",
            "  {\n",
            "    \"e_type\": \"has_topic_keyword\",\n",
            "    \"directed\": true,\n",
            "    \"from_id\": \"17\",\n",
            "    \"from_type\": \"Topic\",\n",
            "    \"to_id\": \"light\",\n",
            "    \"to_type\": \"Keyword\",\n",
            "    \"attributes\": {}\n",
            "  },\n",
            "  {\n",
            "    \"e_type\": \"has_topic_keyword\",\n",
            "    \"directed\": true,\n",
            "    \"from_id\": \"17\",\n",
            "    \"from_type\": \"Topic\",\n",
            "    \"to_id\": \"dwarf\",\n",
            "    \"to_type\": \"Keyword\",\n",
            "    \"attributes\": {}\n",
            "  },\n",
            "  {\n",
            "    \"e_type\": \"has_topic_keyword\",\n",
            "    \"directed\": true,\n",
            "    \"from_id\": \"17\",\n",
            "    \"from_type\": \"Topic\",\n",
            "    \"to_id\": \"think\",\n",
            "    \"to_type\": \"Keyword\",\n",
            "    \"attributes\": {}\n",
            "  }\n",
            "]\n"
          ]
        }
      ]
    },
    {
      "cell_type": "markdown",
      "metadata": {
        "id": "AijIsGUr5fDq"
      },
      "source": [
        "#  9.Path Finding\n",
        "Find paths between vertices.\n",
        "\n",
        "Supported are:\n",
        "- shortestPath - one shortest path between vertices\n",
        "- allPaths - all paths within the specified edge limit"
      ]
    },
    {
      "cell_type": "code",
      "metadata": {
        "id": "MxIMRX1x5UPQ",
        "colab": {
          "base_uri": "https://localhost:8080/"
        },
        "outputId": "015fa640-633a-4369-e3d3-bc76f4b3a07d"
      },
      "source": [
        "results = conn.shortestPath([(\"Video_Audio\", \"3\")], [(\"Video_Audio\", \"4\")])\n",
        "pprint(results)"
      ],
      "execution_count": null,
      "outputs": [
        {
          "output_type": "stream",
          "name": "stdout",
          "text": [
            "[{'type': 'Video_Audio', 'id': '3'}]\n",
            "[{'type': 'Video_Audio', 'id': '4'}]\n",
            "[\n",
            "  {\n",
            "    \"vertices\": [\n",
            "      {\n",
            "        \"v_id\": \"coin\",\n",
            "        \"v_type\": \"Keyword\",\n",
            "        \"attributes\": {\n",
            "          \"id\": \"coin\"\n",
            "        }\n",
            "      },\n",
            "      {\n",
            "        \"v_id\": \"3\",\n",
            "        \"v_type\": \"Video_Audio\",\n",
            "        \"attributes\": {\n",
            "          \"id\": 3,\n",
            "          \"Title\": \"crypto\",\n",
            "          \"Youtube_Link\": \"https://www.youtube.com/embed/cHzkLgpzHUc\"\n",
            "        }\n",
            "      },\n",
            "      {\n",
            "        \"v_id\": \"4\",\n",
            "        \"v_type\": \"Video_Audio\",\n",
            "        \"attributes\": {\n",
            "          \"id\": 4,\n",
            "          \"Title\": \"crypto_tax\",\n",
            "          \"Youtube_Link\": \"https://www.youtube.com/embed/674-2Iv82W8\"\n",
            "        }\n",
            "      }\n",
            "    ],\n",
            "    \"edges\": [\n",
            "      {\n",
            "        \"e_type\": \"reverse_has_keyword\",\n",
            "        \"from_id\": \"coin\",\n",
            "        \"from_type\": \"Keyword\",\n",
            "        \"to_id\": \"4\",\n",
            "        \"to_type\": \"Video_Audio\",\n",
            "        \"directed\": true,\n",
            "        \"attributes\": {\n",
            "          \"start_timestamp_list\": [\n",
            "            \"255.48\"\n",
            "          ]\n",
            "        }\n",
            "      },\n",
            "      {\n",
            "        \"e_type\": \"has_keyword\",\n",
            "        \"from_id\": \"3\",\n",
            "        \"from_type\": \"Video_Audio\",\n",
            "        \"to_id\": \"coin\",\n",
            "        \"to_type\": \"Keyword\",\n",
            "        \"directed\": true,\n",
            "        \"attributes\": {\n",
            "          \"start_timestamp_list\": [\n",
            "            \"102.54\",\n",
            "            \"129.78\"\n",
            "          ]\n",
            "        }\n",
            "      }\n",
            "    ]\n",
            "  }\n",
            "]\n"
          ]
        }
      ]
    },
    {
      "cell_type": "markdown",
      "metadata": {
        "id": "QP5kArQPKKKN"
      },
      "source": [
        "# 10.Similarity Algo\n",
        "\n",
        "Jaccard similarity-esque algorithm that will be referenced as a sub-query."
      ]
    },
    {
      "cell_type": "code",
      "metadata": {
        "id": "lhGT8gmKJKEN",
        "colab": {
          "base_uri": "https://localhost:8080/"
        },
        "outputId": "2aa8b884-7532-4cbb-f679-95428f4c0b10"
      },
      "source": [
        "results = conn.gsql('''\n",
        "  USE GRAPH Demo\n",
        "  CREATE QUERY similarity(Set<STRING> A, Set<STRING> B) FOR GRAPH Demo RETURNS (FLOAT){ \n",
        "\tSetAccum<STRING> @@inter, @@uni;\n",
        "\tFLOAT similarity;\n",
        "\t\n",
        "\tIF A.size() != 0 AND B.size() !=0 THEN\n",
        "\t  @@inter = A INTERSECT B;\n",
        "\t  @@uni = A UNION B;\n",
        "\t\n",
        "\t  IF @@inter.size() == 0 THEN\n",
        "\t    similarity = 0;\n",
        "\t  ELSE \n",
        "\t    similarity = @@inter.size()*1.0/@@uni.size();\n",
        "\t    END;\n",
        "\tELSE\n",
        "\t  similarity = 0;\n",
        "\t  END;\n",
        "\t\n",
        "\tPRINT similarity;\n",
        "\tRETURN similarity;\n",
        "}\n",
        "  ''')\n",
        "pprint(results)"
      ],
      "execution_count": null,
      "outputs": [
        {
          "output_type": "stream",
          "name": "stdout",
          "text": [
            "\"Using graph 'Demo'\\nSemantic Check Fails: The query name similarity is used by another object! Please use a different name.\\nFailed to create queries: [similarity].\"\n"
          ]
        }
      ]
    },
    {
      "cell_type": "markdown",
      "source": [
        "# 11.Queries"
      ],
      "metadata": {
        "id": "CZa03k1LsMpf"
      }
    },
    {
      "cell_type": "markdown",
      "source": [
        "### 11.1 Query 1"
      ],
      "metadata": {
        "id": "Cm-Veo9zsOPD"
      }
    },
    {
      "cell_type": "code",
      "source": [
        "results = conn.gsql('''\n",
        "  USE GRAPH Demo\n",
        "  CREATE QUERY topic_keywords_from_Video_Audio(VERTEX<Video_Audio> vid) FOR GRAPH Demo SYNTAX v2 { \n",
        "  \n",
        "  video = {vid};\n",
        "\n",
        "  topic_keywords = SELECT k FROM video:va - (has_topic>) - Topic:t - (has_topic_keyword>) - Keyword:k;\n",
        "\n",
        "  PRINT topic_keywords;\n",
        "  }\n",
        "  ''')\n",
        "pprint(results)"
      ],
      "metadata": {
        "id": "3AFbP2Ay4CtH",
        "colab": {
          "base_uri": "https://localhost:8080/"
        },
        "outputId": "13912df8-5e3f-45af-8510-794ad745dd6d"
      },
      "execution_count": null,
      "outputs": [
        {
          "output_type": "stream",
          "name": "stdout",
          "text": [
            "\"Using graph 'Demo'\\nSemantic Check Fails: The query name topic_keywords_from_Video_Audio is used by another object! Please use a different name.\\nFailed to create queries: [topic_keywords_from_Video_Audio].\"\n"
          ]
        }
      ]
    },
    {
      "cell_type": "code",
      "source": [
        "results = conn.runInstalledQuery(\"topic_keywords_from_Video_Audio\", params={\"vid\": \"4\"})\n",
        "pprint(results)"
      ],
      "metadata": {
        "id": "Od1FAzSzSTGB",
        "colab": {
          "base_uri": "https://localhost:8080/"
        },
        "outputId": "7a78802c-20e7-4788-b788-8868e4ab4035"
      },
      "execution_count": null,
      "outputs": [
        {
          "output_type": "stream",
          "name": "stdout",
          "text": [
            "[\n",
            "  {\n",
            "    \"topic_keywords\": [\n",
            "      {\n",
            "        \"v_id\": \"india\",\n",
            "        \"v_type\": \"Keyword\",\n",
            "        \"attributes\": {\n",
            "          \"id\": \"india\"\n",
            "        }\n",
            "      },\n",
            "      {\n",
            "        \"v_id\": \"crypto\",\n",
            "        \"v_type\": \"Keyword\",\n",
            "        \"attributes\": {\n",
            "          \"id\": \"crypto\"\n",
            "        }\n",
            "      },\n",
            "      {\n",
            "        \"v_id\": \"long\",\n",
            "        \"v_type\": \"Keyword\",\n",
            "        \"attributes\": {\n",
            "          \"id\": \"long\"\n",
            "        }\n",
            "      },\n",
            "      {\n",
            "        \"v_id\": \"study\",\n",
            "        \"v_type\": \"Keyword\",\n",
            "        \"attributes\": {\n",
            "          \"id\": \"study\"\n",
            "        }\n",
            "      },\n",
            "      {\n",
            "        \"v_id\": \"make\",\n",
            "        \"v_type\": \"Keyword\",\n",
            "        \"attributes\": {\n",
            "          \"id\": \"make\"\n",
            "        }\n",
            "      },\n",
            "      {\n",
            "        \"v_id\": \"cryptocurrency\",\n",
            "        \"v_type\": \"Keyword\",\n",
            "        \"attributes\": {\n",
            "          \"id\": \"cryptocurrency\"\n",
            "        }\n",
            "      },\n",
            "      {\n",
            "        \"v_id\": \"thirty\",\n",
            "        \"v_type\": \"Keyword\",\n",
            "        \"attributes\": {\n",
            "          \"id\": \"thirty\"\n",
            "        }\n",
            "      },\n",
            "      {\n",
            "        \"v_id\": \"high\",\n",
            "        \"v_type\": \"Keyword\",\n",
            "        \"attributes\": {\n",
            "          \"id\": \"high\"\n",
            "        }\n",
            "      },\n",
            "      {\n",
            "        \"v_id\": \"need\",\n",
            "        \"v_type\": \"Keyword\",\n",
            "        \"attributes\": {\n",
            "          \"id\": \"need\"\n",
            "        }\n",
            "      },\n",
            "      {\n",
            "        \"v_id\": \"base\",\n",
            "        \"v_type\": \"Keyword\",\n",
            "        \"attributes\": {\n",
            "          \"id\": \"base\"\n",
            "        }\n",
            "      },\n",
            "      {\n",
            "        \"v_id\": \"percent\",\n",
            "        \"v_type\": \"Keyword\",\n",
            "        \"attributes\": {\n",
            "          \"id\": \"percent\"\n",
            "        }\n",
            "      },\n",
            "      {\n",
            "        \"v_id\": \"government\",\n",
            "        \"v_type\": \"Keyword\",\n",
            "        \"attributes\": {\n",
            "          \"id\": \"government\"\n",
            "        }\n",
            "      },\n",
            "      {\n",
            "        \"v_id\": \"transfer\",\n",
            "        \"v_type\": \"Keyword\",\n",
            "        \"attributes\": {\n",
            "          \"id\": \"transfer\"\n",
            "        }\n",
            "      },\n",
            "      {\n",
            "        \"v_id\": \"asset\",\n",
            "        \"v_type\": \"Keyword\",\n",
            "        \"attributes\": {\n",
            "          \"id\": \"asset\"\n",
            "        }\n",
            "      },\n",
            "      {\n",
            "        \"v_id\": \"say\",\n",
            "        \"v_type\": \"Keyword\",\n",
            "        \"attributes\": {\n",
            "          \"id\": \"say\"\n",
            "        }\n",
            "      }\n",
            "    ]\n",
            "  }\n",
            "]\n"
          ]
        }
      ]
    },
    {
      "cell_type": "markdown",
      "source": [
        "### 11.2 Query 2"
      ],
      "metadata": {
        "id": "5WQ0fvJEsP6W"
      }
    },
    {
      "cell_type": "code",
      "source": [
        "results = conn.gsql('''\n",
        "  USE GRAPH Demo\n",
        "  CREATE QUERY keywords_with_timestamp_from_Video_Audio(VERTEX<Video_Audio> vid) FOR GRAPH Demo SYNTAX v2 { \n",
        "  \n",
        "  video = {vid};\n",
        "\n",
        "  keywords_with_timestamp = SELECT k FROM video:va - (has_keyword>some) - Keyword:k;\n",
        "  \n",
        "\n",
        "  PRINT keywords_with_timestamp;\n",
        "  }\n",
        "  ''')\n",
        "pprint(results)"
      ],
      "metadata": {
        "id": "NMXpIK07UmnI",
        "colab": {
          "base_uri": "https://localhost:8080/"
        },
        "outputId": "f847580a-664c-4eec-e979-737868970170"
      },
      "execution_count": null,
      "outputs": [
        {
          "output_type": "stream",
          "name": "stdout",
          "text": [
            "\"Using graph 'Demo'\\nline 7:66 no viable alternative at input 'from video:va - (has_keyword>some'\\nline 7:72 missing ';' at '-'\\nline 7:81 mismatched input ':' expecting {INTERSECT, MINUS, UNION, '%', '&', '+', '-', '*', '/', '.', ';', '>', '|', '<<'}\\nParsing encountered 3 syntax error(s)\\n\\nFailed to create queries: [keywords_with_timestamp_from_Video_Audio].\"\n"
          ]
        }
      ]
    },
    {
      "cell_type": "code",
      "source": [
        "conn.gsql('''\n",
        "  USE GRAPH Demo\n",
        "  INSTALL QUERY keywords_with_timestamp_from_Video_Audio\n",
        "  ''')"
      ],
      "metadata": {
        "id": "bhgj8d4rVEwj",
        "colab": {
          "base_uri": "https://localhost:8080/",
          "height": 35
        },
        "outputId": "3c804f7e-dbb1-49c1-bde3-410a3abe4ade"
      },
      "execution_count": null,
      "outputs": [
        {
          "output_type": "execute_result",
          "data": {
            "text/plain": [
              "\"Using graph 'Demo'\\nSemantic Check Fails: The query keywords_with_timestamp_from_Video_Audio cannot be found!\\nQuery installation failed!\""
            ],
            "application/vnd.google.colaboratory.intrinsic+json": {
              "type": "string"
            }
          },
          "metadata": {},
          "execution_count": 22
        }
      ]
    },
    {
      "cell_type": "code",
      "source": [
        "results = conn.runInstalledQuery(\"keywords_with_timestamp_from_Video_Audio\", params={\"vid\": \"4\"})\n",
        "pprint(results)"
      ],
      "metadata": {
        "id": "TD8UinziVIaZ"
      },
      "execution_count": null,
      "outputs": []
    },
    {
      "cell_type": "markdown",
      "source": [
        "### 11.3 Query 3"
      ],
      "metadata": {
        "id": "4HtDnyI8sROc"
      }
    },
    {
      "cell_type": "code",
      "source": [
        "#Common Keywords\n",
        "results = conn.gsql('''\n",
        "  USE GRAPH Demo\n",
        "  CREATE QUERY Common_Keywords(VERTEX<Video_Audio> vid) FOR GRAPH Demo {\n",
        "\n",
        "    SetAccum<STRING> @@setA, @@setB, @@AintsctB;\n",
        "\n",
        "    video = {vid};\n",
        "    keywords_with_timestamps = SELECT k\n",
        "        FROM video:v - (has_keyword>) - Keyword:k\n",
        "        ACCUM @@setA += k.id;\n",
        "\n",
        "    topic_keyword = SELECT k\n",
        "        FROM video:v - (has_topic>) - Topic - (has_topic_keyword>) - Keyword:k\n",
        "        ACCUM @@setB += k.id;\n",
        "    \n",
        "    @@AintsctB = @@setA INTERSECT @@setB;\n",
        "\n",
        "  PRINT @@setA;\n",
        "  PRINT @@setB;\n",
        "  PRINT @@AintsctB;\n",
        "  }\n",
        "  ''')\n",
        "pprint(results)"
      ],
      "metadata": {
        "id": "W1yMAhEqwRP9"
      },
      "execution_count": null,
      "outputs": []
    },
    {
      "cell_type": "markdown",
      "source": [
        "### 11.4 Query 4"
      ],
      "metadata": {
        "id": "Itkh8jFVmdpf"
      }
    },
    {
      "cell_type": "code",
      "source": [
        "#Unique Keywords\n",
        "results = conn.gsql('''\n",
        "  USE GRAPH Demo\n",
        "  CREATE QUERY Unique_Keywords(VERTEX<Video_Audio> vid) FOR GRAPH Demo {\n",
        "\n",
        "    SetAccum<STRING> @@setA, @@setB, @@AminusB;\n",
        "\n",
        "    video = {vid};\n",
        "    keywords_with_timestamps = SELECT k\n",
        "        FROM video:v - (has_keyword>) - Keyword:k\n",
        "        ACCUM @@setA += k.id;\n",
        "\n",
        "    topic_keyword = SELECT k\n",
        "        FROM video:v - (has_topic>) - Topic - (has_topic_keyword>) - Keyword:k\n",
        "        ACCUM @@setB += k.id;\n",
        "    \n",
        "    @@AminusB = @@setA MINUS @@setB;\n",
        "\n",
        "  PRINT @@setA;\n",
        "  PRINT @@setB;\n",
        "  PRINT @@AminusB;\n",
        "  }\n",
        "  ''')\n",
        "pprint(results)"
      ],
      "metadata": {
        "id": "jQ3MfJcvmkND"
      },
      "execution_count": null,
      "outputs": []
    },
    {
      "cell_type": "markdown",
      "source": [
        "### 11.5 Query 5: Version I\n",
        "\n"
      ],
      "metadata": {
        "id": "QvzT2DErCAEo"
      }
    },
    {
      "cell_type": "code",
      "source": [
        "#Compound Sentiment for each Video containg a particular keyword\n",
        "results = conn.gsql('''\n",
        "CREATE QUERY Keyword_Sentiment_1(VERTEX<Keyword> k) FOR GRAPH Demo {\n",
        "    SetAccum<FLOAT> @@compoundSenti;\n",
        "    keyword = {k};\n",
        "    video_with_keyword = SELECT v\n",
        "        FROM keyword:key - (<has_keyword) - Video_Audio:v;\n",
        "  \n",
        "    video_sentiment = SELECT s\n",
        "        FROM video_with_keyword:v - (has_sentiment>) - Sentiment:s\n",
        "        ACCUM @@compoundSenti += s.compound_sentiment;\n",
        "    \n",
        "  #PRINT video_with_keyword;\n",
        "  #PRINT video_sentiment;\n",
        "  PRINT @@compoundSenti;\n",
        "  }\n",
        "  ''')\n",
        "pprint(results)"
      ],
      "metadata": {
        "id": "ypUP3j48EIOg"
      },
      "execution_count": null,
      "outputs": []
    },
    {
      "cell_type": "markdown",
      "source": [
        "### 11.6 Query 5: Version II"
      ],
      "metadata": {
        "id": "mIP5GDJKW7Ba"
      }
    },
    {
      "cell_type": "code",
      "source": [
        "results = conn.gsql('''\n",
        "CREATE QUERY Keyword_Sentiment_2(SET<VERTEX<Keyword>>k) FOR GRAPH Demo {\n",
        "    SetAccum<FLOAT> @@compoundSent;\n",
        "    keyword = {k};\n",
        "    video_sentiment = SELECT s\n",
        "        FROM keyword:key - (<has_keyword) - Video_Audio:v - (has_sentiment>) - Sentiment: s\n",
        "        ACCUM @@compoundSent += s.compound_sentiment;\n",
        "    \n",
        "  #PRINT video_sentiment;\n",
        "  #PRINT @@compoundSent;\n",
        "  PRINT avg(@@compoundSent);\n",
        "  }\n",
        "  ''')\n",
        "pprint(results)"
      ],
      "metadata": {
        "id": "62S-ENOWW9qF"
      },
      "execution_count": null,
      "outputs": []
    },
    {
      "cell_type": "code",
      "source": [
        "results = conn.runInstalledQuery(\"Keyword_Sentiment_2\", params={'k':'small', 'k':'elephant'})#How to send set in the para\n",
        "pprint(results)"
      ],
      "metadata": {
        "id": "5tb1uCl43niI"
      },
      "execution_count": null,
      "outputs": []
    },
    {
      "cell_type": "markdown",
      "source": [
        "### 11.7 Drop Query"
      ],
      "metadata": {
        "id": "05Zhpv4cWqNa"
      }
    },
    {
      "cell_type": "code",
      "source": [
        "res = conn.gsql('''\n",
        "    USE GRAPH Demo\n",
        "    BEGIN\n",
        "    DROP QUERY keywords_with_timestamp_from_Video_Audio\n",
        "    END\n",
        "    ''')\n",
        "print(res)"
      ],
      "metadata": {
        "id": "VzhFFgI1Ws5K"
      },
      "execution_count": null,
      "outputs": []
    },
    {
      "cell_type": "markdown",
      "source": [
        "#### Preprocessing"
      ],
      "metadata": {
        "id": "A6fvNq-txvRe"
      }
    },
    {
      "cell_type": "code",
      "source": [
        "df1=df.drop(df.columns[[2]],axis=1)\n",
        "\n",
        "df1.to_csv('topic_vertex_data.csv',index=False)\n",
        "df1"
      ],
      "metadata": {
        "id": "V7Jm45R9xxYL"
      },
      "execution_count": null,
      "outputs": []
    },
    {
      "cell_type": "code",
      "source": [
        "df2=df.drop(df.columns[[0]],axis=1)\n",
        "df2.to_csv('topic_keywords_vertex_data.csv',index=False)\n",
        "df2"
      ],
      "metadata": {
        "id": "HManQlNpyOtk"
      },
      "execution_count": null,
      "outputs": []
    },
    {
      "cell_type": "code",
      "source": [
        "lst=['99.99','12.34','34.45']\n",
        "lst=list(map(float,lst))\n",
        "lst=list(map(int,lst))\n",
        "lst=sorted(lst)\n",
        "lst"
      ],
      "metadata": {
        "id": "8ij56PxewNFe"
      },
      "execution_count": null,
      "outputs": []
    },
    {
      "cell_type": "markdown",
      "source": [
        "### 11.8 Query 6\n"
      ],
      "metadata": {
        "id": "sNuRphYHOtO1"
      }
    },
    {
      "cell_type": "markdown",
      "source": [
        "# 12.Visualizations Page Dropdown"
      ],
      "metadata": {
        "id": "SE9G735LzL-0"
      }
    },
    {
      "cell_type": "code",
      "source": [
        "tdf1 = conn.getVerticesById(\"Video_Audio\", [str(i) for i in range (25)])\n",
        "\n",
        "# pprint(tdf1)\n",
        "df3 = conn.vertexSetToDataFrame(tdf1)\n",
        "list1=df3['v_id']\n",
        "list2=df3['Title']\n",
        "# print(list1,list2)\n",
        "output=df3.set_index('v_id').to_dict()['Title']\n",
        "display(output)"
      ],
      "metadata": {
        "colab": {
          "base_uri": "https://localhost:8080/",
          "height": 470
        },
        "id": "ZEdea2QiybPM",
        "outputId": "84064908-e7c2-4c80-9a28-37da01a6ec62"
      },
      "execution_count": null,
      "outputs": [
        {
          "output_type": "display_data",
          "data": {
            "text/plain": [
              "{'0': 'astronomy',\n",
              " '1': 'white_dwarf',\n",
              " '10': 'elephant',\n",
              " '11': 'fd_mutual_finance',\n",
              " '12': 'finance',\n",
              " '13': 'jeffrey_archer',\n",
              " '14': 'mammoth',\n",
              " '15': 'murakami',\n",
              " '16': 'mutual_funds',\n",
              " '17': 'paulo_coelho',\n",
              " '18': 'penguin',\n",
              " '19': 'animal_farm',\n",
              " '2': 'chimp',\n",
              " '20': 'shakespeare',\n",
              " '21': 'snow_bunting',\n",
              " '22': 'super_nova',\n",
              " '23': 'vaccine_news',\n",
              " '24': 'whale',\n",
              " '3': 'crypto',\n",
              " '4': 'crypto_tax',\n",
              " '5': 'crypto_means',\n",
              " '6': 'digital_token',\n",
              " '7': 'cryptocurrency',\n",
              " '8': 'dodo',\n",
              " '9': 'dolphin'}"
            ]
          },
          "metadata": {}
        }
      ]
    }
  ]
}